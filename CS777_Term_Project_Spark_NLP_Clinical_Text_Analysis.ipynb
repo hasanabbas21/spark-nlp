{
  "nbformat": 4,
  "nbformat_minor": 0,
  "metadata": {
    "colab": {
      "name": "CS777 Term Project Spark NLP Clinical Text Analysis.ipynb",
      "provenance": [],
      "collapsed_sections": [],
      "toc_visible": true,
      "authorship_tag": "ABX9TyPaSYHvg0Y+/5flPE96urnX",
      "include_colab_link": true
    },
    "kernelspec": {
      "name": "python3",
      "display_name": "Python 3"
    },
    "language_info": {
      "name": "python"
    },
    "widgets": {
      "application/vnd.jupyter.widget-state+json": {
        "41d6cd49054649b4b1b64d84611a915e": {
          "model_module": "@jupyter-widgets/controls",
          "model_name": "HBoxModel",
          "state": {
            "_view_name": "HBoxView",
            "_dom_classes": [],
            "_model_name": "HBoxModel",
            "_view_module": "@jupyter-widgets/controls",
            "_model_module_version": "1.5.0",
            "_view_count": null,
            "_view_module_version": "1.5.0",
            "box_style": "",
            "layout": "IPY_MODEL_3642979f37ab45c5a7eeb13a2f474f53",
            "_model_module": "@jupyter-widgets/controls",
            "children": [
              "IPY_MODEL_2b1bf0323b974d218d5ac63144304445",
              "IPY_MODEL_0113e58f91fd436fa1805550ee81d57a"
            ]
          }
        },
        "3642979f37ab45c5a7eeb13a2f474f53": {
          "model_module": "@jupyter-widgets/base",
          "model_name": "LayoutModel",
          "state": {
            "_view_name": "LayoutView",
            "grid_template_rows": null,
            "right": null,
            "justify_content": null,
            "_view_module": "@jupyter-widgets/base",
            "overflow": null,
            "_model_module_version": "1.2.0",
            "_view_count": null,
            "flex_flow": null,
            "width": null,
            "min_width": null,
            "border": null,
            "align_items": null,
            "bottom": null,
            "_model_module": "@jupyter-widgets/base",
            "top": null,
            "grid_column": null,
            "overflow_y": null,
            "overflow_x": null,
            "grid_auto_flow": null,
            "grid_area": null,
            "grid_template_columns": null,
            "flex": null,
            "_model_name": "LayoutModel",
            "justify_items": null,
            "grid_row": null,
            "max_height": null,
            "align_content": null,
            "visibility": null,
            "align_self": null,
            "height": null,
            "min_height": null,
            "padding": null,
            "grid_auto_rows": null,
            "grid_gap": null,
            "max_width": null,
            "order": null,
            "_view_module_version": "1.2.0",
            "grid_template_areas": null,
            "object_position": null,
            "object_fit": null,
            "grid_auto_columns": null,
            "margin": null,
            "display": null,
            "left": null
          }
        },
        "2b1bf0323b974d218d5ac63144304445": {
          "model_module": "@jupyter-widgets/controls",
          "model_name": "FloatProgressModel",
          "state": {
            "_view_name": "ProgressView",
            "style": "IPY_MODEL_4b5dd94771454bb3a7c2bb2470d4203f",
            "_dom_classes": [],
            "description": "Downloading: ",
            "_model_name": "FloatProgressModel",
            "bar_style": "success",
            "max": 3020,
            "_view_module": "@jupyter-widgets/controls",
            "_model_module_version": "1.5.0",
            "value": 3020,
            "_view_count": null,
            "_view_module_version": "1.5.0",
            "orientation": "horizontal",
            "min": 0,
            "description_tooltip": null,
            "_model_module": "@jupyter-widgets/controls",
            "layout": "IPY_MODEL_3f329753aa9c4c6fb89a562201b52dd5"
          }
        },
        "0113e58f91fd436fa1805550ee81d57a": {
          "model_module": "@jupyter-widgets/controls",
          "model_name": "HTMLModel",
          "state": {
            "_view_name": "HTMLView",
            "style": "IPY_MODEL_7f13e1f1acf54709a49c84f02047d964",
            "_dom_classes": [],
            "description": "",
            "_model_name": "HTMLModel",
            "placeholder": "​",
            "_view_module": "@jupyter-widgets/controls",
            "_model_module_version": "1.5.0",
            "value": " 11.7k/? [00:02&lt;00:00, 4.77kB/s]",
            "_view_count": null,
            "_view_module_version": "1.5.0",
            "description_tooltip": null,
            "_model_module": "@jupyter-widgets/controls",
            "layout": "IPY_MODEL_0a59ddb4fdb04a75b2529e3d0e06d310"
          }
        },
        "4b5dd94771454bb3a7c2bb2470d4203f": {
          "model_module": "@jupyter-widgets/controls",
          "model_name": "ProgressStyleModel",
          "state": {
            "_view_name": "StyleView",
            "_model_name": "ProgressStyleModel",
            "description_width": "initial",
            "_view_module": "@jupyter-widgets/base",
            "_model_module_version": "1.5.0",
            "_view_count": null,
            "_view_module_version": "1.2.0",
            "bar_color": null,
            "_model_module": "@jupyter-widgets/controls"
          }
        },
        "3f329753aa9c4c6fb89a562201b52dd5": {
          "model_module": "@jupyter-widgets/base",
          "model_name": "LayoutModel",
          "state": {
            "_view_name": "LayoutView",
            "grid_template_rows": null,
            "right": null,
            "justify_content": null,
            "_view_module": "@jupyter-widgets/base",
            "overflow": null,
            "_model_module_version": "1.2.0",
            "_view_count": null,
            "flex_flow": null,
            "width": null,
            "min_width": null,
            "border": null,
            "align_items": null,
            "bottom": null,
            "_model_module": "@jupyter-widgets/base",
            "top": null,
            "grid_column": null,
            "overflow_y": null,
            "overflow_x": null,
            "grid_auto_flow": null,
            "grid_area": null,
            "grid_template_columns": null,
            "flex": null,
            "_model_name": "LayoutModel",
            "justify_items": null,
            "grid_row": null,
            "max_height": null,
            "align_content": null,
            "visibility": null,
            "align_self": null,
            "height": null,
            "min_height": null,
            "padding": null,
            "grid_auto_rows": null,
            "grid_gap": null,
            "max_width": null,
            "order": null,
            "_view_module_version": "1.2.0",
            "grid_template_areas": null,
            "object_position": null,
            "object_fit": null,
            "grid_auto_columns": null,
            "margin": null,
            "display": null,
            "left": null
          }
        },
        "7f13e1f1acf54709a49c84f02047d964": {
          "model_module": "@jupyter-widgets/controls",
          "model_name": "DescriptionStyleModel",
          "state": {
            "_view_name": "StyleView",
            "_model_name": "DescriptionStyleModel",
            "description_width": "",
            "_view_module": "@jupyter-widgets/base",
            "_model_module_version": "1.5.0",
            "_view_count": null,
            "_view_module_version": "1.2.0",
            "_model_module": "@jupyter-widgets/controls"
          }
        },
        "0a59ddb4fdb04a75b2529e3d0e06d310": {
          "model_module": "@jupyter-widgets/base",
          "model_name": "LayoutModel",
          "state": {
            "_view_name": "LayoutView",
            "grid_template_rows": null,
            "right": null,
            "justify_content": null,
            "_view_module": "@jupyter-widgets/base",
            "overflow": null,
            "_model_module_version": "1.2.0",
            "_view_count": null,
            "flex_flow": null,
            "width": null,
            "min_width": null,
            "border": null,
            "align_items": null,
            "bottom": null,
            "_model_module": "@jupyter-widgets/base",
            "top": null,
            "grid_column": null,
            "overflow_y": null,
            "overflow_x": null,
            "grid_auto_flow": null,
            "grid_area": null,
            "grid_template_columns": null,
            "flex": null,
            "_model_name": "LayoutModel",
            "justify_items": null,
            "grid_row": null,
            "max_height": null,
            "align_content": null,
            "visibility": null,
            "align_self": null,
            "height": null,
            "min_height": null,
            "padding": null,
            "grid_auto_rows": null,
            "grid_gap": null,
            "max_width": null,
            "order": null,
            "_view_module_version": "1.2.0",
            "grid_template_areas": null,
            "object_position": null,
            "object_fit": null,
            "grid_auto_columns": null,
            "margin": null,
            "display": null,
            "left": null
          }
        },
        "9323a59dde3d4427aa2f4125c0d1d11f": {
          "model_module": "@jupyter-widgets/controls",
          "model_name": "HBoxModel",
          "state": {
            "_view_name": "HBoxView",
            "_dom_classes": [],
            "_model_name": "HBoxModel",
            "_view_module": "@jupyter-widgets/controls",
            "_model_module_version": "1.5.0",
            "_view_count": null,
            "_view_module_version": "1.5.0",
            "box_style": "",
            "layout": "IPY_MODEL_e2e0b8a5f76d4d91b4a74d78d49d8702",
            "_model_module": "@jupyter-widgets/controls",
            "children": [
              "IPY_MODEL_24c915e3b3884aa6a1416e4ca7ab9956",
              "IPY_MODEL_d005238459104e529fcc8b4005146f2c"
            ]
          }
        },
        "e2e0b8a5f76d4d91b4a74d78d49d8702": {
          "model_module": "@jupyter-widgets/base",
          "model_name": "LayoutModel",
          "state": {
            "_view_name": "LayoutView",
            "grid_template_rows": null,
            "right": null,
            "justify_content": null,
            "_view_module": "@jupyter-widgets/base",
            "overflow": null,
            "_model_module_version": "1.2.0",
            "_view_count": null,
            "flex_flow": null,
            "width": null,
            "min_width": null,
            "border": null,
            "align_items": null,
            "bottom": null,
            "_model_module": "@jupyter-widgets/base",
            "top": null,
            "grid_column": null,
            "overflow_y": null,
            "overflow_x": null,
            "grid_auto_flow": null,
            "grid_area": null,
            "grid_template_columns": null,
            "flex": null,
            "_model_name": "LayoutModel",
            "justify_items": null,
            "grid_row": null,
            "max_height": null,
            "align_content": null,
            "visibility": null,
            "align_self": null,
            "height": null,
            "min_height": null,
            "padding": null,
            "grid_auto_rows": null,
            "grid_gap": null,
            "max_width": null,
            "order": null,
            "_view_module_version": "1.2.0",
            "grid_template_areas": null,
            "object_position": null,
            "object_fit": null,
            "grid_auto_columns": null,
            "margin": null,
            "display": null,
            "left": null
          }
        },
        "24c915e3b3884aa6a1416e4ca7ab9956": {
          "model_module": "@jupyter-widgets/controls",
          "model_name": "FloatProgressModel",
          "state": {
            "_view_name": "ProgressView",
            "style": "IPY_MODEL_e6bae5e82a9449abbcb4c5576897aa82",
            "_dom_classes": [],
            "description": "Downloading: ",
            "_model_name": "FloatProgressModel",
            "bar_style": "success",
            "max": 1917,
            "_view_module": "@jupyter-widgets/controls",
            "_model_module_version": "1.5.0",
            "value": 1917,
            "_view_count": null,
            "_view_module_version": "1.5.0",
            "orientation": "horizontal",
            "min": 0,
            "description_tooltip": null,
            "_model_module": "@jupyter-widgets/controls",
            "layout": "IPY_MODEL_091ed32b31514d6a9b2e6b8fdd64abf4"
          }
        },
        "d005238459104e529fcc8b4005146f2c": {
          "model_module": "@jupyter-widgets/controls",
          "model_name": "HTMLModel",
          "state": {
            "_view_name": "HTMLView",
            "style": "IPY_MODEL_1cb44176321b4e659bcbfec7436cbf20",
            "_dom_classes": [],
            "description": "",
            "_model_name": "HTMLModel",
            "placeholder": "​",
            "_view_module": "@jupyter-widgets/controls",
            "_model_module_version": "1.5.0",
            "value": " 11.9k/? [00:00&lt;00:00, 94.1kB/s]",
            "_view_count": null,
            "_view_module_version": "1.5.0",
            "description_tooltip": null,
            "_model_module": "@jupyter-widgets/controls",
            "layout": "IPY_MODEL_7184c4163c974c579b5bc7e16c446d48"
          }
        },
        "e6bae5e82a9449abbcb4c5576897aa82": {
          "model_module": "@jupyter-widgets/controls",
          "model_name": "ProgressStyleModel",
          "state": {
            "_view_name": "StyleView",
            "_model_name": "ProgressStyleModel",
            "description_width": "initial",
            "_view_module": "@jupyter-widgets/base",
            "_model_module_version": "1.5.0",
            "_view_count": null,
            "_view_module_version": "1.2.0",
            "bar_color": null,
            "_model_module": "@jupyter-widgets/controls"
          }
        },
        "091ed32b31514d6a9b2e6b8fdd64abf4": {
          "model_module": "@jupyter-widgets/base",
          "model_name": "LayoutModel",
          "state": {
            "_view_name": "LayoutView",
            "grid_template_rows": null,
            "right": null,
            "justify_content": null,
            "_view_module": "@jupyter-widgets/base",
            "overflow": null,
            "_model_module_version": "1.2.0",
            "_view_count": null,
            "flex_flow": null,
            "width": null,
            "min_width": null,
            "border": null,
            "align_items": null,
            "bottom": null,
            "_model_module": "@jupyter-widgets/base",
            "top": null,
            "grid_column": null,
            "overflow_y": null,
            "overflow_x": null,
            "grid_auto_flow": null,
            "grid_area": null,
            "grid_template_columns": null,
            "flex": null,
            "_model_name": "LayoutModel",
            "justify_items": null,
            "grid_row": null,
            "max_height": null,
            "align_content": null,
            "visibility": null,
            "align_self": null,
            "height": null,
            "min_height": null,
            "padding": null,
            "grid_auto_rows": null,
            "grid_gap": null,
            "max_width": null,
            "order": null,
            "_view_module_version": "1.2.0",
            "grid_template_areas": null,
            "object_position": null,
            "object_fit": null,
            "grid_auto_columns": null,
            "margin": null,
            "display": null,
            "left": null
          }
        },
        "1cb44176321b4e659bcbfec7436cbf20": {
          "model_module": "@jupyter-widgets/controls",
          "model_name": "DescriptionStyleModel",
          "state": {
            "_view_name": "StyleView",
            "_model_name": "DescriptionStyleModel",
            "description_width": "",
            "_view_module": "@jupyter-widgets/base",
            "_model_module_version": "1.5.0",
            "_view_count": null,
            "_view_module_version": "1.2.0",
            "_model_module": "@jupyter-widgets/controls"
          }
        },
        "7184c4163c974c579b5bc7e16c446d48": {
          "model_module": "@jupyter-widgets/base",
          "model_name": "LayoutModel",
          "state": {
            "_view_name": "LayoutView",
            "grid_template_rows": null,
            "right": null,
            "justify_content": null,
            "_view_module": "@jupyter-widgets/base",
            "overflow": null,
            "_model_module_version": "1.2.0",
            "_view_count": null,
            "flex_flow": null,
            "width": null,
            "min_width": null,
            "border": null,
            "align_items": null,
            "bottom": null,
            "_model_module": "@jupyter-widgets/base",
            "top": null,
            "grid_column": null,
            "overflow_y": null,
            "overflow_x": null,
            "grid_auto_flow": null,
            "grid_area": null,
            "grid_template_columns": null,
            "flex": null,
            "_model_name": "LayoutModel",
            "justify_items": null,
            "grid_row": null,
            "max_height": null,
            "align_content": null,
            "visibility": null,
            "align_self": null,
            "height": null,
            "min_height": null,
            "padding": null,
            "grid_auto_rows": null,
            "grid_gap": null,
            "max_width": null,
            "order": null,
            "_view_module_version": "1.2.0",
            "grid_template_areas": null,
            "object_position": null,
            "object_fit": null,
            "grid_auto_columns": null,
            "margin": null,
            "display": null,
            "left": null
          }
        },
        "4e1310251b8644f6b8e24fe3e2066ced": {
          "model_module": "@jupyter-widgets/controls",
          "model_name": "HBoxModel",
          "state": {
            "_view_name": "HBoxView",
            "_dom_classes": [],
            "_model_name": "HBoxModel",
            "_view_module": "@jupyter-widgets/controls",
            "_model_module_version": "1.5.0",
            "_view_count": null,
            "_view_module_version": "1.5.0",
            "box_style": "",
            "layout": "IPY_MODEL_fe53f80caabb4bf59b2ae6f2a6912ddb",
            "_model_module": "@jupyter-widgets/controls",
            "children": [
              "IPY_MODEL_cd3cf000248e4fa48e325dfc42f20c54",
              "IPY_MODEL_c3596845da1e4abb9ed158448960f165"
            ]
          }
        },
        "fe53f80caabb4bf59b2ae6f2a6912ddb": {
          "model_module": "@jupyter-widgets/base",
          "model_name": "LayoutModel",
          "state": {
            "_view_name": "LayoutView",
            "grid_template_rows": null,
            "right": null,
            "justify_content": null,
            "_view_module": "@jupyter-widgets/base",
            "overflow": null,
            "_model_module_version": "1.2.0",
            "_view_count": null,
            "flex_flow": null,
            "width": null,
            "min_width": null,
            "border": null,
            "align_items": null,
            "bottom": null,
            "_model_module": "@jupyter-widgets/base",
            "top": null,
            "grid_column": null,
            "overflow_y": null,
            "overflow_x": null,
            "grid_auto_flow": null,
            "grid_area": null,
            "grid_template_columns": null,
            "flex": null,
            "_model_name": "LayoutModel",
            "justify_items": null,
            "grid_row": null,
            "max_height": null,
            "align_content": null,
            "visibility": null,
            "align_self": null,
            "height": null,
            "min_height": null,
            "padding": null,
            "grid_auto_rows": null,
            "grid_gap": null,
            "max_width": null,
            "order": null,
            "_view_module_version": "1.2.0",
            "grid_template_areas": null,
            "object_position": null,
            "object_fit": null,
            "grid_auto_columns": null,
            "margin": null,
            "display": null,
            "left": null
          }
        },
        "cd3cf000248e4fa48e325dfc42f20c54": {
          "model_module": "@jupyter-widgets/controls",
          "model_name": "FloatProgressModel",
          "state": {
            "_view_name": "ProgressView",
            "style": "IPY_MODEL_8d31e25906144512bd31c161b1924c81",
            "_dom_classes": [],
            "description": "Downloading: ",
            "_model_name": "FloatProgressModel",
            "bar_style": "success",
            "max": 306554,
            "_view_module": "@jupyter-widgets/controls",
            "_model_module_version": "1.5.0",
            "value": 306554,
            "_view_count": null,
            "_view_module_version": "1.5.0",
            "orientation": "horizontal",
            "min": 0,
            "description_tooltip": null,
            "_model_module": "@jupyter-widgets/controls",
            "layout": "IPY_MODEL_33021e9dcc4c4c1aa9f309bf1b2ea1c3"
          }
        },
        "c3596845da1e4abb9ed158448960f165": {
          "model_module": "@jupyter-widgets/controls",
          "model_name": "HTMLModel",
          "state": {
            "_view_name": "HTMLView",
            "style": "IPY_MODEL_af4fae58c67e4259b995029dac0f90cd",
            "_dom_classes": [],
            "description": "",
            "_model_name": "HTMLModel",
            "placeholder": "​",
            "_view_module": "@jupyter-widgets/controls",
            "_model_module_version": "1.5.0",
            "value": " 1.42M/? [00:00&lt;00:00, 3.04MB/s]",
            "_view_count": null,
            "_view_module_version": "1.5.0",
            "description_tooltip": null,
            "_model_module": "@jupyter-widgets/controls",
            "layout": "IPY_MODEL_c241cc4b1df44711ba3c83e74e98b74a"
          }
        },
        "8d31e25906144512bd31c161b1924c81": {
          "model_module": "@jupyter-widgets/controls",
          "model_name": "ProgressStyleModel",
          "state": {
            "_view_name": "StyleView",
            "_model_name": "ProgressStyleModel",
            "description_width": "initial",
            "_view_module": "@jupyter-widgets/base",
            "_model_module_version": "1.5.0",
            "_view_count": null,
            "_view_module_version": "1.2.0",
            "bar_color": null,
            "_model_module": "@jupyter-widgets/controls"
          }
        },
        "33021e9dcc4c4c1aa9f309bf1b2ea1c3": {
          "model_module": "@jupyter-widgets/base",
          "model_name": "LayoutModel",
          "state": {
            "_view_name": "LayoutView",
            "grid_template_rows": null,
            "right": null,
            "justify_content": null,
            "_view_module": "@jupyter-widgets/base",
            "overflow": null,
            "_model_module_version": "1.2.0",
            "_view_count": null,
            "flex_flow": null,
            "width": null,
            "min_width": null,
            "border": null,
            "align_items": null,
            "bottom": null,
            "_model_module": "@jupyter-widgets/base",
            "top": null,
            "grid_column": null,
            "overflow_y": null,
            "overflow_x": null,
            "grid_auto_flow": null,
            "grid_area": null,
            "grid_template_columns": null,
            "flex": null,
            "_model_name": "LayoutModel",
            "justify_items": null,
            "grid_row": null,
            "max_height": null,
            "align_content": null,
            "visibility": null,
            "align_self": null,
            "height": null,
            "min_height": null,
            "padding": null,
            "grid_auto_rows": null,
            "grid_gap": null,
            "max_width": null,
            "order": null,
            "_view_module_version": "1.2.0",
            "grid_template_areas": null,
            "object_position": null,
            "object_fit": null,
            "grid_auto_columns": null,
            "margin": null,
            "display": null,
            "left": null
          }
        },
        "af4fae58c67e4259b995029dac0f90cd": {
          "model_module": "@jupyter-widgets/controls",
          "model_name": "DescriptionStyleModel",
          "state": {
            "_view_name": "StyleView",
            "_model_name": "DescriptionStyleModel",
            "description_width": "",
            "_view_module": "@jupyter-widgets/base",
            "_model_module_version": "1.5.0",
            "_view_count": null,
            "_view_module_version": "1.2.0",
            "_model_module": "@jupyter-widgets/controls"
          }
        },
        "c241cc4b1df44711ba3c83e74e98b74a": {
          "model_module": "@jupyter-widgets/base",
          "model_name": "LayoutModel",
          "state": {
            "_view_name": "LayoutView",
            "grid_template_rows": null,
            "right": null,
            "justify_content": null,
            "_view_module": "@jupyter-widgets/base",
            "overflow": null,
            "_model_module_version": "1.2.0",
            "_view_count": null,
            "flex_flow": null,
            "width": null,
            "min_width": null,
            "border": null,
            "align_items": null,
            "bottom": null,
            "_model_module": "@jupyter-widgets/base",
            "top": null,
            "grid_column": null,
            "overflow_y": null,
            "overflow_x": null,
            "grid_auto_flow": null,
            "grid_area": null,
            "grid_template_columns": null,
            "flex": null,
            "_model_name": "LayoutModel",
            "justify_items": null,
            "grid_row": null,
            "max_height": null,
            "align_content": null,
            "visibility": null,
            "align_self": null,
            "height": null,
            "min_height": null,
            "padding": null,
            "grid_auto_rows": null,
            "grid_gap": null,
            "max_width": null,
            "order": null,
            "_view_module_version": "1.2.0",
            "grid_template_areas": null,
            "object_position": null,
            "object_fit": null,
            "grid_auto_columns": null,
            "margin": null,
            "display": null,
            "left": null
          }
        },
        "c217a9598be4402da5005afb56f61860": {
          "model_module": "@jupyter-widgets/controls",
          "model_name": "HBoxModel",
          "state": {
            "_view_name": "HBoxView",
            "_dom_classes": [],
            "_model_name": "HBoxModel",
            "_view_module": "@jupyter-widgets/controls",
            "_model_module_version": "1.5.0",
            "_view_count": null,
            "_view_module_version": "1.5.0",
            "box_style": "",
            "layout": "IPY_MODEL_be9a88fb6beb467eaf079a48dc0e982a",
            "_model_module": "@jupyter-widgets/controls",
            "children": [
              "IPY_MODEL_749e35f993f243ba8c06f4f3486d3894",
              "IPY_MODEL_ab3768b658784bb0b353e8c00dde6669"
            ]
          }
        },
        "be9a88fb6beb467eaf079a48dc0e982a": {
          "model_module": "@jupyter-widgets/base",
          "model_name": "LayoutModel",
          "state": {
            "_view_name": "LayoutView",
            "grid_template_rows": null,
            "right": null,
            "justify_content": null,
            "_view_module": "@jupyter-widgets/base",
            "overflow": null,
            "_model_module_version": "1.2.0",
            "_view_count": null,
            "flex_flow": null,
            "width": null,
            "min_width": null,
            "border": null,
            "align_items": null,
            "bottom": null,
            "_model_module": "@jupyter-widgets/base",
            "top": null,
            "grid_column": null,
            "overflow_y": null,
            "overflow_x": null,
            "grid_auto_flow": null,
            "grid_area": null,
            "grid_template_columns": null,
            "flex": null,
            "_model_name": "LayoutModel",
            "justify_items": null,
            "grid_row": null,
            "max_height": null,
            "align_content": null,
            "visibility": null,
            "align_self": null,
            "height": null,
            "min_height": null,
            "padding": null,
            "grid_auto_rows": null,
            "grid_gap": null,
            "max_width": null,
            "order": null,
            "_view_module_version": "1.2.0",
            "grid_template_areas": null,
            "object_position": null,
            "object_fit": null,
            "grid_auto_columns": null,
            "margin": null,
            "display": null,
            "left": null
          }
        },
        "749e35f993f243ba8c06f4f3486d3894": {
          "model_module": "@jupyter-widgets/controls",
          "model_name": "FloatProgressModel",
          "state": {
            "_view_name": "ProgressView",
            "style": "IPY_MODEL_bd569bbc64f94202af426eb8b20a296f",
            "_dom_classes": [],
            "description": "Downloading: ",
            "_model_name": "FloatProgressModel",
            "bar_style": "success",
            "max": 18007,
            "_view_module": "@jupyter-widgets/controls",
            "_model_module_version": "1.5.0",
            "value": 18007,
            "_view_count": null,
            "_view_module_version": "1.5.0",
            "orientation": "horizontal",
            "min": 0,
            "description_tooltip": null,
            "_model_module": "@jupyter-widgets/controls",
            "layout": "IPY_MODEL_a9fce10bcb57437ea912fec386cd4d8b"
          }
        },
        "ab3768b658784bb0b353e8c00dde6669": {
          "model_module": "@jupyter-widgets/controls",
          "model_name": "HTMLModel",
          "state": {
            "_view_name": "HTMLView",
            "style": "IPY_MODEL_63213c0f8ea34cc892a6bdbca81ddb91",
            "_dom_classes": [],
            "description": "",
            "_model_name": "HTMLModel",
            "placeholder": "​",
            "_view_module": "@jupyter-widgets/controls",
            "_model_module_version": "1.5.0",
            "value": " 59.7k/? [00:00&lt;00:00, 516kB/s]",
            "_view_count": null,
            "_view_module_version": "1.5.0",
            "description_tooltip": null,
            "_model_module": "@jupyter-widgets/controls",
            "layout": "IPY_MODEL_57ec57f5511d49caa61f0630c6f50b04"
          }
        },
        "bd569bbc64f94202af426eb8b20a296f": {
          "model_module": "@jupyter-widgets/controls",
          "model_name": "ProgressStyleModel",
          "state": {
            "_view_name": "StyleView",
            "_model_name": "ProgressStyleModel",
            "description_width": "initial",
            "_view_module": "@jupyter-widgets/base",
            "_model_module_version": "1.5.0",
            "_view_count": null,
            "_view_module_version": "1.2.0",
            "bar_color": null,
            "_model_module": "@jupyter-widgets/controls"
          }
        },
        "a9fce10bcb57437ea912fec386cd4d8b": {
          "model_module": "@jupyter-widgets/base",
          "model_name": "LayoutModel",
          "state": {
            "_view_name": "LayoutView",
            "grid_template_rows": null,
            "right": null,
            "justify_content": null,
            "_view_module": "@jupyter-widgets/base",
            "overflow": null,
            "_model_module_version": "1.2.0",
            "_view_count": null,
            "flex_flow": null,
            "width": null,
            "min_width": null,
            "border": null,
            "align_items": null,
            "bottom": null,
            "_model_module": "@jupyter-widgets/base",
            "top": null,
            "grid_column": null,
            "overflow_y": null,
            "overflow_x": null,
            "grid_auto_flow": null,
            "grid_area": null,
            "grid_template_columns": null,
            "flex": null,
            "_model_name": "LayoutModel",
            "justify_items": null,
            "grid_row": null,
            "max_height": null,
            "align_content": null,
            "visibility": null,
            "align_self": null,
            "height": null,
            "min_height": null,
            "padding": null,
            "grid_auto_rows": null,
            "grid_gap": null,
            "max_width": null,
            "order": null,
            "_view_module_version": "1.2.0",
            "grid_template_areas": null,
            "object_position": null,
            "object_fit": null,
            "grid_auto_columns": null,
            "margin": null,
            "display": null,
            "left": null
          }
        },
        "63213c0f8ea34cc892a6bdbca81ddb91": {
          "model_module": "@jupyter-widgets/controls",
          "model_name": "DescriptionStyleModel",
          "state": {
            "_view_name": "StyleView",
            "_model_name": "DescriptionStyleModel",
            "description_width": "",
            "_view_module": "@jupyter-widgets/base",
            "_model_module_version": "1.5.0",
            "_view_count": null,
            "_view_module_version": "1.2.0",
            "_model_module": "@jupyter-widgets/controls"
          }
        },
        "57ec57f5511d49caa61f0630c6f50b04": {
          "model_module": "@jupyter-widgets/base",
          "model_name": "LayoutModel",
          "state": {
            "_view_name": "LayoutView",
            "grid_template_rows": null,
            "right": null,
            "justify_content": null,
            "_view_module": "@jupyter-widgets/base",
            "overflow": null,
            "_model_module_version": "1.2.0",
            "_view_count": null,
            "flex_flow": null,
            "width": null,
            "min_width": null,
            "border": null,
            "align_items": null,
            "bottom": null,
            "_model_module": "@jupyter-widgets/base",
            "top": null,
            "grid_column": null,
            "overflow_y": null,
            "overflow_x": null,
            "grid_auto_flow": null,
            "grid_area": null,
            "grid_template_columns": null,
            "flex": null,
            "_model_name": "LayoutModel",
            "justify_items": null,
            "grid_row": null,
            "max_height": null,
            "align_content": null,
            "visibility": null,
            "align_self": null,
            "height": null,
            "min_height": null,
            "padding": null,
            "grid_auto_rows": null,
            "grid_gap": null,
            "max_width": null,
            "order": null,
            "_view_module_version": "1.2.0",
            "grid_template_areas": null,
            "object_position": null,
            "object_fit": null,
            "grid_auto_columns": null,
            "margin": null,
            "display": null,
            "left": null
          }
        },
        "bba6ddf13dad4234a3f188b88d8b473a": {
          "model_module": "@jupyter-widgets/controls",
          "model_name": "HBoxModel",
          "state": {
            "_view_name": "HBoxView",
            "_dom_classes": [],
            "_model_name": "HBoxModel",
            "_view_module": "@jupyter-widgets/controls",
            "_model_module_version": "1.5.0",
            "_view_count": null,
            "_view_module_version": "1.5.0",
            "box_style": "",
            "layout": "IPY_MODEL_8564767d62044f9799dc7e21962cb818",
            "_model_module": "@jupyter-widgets/controls",
            "children": [
              "IPY_MODEL_7470dbebaba94a8cb21b18665b514a29",
              "IPY_MODEL_6537fdf7ddbb49b4bf7385bc0d3fbd15"
            ]
          }
        },
        "8564767d62044f9799dc7e21962cb818": {
          "model_module": "@jupyter-widgets/base",
          "model_name": "LayoutModel",
          "state": {
            "_view_name": "LayoutView",
            "grid_template_rows": null,
            "right": null,
            "justify_content": null,
            "_view_module": "@jupyter-widgets/base",
            "overflow": null,
            "_model_module_version": "1.2.0",
            "_view_count": null,
            "flex_flow": null,
            "width": null,
            "min_width": null,
            "border": null,
            "align_items": null,
            "bottom": null,
            "_model_module": "@jupyter-widgets/base",
            "top": null,
            "grid_column": null,
            "overflow_y": null,
            "overflow_x": null,
            "grid_auto_flow": null,
            "grid_area": null,
            "grid_template_columns": null,
            "flex": null,
            "_model_name": "LayoutModel",
            "justify_items": null,
            "grid_row": null,
            "max_height": null,
            "align_content": null,
            "visibility": null,
            "align_self": null,
            "height": null,
            "min_height": null,
            "padding": null,
            "grid_auto_rows": null,
            "grid_gap": null,
            "max_width": null,
            "order": null,
            "_view_module_version": "1.2.0",
            "grid_template_areas": null,
            "object_position": null,
            "object_fit": null,
            "grid_auto_columns": null,
            "margin": null,
            "display": null,
            "left": null
          }
        },
        "7470dbebaba94a8cb21b18665b514a29": {
          "model_module": "@jupyter-widgets/controls",
          "model_name": "FloatProgressModel",
          "state": {
            "_view_name": "ProgressView",
            "style": "IPY_MODEL_774dd5bc54b74c9e9d7ffe5ce7edc2ef",
            "_dom_classes": [],
            "description": "Downloading: ",
            "_model_name": "FloatProgressModel",
            "bar_style": "success",
            "max": 867712,
            "_view_module": "@jupyter-widgets/controls",
            "_model_module_version": "1.5.0",
            "value": 867712,
            "_view_count": null,
            "_view_module_version": "1.5.0",
            "orientation": "horizontal",
            "min": 0,
            "description_tooltip": null,
            "_model_module": "@jupyter-widgets/controls",
            "layout": "IPY_MODEL_26e3c33a66a549a3b2569f7dd15ef852"
          }
        },
        "6537fdf7ddbb49b4bf7385bc0d3fbd15": {
          "model_module": "@jupyter-widgets/controls",
          "model_name": "HTMLModel",
          "state": {
            "_view_name": "HTMLView",
            "style": "IPY_MODEL_4b0ba2c7891b42828eb08c4e1f2840d9",
            "_dom_classes": [],
            "description": "",
            "_model_name": "HTMLModel",
            "placeholder": "​",
            "_view_module": "@jupyter-widgets/controls",
            "_model_module_version": "1.5.0",
            "value": " 2.31M/? [00:00&lt;00:00, 8.01MB/s]",
            "_view_count": null,
            "_view_module_version": "1.5.0",
            "description_tooltip": null,
            "_model_module": "@jupyter-widgets/controls",
            "layout": "IPY_MODEL_74f34dc47d17494e8715733de109ff80"
          }
        },
        "774dd5bc54b74c9e9d7ffe5ce7edc2ef": {
          "model_module": "@jupyter-widgets/controls",
          "model_name": "ProgressStyleModel",
          "state": {
            "_view_name": "StyleView",
            "_model_name": "ProgressStyleModel",
            "description_width": "initial",
            "_view_module": "@jupyter-widgets/base",
            "_model_module_version": "1.5.0",
            "_view_count": null,
            "_view_module_version": "1.2.0",
            "bar_color": null,
            "_model_module": "@jupyter-widgets/controls"
          }
        },
        "26e3c33a66a549a3b2569f7dd15ef852": {
          "model_module": "@jupyter-widgets/base",
          "model_name": "LayoutModel",
          "state": {
            "_view_name": "LayoutView",
            "grid_template_rows": null,
            "right": null,
            "justify_content": null,
            "_view_module": "@jupyter-widgets/base",
            "overflow": null,
            "_model_module_version": "1.2.0",
            "_view_count": null,
            "flex_flow": null,
            "width": null,
            "min_width": null,
            "border": null,
            "align_items": null,
            "bottom": null,
            "_model_module": "@jupyter-widgets/base",
            "top": null,
            "grid_column": null,
            "overflow_y": null,
            "overflow_x": null,
            "grid_auto_flow": null,
            "grid_area": null,
            "grid_template_columns": null,
            "flex": null,
            "_model_name": "LayoutModel",
            "justify_items": null,
            "grid_row": null,
            "max_height": null,
            "align_content": null,
            "visibility": null,
            "align_self": null,
            "height": null,
            "min_height": null,
            "padding": null,
            "grid_auto_rows": null,
            "grid_gap": null,
            "max_width": null,
            "order": null,
            "_view_module_version": "1.2.0",
            "grid_template_areas": null,
            "object_position": null,
            "object_fit": null,
            "grid_auto_columns": null,
            "margin": null,
            "display": null,
            "left": null
          }
        },
        "4b0ba2c7891b42828eb08c4e1f2840d9": {
          "model_module": "@jupyter-widgets/controls",
          "model_name": "DescriptionStyleModel",
          "state": {
            "_view_name": "StyleView",
            "_model_name": "DescriptionStyleModel",
            "description_width": "",
            "_view_module": "@jupyter-widgets/base",
            "_model_module_version": "1.5.0",
            "_view_count": null,
            "_view_module_version": "1.2.0",
            "_model_module": "@jupyter-widgets/controls"
          }
        },
        "74f34dc47d17494e8715733de109ff80": {
          "model_module": "@jupyter-widgets/base",
          "model_name": "LayoutModel",
          "state": {
            "_view_name": "LayoutView",
            "grid_template_rows": null,
            "right": null,
            "justify_content": null,
            "_view_module": "@jupyter-widgets/base",
            "overflow": null,
            "_model_module_version": "1.2.0",
            "_view_count": null,
            "flex_flow": null,
            "width": null,
            "min_width": null,
            "border": null,
            "align_items": null,
            "bottom": null,
            "_model_module": "@jupyter-widgets/base",
            "top": null,
            "grid_column": null,
            "overflow_y": null,
            "overflow_x": null,
            "grid_auto_flow": null,
            "grid_area": null,
            "grid_template_columns": null,
            "flex": null,
            "_model_name": "LayoutModel",
            "justify_items": null,
            "grid_row": null,
            "max_height": null,
            "align_content": null,
            "visibility": null,
            "align_self": null,
            "height": null,
            "min_height": null,
            "padding": null,
            "grid_auto_rows": null,
            "grid_gap": null,
            "max_width": null,
            "order": null,
            "_view_module_version": "1.2.0",
            "grid_template_areas": null,
            "object_position": null,
            "object_fit": null,
            "grid_auto_columns": null,
            "margin": null,
            "display": null,
            "left": null
          }
        },
        "a22205bf434f4bc6ae242fc7401b3b23": {
          "model_module": "@jupyter-widgets/controls",
          "model_name": "HBoxModel",
          "state": {
            "_view_name": "HBoxView",
            "_dom_classes": [],
            "_model_name": "HBoxModel",
            "_view_module": "@jupyter-widgets/controls",
            "_model_module_version": "1.5.0",
            "_view_count": null,
            "_view_module_version": "1.5.0",
            "box_style": "",
            "layout": "IPY_MODEL_e8dd3c34eb2146f089eeb593caf63e55",
            "_model_module": "@jupyter-widgets/controls",
            "children": [
              "IPY_MODEL_fe730dd5b59f4cf5bd2975c0be26e677",
              "IPY_MODEL_b04566dd85dd4ab8836741315ac75b0f"
            ]
          }
        },
        "e8dd3c34eb2146f089eeb593caf63e55": {
          "model_module": "@jupyter-widgets/base",
          "model_name": "LayoutModel",
          "state": {
            "_view_name": "LayoutView",
            "grid_template_rows": null,
            "right": null,
            "justify_content": null,
            "_view_module": "@jupyter-widgets/base",
            "overflow": null,
            "_model_module_version": "1.2.0",
            "_view_count": null,
            "flex_flow": null,
            "width": null,
            "min_width": null,
            "border": null,
            "align_items": null,
            "bottom": null,
            "_model_module": "@jupyter-widgets/base",
            "top": null,
            "grid_column": null,
            "overflow_y": null,
            "overflow_x": null,
            "grid_auto_flow": null,
            "grid_area": null,
            "grid_template_columns": null,
            "flex": null,
            "_model_name": "LayoutModel",
            "justify_items": null,
            "grid_row": null,
            "max_height": null,
            "align_content": null,
            "visibility": null,
            "align_self": null,
            "height": null,
            "min_height": null,
            "padding": null,
            "grid_auto_rows": null,
            "grid_gap": null,
            "max_width": null,
            "order": null,
            "_view_module_version": "1.2.0",
            "grid_template_areas": null,
            "object_position": null,
            "object_fit": null,
            "grid_auto_columns": null,
            "margin": null,
            "display": null,
            "left": null
          }
        },
        "fe730dd5b59f4cf5bd2975c0be26e677": {
          "model_module": "@jupyter-widgets/controls",
          "model_name": "FloatProgressModel",
          "state": {
            "_view_name": "ProgressView",
            "style": "IPY_MODEL_ac6a8c32a49947aea02acfc318a3bd03",
            "_dom_classes": [],
            "description": "",
            "_model_name": "FloatProgressModel",
            "bar_style": "info",
            "max": 1,
            "_view_module": "@jupyter-widgets/controls",
            "_model_module_version": "1.5.0",
            "value": 1,
            "_view_count": null,
            "_view_module_version": "1.5.0",
            "orientation": "horizontal",
            "min": 0,
            "description_tooltip": null,
            "_model_module": "@jupyter-widgets/controls",
            "layout": "IPY_MODEL_7595ca2d575b460c8d37bfc4464fc484"
          }
        },
        "b04566dd85dd4ab8836741315ac75b0f": {
          "model_module": "@jupyter-widgets/controls",
          "model_name": "HTMLModel",
          "state": {
            "_view_name": "HTMLView",
            "style": "IPY_MODEL_419d68706ff04229b443e90bab075668",
            "_dom_classes": [],
            "description": "",
            "_model_name": "HTMLModel",
            "placeholder": "​",
            "_view_module": "@jupyter-widgets/controls",
            "_model_module_version": "1.5.0",
            "value": " 23516/0 [00:07&lt;00:00,  1.11s/ examples]",
            "_view_count": null,
            "_view_module_version": "1.5.0",
            "description_tooltip": null,
            "_model_module": "@jupyter-widgets/controls",
            "layout": "IPY_MODEL_5cc2938047bc4ff4bd4971168d84ea2f"
          }
        },
        "ac6a8c32a49947aea02acfc318a3bd03": {
          "model_module": "@jupyter-widgets/controls",
          "model_name": "ProgressStyleModel",
          "state": {
            "_view_name": "StyleView",
            "_model_name": "ProgressStyleModel",
            "description_width": "initial",
            "_view_module": "@jupyter-widgets/base",
            "_model_module_version": "1.5.0",
            "_view_count": null,
            "_view_module_version": "1.2.0",
            "bar_color": null,
            "_model_module": "@jupyter-widgets/controls"
          }
        },
        "7595ca2d575b460c8d37bfc4464fc484": {
          "model_module": "@jupyter-widgets/base",
          "model_name": "LayoutModel",
          "state": {
            "_view_name": "LayoutView",
            "grid_template_rows": null,
            "right": null,
            "justify_content": null,
            "_view_module": "@jupyter-widgets/base",
            "overflow": null,
            "_model_module_version": "1.2.0",
            "_view_count": null,
            "flex_flow": null,
            "width": null,
            "min_width": null,
            "border": null,
            "align_items": null,
            "bottom": null,
            "_model_module": "@jupyter-widgets/base",
            "top": null,
            "grid_column": null,
            "overflow_y": null,
            "overflow_x": null,
            "grid_auto_flow": null,
            "grid_area": null,
            "grid_template_columns": null,
            "flex": null,
            "_model_name": "LayoutModel",
            "justify_items": null,
            "grid_row": null,
            "max_height": null,
            "align_content": null,
            "visibility": null,
            "align_self": null,
            "height": null,
            "min_height": null,
            "padding": null,
            "grid_auto_rows": null,
            "grid_gap": null,
            "max_width": null,
            "order": null,
            "_view_module_version": "1.2.0",
            "grid_template_areas": null,
            "object_position": null,
            "object_fit": null,
            "grid_auto_columns": null,
            "margin": null,
            "display": null,
            "left": null
          }
        },
        "419d68706ff04229b443e90bab075668": {
          "model_module": "@jupyter-widgets/controls",
          "model_name": "DescriptionStyleModel",
          "state": {
            "_view_name": "StyleView",
            "_model_name": "DescriptionStyleModel",
            "description_width": "",
            "_view_module": "@jupyter-widgets/base",
            "_model_module_version": "1.5.0",
            "_view_count": null,
            "_view_module_version": "1.2.0",
            "_model_module": "@jupyter-widgets/controls"
          }
        },
        "5cc2938047bc4ff4bd4971168d84ea2f": {
          "model_module": "@jupyter-widgets/base",
          "model_name": "LayoutModel",
          "state": {
            "_view_name": "LayoutView",
            "grid_template_rows": null,
            "right": null,
            "justify_content": null,
            "_view_module": "@jupyter-widgets/base",
            "overflow": null,
            "_model_module_version": "1.2.0",
            "_view_count": null,
            "flex_flow": null,
            "width": null,
            "min_width": null,
            "border": null,
            "align_items": null,
            "bottom": null,
            "_model_module": "@jupyter-widgets/base",
            "top": null,
            "grid_column": null,
            "overflow_y": null,
            "overflow_x": null,
            "grid_auto_flow": null,
            "grid_area": null,
            "grid_template_columns": null,
            "flex": null,
            "_model_name": "LayoutModel",
            "justify_items": null,
            "grid_row": null,
            "max_height": null,
            "align_content": null,
            "visibility": null,
            "align_self": null,
            "height": null,
            "min_height": null,
            "padding": null,
            "grid_auto_rows": null,
            "grid_gap": null,
            "max_width": null,
            "order": null,
            "_view_module_version": "1.2.0",
            "grid_template_areas": null,
            "object_position": null,
            "object_fit": null,
            "grid_auto_columns": null,
            "margin": null,
            "display": null,
            "left": null
          }
        }
      }
    }
  },
  "cells": [
    {
      "cell_type": "markdown",
      "metadata": {
        "id": "view-in-github",
        "colab_type": "text"
      },
      "source": [
        "<a href=\"https://colab.research.google.com/github/hasanabbas21/spark-nlp/blob/main/CS777_Term_Project_Spark_NLP_Clinical_Text_Analysis.ipynb\" target=\"_parent\"><img src=\"https://colab.research.google.com/assets/colab-badge.svg\" alt=\"Open In Colab\"/></a>"
      ]
    },
    {
      "cell_type": "markdown",
      "metadata": {
        "id": "5lOo8F714wRK"
      },
      "source": [
        "### Import the Healthcare Licenses for Spark NLP Healthcare models "
      ]
    },
    {
      "cell_type": "markdown",
      "metadata": {
        "id": "HVXXyOH_fTI7"
      },
      "source": [
        "These are valid for only 1 month until 5/24."
      ]
    },
    {
      "cell_type": "code",
      "metadata": {
        "colab": {
          "resources": {
            "http://localhost:8080/nbextensions/google.colab/files.js": {
              "data": "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",
              "ok": true,
              "headers": [
                [
                  "content-type",
                  "application/javascript"
                ]
              ],
              "status": 200,
              "status_text": ""
            }
          },
          "base_uri": "https://localhost:8080/",
          "height": 72
        },
        "id": "r7vWYKAx4MBa",
        "outputId": "a868edaa-e9b4-4709-b5bf-1b8286aa5ebf"
      },
      "source": [
        "import json\n",
        "\n",
        "from google.colab import files\n",
        "\n",
        "license_keys = files.upload()\n",
        "\n",
        "with open(list(license_keys.keys())[0]) as f:\n",
        "    license_keys = json.load(f)"
      ],
      "execution_count": 1,
      "outputs": [
        {
          "output_type": "display_data",
          "data": {
            "text/html": [
              "\n",
              "     <input type=\"file\" id=\"files-a6edf314-3074-4013-8428-28fee4f3d75c\" name=\"files[]\" multiple disabled\n",
              "        style=\"border:none\" />\n",
              "     <output id=\"result-a6edf314-3074-4013-8428-28fee4f3d75c\">\n",
              "      Upload widget is only available when the cell has been executed in the\n",
              "      current browser session. Please rerun this cell to enable.\n",
              "      </output>\n",
              "      <script src=\"/nbextensions/google.colab/files.js\"></script> "
            ],
            "text/plain": [
              "<IPython.core.display.HTML object>"
            ]
          },
          "metadata": {
            "tags": []
          }
        },
        {
          "output_type": "stream",
          "text": [
            "Saving workshop_license_keys_365.json to workshop_license_keys_365.json\n"
          ],
          "name": "stdout"
        }
      ]
    },
    {
      "cell_type": "markdown",
      "metadata": {
        "id": "NApSfdwd4_R1"
      },
      "source": [
        "Check versions of Spark NLP Healthcare - spark jsl (John Snow Labs)"
      ]
    },
    {
      "cell_type": "code",
      "metadata": {
        "colab": {
          "base_uri": "https://localhost:8080/",
          "height": 35
        },
        "id": "102CU5B94vYM",
        "outputId": "058465a3-4076-4f28-af84-dabce1de696d"
      },
      "source": [
        "license_keys['JSL_VERSION']"
      ],
      "execution_count": 2,
      "outputs": [
        {
          "output_type": "execute_result",
          "data": {
            "application/vnd.google.colaboratory.intrinsic+json": {
              "type": "string"
            },
            "text/plain": [
              "'3.0.1'"
            ]
          },
          "metadata": {
            "tags": []
          },
          "execution_count": 2
        }
      ]
    },
    {
      "cell_type": "code",
      "metadata": {
        "id": "LjjKK3imXTjk"
      },
      "source": [
        "# Install java\n",
        "! apt-get update -qq\n",
        "! apt-get install -y openjdk-8-jdk-headless -qq > /dev/null"
      ],
      "execution_count": 3,
      "outputs": []
    },
    {
      "cell_type": "code",
      "metadata": {
        "colab": {
          "base_uri": "https://localhost:8080/"
        },
        "id": "MsGn_1WoXgGn",
        "outputId": "c588d4b4-752b-473f-85bb-c5a666236bdc"
      },
      "source": [
        "import os\n",
        "os.environ[\"JAVA_HOME\"] = \"/usr/lib/jvm/java-8-openjdk-amd64\"\n",
        "os.environ[\"PATH\"] = os.environ[\"JAVA_HOME\"] + \"/bin:\" + os.environ[\"PATH\"]\n",
        "! java -version\n",
        "\n",
        "secret = license_keys['SECRET']"
      ],
      "execution_count": 6,
      "outputs": [
        {
          "output_type": "stream",
          "text": [
            "openjdk version \"1.8.0_292\"\n",
            "OpenJDK Runtime Environment (build 1.8.0_292-8u292-b10-0ubuntu1~18.04-b10)\n",
            "OpenJDK 64-Bit Server VM (build 25.292-b10, mixed mode)\n"
          ],
          "name": "stdout"
        }
      ]
    },
    {
      "cell_type": "markdown",
      "metadata": {
        "id": "aTRKFvRe5a4O"
      },
      "source": [
        "Using the license keys install into colab runtime spark-nlp-jsl. The scripts are provided already by spark nlp getting started page and available in the JSL's github page\n",
        "\n",
        "Also install spark nlp display library (spark-nlp-display) for visualizations for the results of the models on text (paragraph annotations)"
      ]
    },
    {
      "cell_type": "code",
      "metadata": {
        "id": "iF_d9cAv5UE5"
      },
      "source": [
        "%%capture\n",
        "for k,v in license_keys.items(): \n",
        "    %set_env $k=$v\n",
        "\n",
        "!wget https://raw.githubusercontent.com/JohnSnowLabs/spark-nlp-workshop/master/jsl_colab_setup.sh\n",
        "!bash jsl_colab_setup.sh\n",
        "\n",
        "! pip install spark-nlp-display"
      ],
      "execution_count": 4,
      "outputs": []
    },
    {
      "cell_type": "markdown",
      "metadata": {
        "id": "WZPQSWFDe-VH"
      },
      "source": [
        "### Organize all the necessary imports, versions and session settings\n"
      ]
    },
    {
      "cell_type": "markdown",
      "metadata": {
        "id": "nzbQLVhH6ukq"
      },
      "source": [
        "We will use :\n",
        "1. pyspark ML\n",
        "2. sparknlp\n",
        "3. sparknlp_jsl **bold text**"
      ]
    },
    {
      "cell_type": "code",
      "metadata": {
        "id": "CcRqmHNa6FGe"
      },
      "source": [
        "import json\n",
        "import os\n",
        "from pyspark.ml import Pipeline,PipelineModel\n",
        "from pyspark.sql import SparkSession\n",
        "\n",
        "from sparknlp.annotator import *\n",
        "from sparknlp_jsl.annotator import *\n",
        "from sparknlp.base import *\n",
        "import sparknlp_jsl\n",
        "import sparknlp"
      ],
      "execution_count": 7,
      "outputs": []
    },
    {
      "cell_type": "markdown",
      "metadata": {
        "id": "vpOcCUzt7OMP"
      },
      "source": [
        "1. Initialize the spark-nlp-jsl session from the license keys \n",
        "2. Start the session with the configuration\n",
        "3. verify the versions of spark nlp and spark jsl"
      ]
    },
    {
      "cell_type": "code",
      "metadata": {
        "colab": {
          "base_uri": "https://localhost:8080/"
        },
        "id": "H1cxSXOC7Upz",
        "outputId": "6f12221e-060e-4433-9c48-29a78558a899"
      },
      "source": [
        "params = {\n",
        "    \"spark.driver.memory\":\"16G\",\n",
        "    \"spark.kryoserializer.buffer.max\":\"2000M\",\n",
        "    \"spark.driver.maxResultSize\":\"2000M\",\n",
        "    \"gpu\":True\n",
        "      }\n",
        "\n",
        "spark = sparknlp_jsl.start(license_keys['SECRET'],params=params)\n",
        "\n",
        "print (\"Spark NLP Version :\", sparknlp.version())\n",
        "print (\"Spark NLP_JSL Version :\", sparknlp_jsl.version())"
      ],
      "execution_count": 8,
      "outputs": [
        {
          "output_type": "stream",
          "text": [
            "Spark NLP Version : 3.0.1\n",
            "Spark NLP_JSL Version : 3.0.1\n"
          ],
          "name": "stdout"
        }
      ]
    },
    {
      "cell_type": "markdown",
      "metadata": {
        "id": "uFGqY2XkeVCa"
      },
      "source": [
        "### Setting up the Spark NLP Models in the pipeline"
      ]
    },
    {
      "cell_type": "markdown",
      "metadata": {
        "id": "7ymJKWNQAOUx"
      },
      "source": [
        "We will use pre-trained clinical models and run then on clinical text and observe the inferences first \n",
        "Then, we will train our own clinicla model and run a test \n",
        "Three separate clinical use cases are explored in this project:\n",
        "\n",
        "\n",
        "1.   **Named Entity Recognition** (problem, treatment and test classifier)\n",
        "2.   **Posology** (medication strength, frequency, duration classifier)\n",
        "3.   **Clinical Assertion** (presence of a problem)\n",
        "\n",
        "\n",
        "We will use pipelines through out to chain the results of one clinical model after the other.\n",
        "\n",
        "The format of data used in training and test is ConLL . this is a NLP format used to train models "
      ]
    },
    {
      "cell_type": "markdown",
      "metadata": {
        "id": "_fcJCju1DRgX"
      },
      "source": [
        "In order to train a Named Entity Recognition DL annotator, we need to get \"CoNLL format\" data as a \"spark dataframe\"\n",
        "The text to process shoukld be in a column of the dataframe (e.g. **text** column in below assempler model)\n",
        "\n",
        "ref: https://nlp.johnsnowlabs.com/docs/en/training\n"
      ]
    },
    {
      "cell_type": "code",
      "metadata": {
        "id": "ZoL2kSnpC5y1"
      },
      "source": [
        "# Annotator that transforms a text column from dataframe into an Annotation ready for NLP\n",
        "assembler = DocumentAssembler().setInputCol(\"text\").setOutputCol(\"document\")"
      ],
      "execution_count": 9,
      "outputs": []
    },
    {
      "cell_type": "markdown",
      "metadata": {
        "id": "x2-mKo-nDpTk"
      },
      "source": [
        "Assembler converts data from the **text** column to **documents** for spark nlp to process.\n",
        "ref: https://nlp.johnsnowlabs.com/docs/en/transformers#documentassembler-getting-data-in"
      ]
    },
    {
      "cell_type": "code",
      "metadata": {
        "colab": {
          "base_uri": "https://localhost:8080/"
        },
        "id": "R_y6AUk-8lru",
        "outputId": "30d6e6e7-5ed1-400b-8619-77e033fc0221"
      },
      "source": [
        "sentenceDetector = SentenceDetectorDLModel.pretrained(\"sentence_detector_dl_healthcare\",\"en\",\"clinical/models\")\\\n",
        "        .setInputCols([\"document\"])\\\n",
        "        .setOutputCol(\"sentence\")"
      ],
      "execution_count": 10,
      "outputs": [
        {
          "output_type": "stream",
          "text": [
            "sentence_detector_dl_healthcare download started this may take some time.\n",
            "Approximate size to download 363.9 KB\n",
            "[OK!]\n"
          ],
          "name": "stdout"
        }
      ]
    },
    {
      "cell_type": "markdown",
      "metadata": {
        "id": "kuLzaczrEXNV"
      },
      "source": [
        "ref: https://nlp.johnsnowlabs.com/docs/en/annotators#sentencedetector\n",
        "\n",
        "Finds sentence bounds in raw text. Applies rules from Pragmatic Segmenter.\n"
      ]
    },
    {
      "cell_type": "code",
      "metadata": {
        "id": "wW38s72yEhjZ"
      },
      "source": [
        "tokenizer = Tokenizer().setInputCols([\"sentence\"]).setOutputCol(\"token\")"
      ],
      "execution_count": 11,
      "outputs": []
    },
    {
      "cell_type": "markdown",
      "metadata": {
        "id": "6xBFAV4wExzw"
      },
      "source": [
        "Tokenizer Identifies tokens with tokenization open standards.\n",
        "\n",
        "ref: https://nlp.johnsnowlabs.com/docs/en/annotators#tokenizer"
      ]
    },
    {
      "cell_type": "code",
      "metadata": {
        "colab": {
          "base_uri": "https://localhost:8080/"
        },
        "id": "Y0NpoWjFFF7P",
        "outputId": "50c08eaa-49cd-43b6-da9e-b4573568806a"
      },
      "source": [
        "word_embeddings = WordEmbeddingsModel.pretrained(\"embeddings_clinical\",\"en\",\"clinical/models\")\\\n",
        "        .setInputCols([\"sentence\",\"token\"])\\\n",
        "        .setOutputCol(\"embeddings\")"
      ],
      "execution_count": 12,
      "outputs": [
        {
          "output_type": "stream",
          "text": [
            "embeddings_clinical download started this may take some time.\n",
            "Approximate size to download 1.6 GB\n",
            "[OK!]\n"
          ],
          "name": "stdout"
        }
      ]
    },
    {
      "cell_type": "markdown",
      "metadata": {
        "id": "QxCV5-kCFPM3"
      },
      "source": [
        "WordEmbeddings model :\n",
        "1. takes sentences and tokens in text and returns embeddings (vectors) for every word in the corpus\n",
        "2. pretrained on \"embeddings_clinical\" PubMED dataset"
      ]
    },
    {
      "cell_type": "code",
      "metadata": {
        "colab": {
          "base_uri": "https://localhost:8080/"
        },
        "id": "EaIMbTEOGl2i",
        "outputId": "5a086a5b-d179-44c7-e193-5ff3deac9026"
      },
      "source": [
        "medical_ner = MedicalNerModel.pretrained(\"ner_clinical_large\",\"en\",\"clinical/models\")\\\n",
        "        .setInputCols([\"sentence\",\"token\",\"embeddings\"])\\\n",
        "        .setOutputCol(\"ner\")\n",
        "\n",
        "posology_ner = MedicalNerModel.pretrained(\"ner_posology\", \"en\", \"clinical/models\") \\\n",
        "    .setInputCols([\"sentence\", \"token\", \"embeddings\"]) \\\n",
        "    .setOutputCol(\"ner\")"
      ],
      "execution_count": 13,
      "outputs": [
        {
          "output_type": "stream",
          "text": [
            "ner_clinical_large download started this may take some time.\n",
            "Approximate size to download 13.9 MB\n",
            "[OK!]\n",
            "ner_posology download started this may take some time.\n",
            "Approximate size to download 13.8 MB\n",
            "[OK!]\n"
          ],
          "name": "stdout"
        }
      ]
    },
    {
      "cell_type": "code",
      "metadata": {
        "colab": {
          "base_uri": "https://localhost:8080/"
        },
        "id": "2KuIbY2kYwUm",
        "outputId": "55fb9241-694b-483f-cbaf-5cbdf5692494"
      },
      "source": [
        "posology_ner_greedy = MedicalNerModel.pretrained(\"ner_posology_greedy\", \"en\", \"clinical/models\") \\\n",
        "    .setInputCols([\"sentence\", \"token\", \"embeddings\"]) \\\n",
        "    .setOutputCol(\"ner_greedy\")"
      ],
      "execution_count": 14,
      "outputs": [
        {
          "output_type": "stream",
          "text": [
            "ner_posology_greedy download started this may take some time.\n",
            "Approximate size to download 13.9 MB\n",
            "[OK!]\n"
          ],
          "name": "stdout"
        }
      ]
    },
    {
      "cell_type": "code",
      "metadata": {
        "id": "8Uh9ja5RY7Zy"
      },
      "source": [
        "ner_converter = NerConverter()\\\n",
        "        .setInputCols([\"sentence\",\"token\",\"ner\"])\\\n",
        "        .setOutputCol(\"ner_chunk\")\n",
        "\n",
        "ner_converter_greedy = NerConverter()\\\n",
        "    .setInputCols([\"sentence\",\"token\",\"ner_greedy\"])\\\n",
        "    .setOutputCol(\"ner_chunk_greedy\")"
      ],
      "execution_count": 15,
      "outputs": []
    },
    {
      "cell_type": "code",
      "metadata": {
        "colab": {
          "base_uri": "https://localhost:8080/"
        },
        "id": "o-JZhbr1YOsk",
        "outputId": "30efd546-ced3-4d46-9a2a-20331c2f3f48"
      },
      "source": [
        "medical_ner.getClasses()"
      ],
      "execution_count": 16,
      "outputs": [
        {
          "output_type": "execute_result",
          "data": {
            "text/plain": [
              "['O',\n",
              " 'B-TREATMENT',\n",
              " 'I-TREATMENT',\n",
              " 'B-PROBLEM',\n",
              " 'I-PROBLEM',\n",
              " 'B-TEST',\n",
              " 'I-TEST']"
            ]
          },
          "metadata": {
            "tags": []
          },
          "execution_count": 16
        }
      ]
    },
    {
      "cell_type": "code",
      "metadata": {
        "colab": {
          "base_uri": "https://localhost:8080/"
        },
        "id": "6cADs7-vMikv",
        "outputId": "4d32c154-dec7-40fe-e236-99f93feb6cd6"
      },
      "source": [
        "posology_ner.getClasses()"
      ],
      "execution_count": 17,
      "outputs": [
        {
          "output_type": "execute_result",
          "data": {
            "text/plain": [
              "['O',\n",
              " 'B-DOSAGE',\n",
              " 'B-STRENGTH',\n",
              " 'I-STRENGTH',\n",
              " 'B-ROUTE',\n",
              " 'B-FREQUENCY',\n",
              " 'I-FREQUENCY',\n",
              " 'B-DRUG',\n",
              " 'I-DRUG',\n",
              " 'B-FORM',\n",
              " 'I-DOSAGE',\n",
              " 'B-DURATION',\n",
              " 'I-DURATION',\n",
              " 'I-FORM',\n",
              " 'I-ROUTE']"
            ]
          },
          "metadata": {
            "tags": []
          },
          "execution_count": 17
        }
      ]
    },
    {
      "cell_type": "markdown",
      "metadata": {
        "id": "D5FqmirSGsSk"
      },
      "source": [
        "**MedicalNerModel** is a pretrained model to recognize (NER's), Posology (dosages) as listed above from clinical text passed as input:\n",
        "\n",
        "It takes word embeddings as **input** (I/P)\n",
        "provides NER (Named Entity Recognition) tags as **Output**  O/P\n",
        "\n",
        "Further, a **NERConverter** will chunk commonly occuring parts of sentences as chunks.\n",
        "\n",
        "\n"
      ]
    },
    {
      "cell_type": "markdown",
      "metadata": {
        "id": "8cLi1j5dehVc"
      },
      "source": [
        "### Finally the pipeline is put together"
      ]
    },
    {
      "cell_type": "markdown",
      "metadata": {
        "id": "Te8PUbNpK51A"
      },
      "source": [
        "Finally, the pipeline is constructed as a sequence of pretrained models . Each successive model taked output of previous step as input and passes the output to the next pretrained model"
      ]
    },
    {
      "cell_type": "code",
      "metadata": {
        "id": "Q5iYiCYrGrt_"
      },
      "source": [
        "clinical_pipeline = Pipeline(stages=[\n",
        "                          assembler,\n",
        "                          sentenceDetector,\n",
        "                          tokenizer,\n",
        "                          word_embeddings,\n",
        "                          medical_ner,\n",
        "                          ner_converter])"
      ],
      "execution_count": 18,
      "outputs": []
    },
    {
      "cell_type": "code",
      "metadata": {
        "id": "6AtlEqcuKxyu"
      },
      "source": [
        "nlp_df = spark.createDataFrame([[\"\"]]).toDF(\"text\")\n"
      ],
      "execution_count": 19,
      "outputs": []
    },
    {
      "cell_type": "markdown",
      "metadata": {
        "id": "6CimlnOwLYzQ"
      },
      "source": [
        "As mentioned above, we need to have the data to train in the text column of a dataframe. Here since we are using a pretrained model, no need to train, just transform. Hence, use a dummy nlp_df and fit the pipeline"
      ]
    },
    {
      "cell_type": "code",
      "metadata": {
        "id": "1r0q28HdLnkx"
      },
      "source": [
        "clinical_nlp_model = clinical_pipeline.fit(nlp_df)"
      ],
      "execution_count": 20,
      "outputs": []
    },
    {
      "cell_type": "code",
      "metadata": {
        "colab": {
          "base_uri": "https://localhost:8080/"
        },
        "id": "BXhHhHdbL_b1",
        "outputId": "c173630d-57ff-484d-e101-51f6ef72829b"
      },
      "source": [
        "clinical_nlp_model.stages"
      ],
      "execution_count": 21,
      "outputs": [
        {
          "output_type": "execute_result",
          "data": {
            "text/plain": [
              "[DocumentAssembler_43dd62deb9f6,\n",
              " SentenceDetectorDLModel_d2546f0acfe2,\n",
              " REGEX_TOKENIZER_6b59db5a9d56,\n",
              " WORD_EMBEDDINGS_MODEL_9004b1d00302,\n",
              " MedicalNerModel_1a8637089929,\n",
              " NerConverter_f2fe6a30f254]"
            ]
          },
          "metadata": {
            "tags": []
          },
          "execution_count": 21
        }
      ]
    },
    {
      "cell_type": "markdown",
      "metadata": {
        "id": "wfr72I9CMDah"
      },
      "source": [
        "The stages are exactly as described before"
      ]
    },
    {
      "cell_type": "code",
      "metadata": {
        "id": "MmaXo0lcMByP"
      },
      "source": [
        "!wget -q https://storage.googleapis.com/mirza-cs777-bucket/term_project/mtsamples.csv"
      ],
      "execution_count": 22,
      "outputs": []
    },
    {
      "cell_type": "markdown",
      "metadata": {
        "id": "xPyCGjHoQmpW"
      },
      "source": [
        "source : https://www.kaggle.com/tboyle10/medicaltranscriptions\n",
        "\n",
        "I have saved a medical transcription data set into my google drive in public mode, we will retrieve it for today's work "
      ]
    },
    {
      "cell_type": "code",
      "metadata": {
        "id": "cox_byhrQCzu"
      },
      "source": [
        "import pyspark.sql.functions as F\n",
        "\n",
        "med_transcript_data = spark.read.option(\"header\", \"true\").csv(\"mtsamples.csv\")"
      ],
      "execution_count": 23,
      "outputs": []
    },
    {
      "cell_type": "code",
      "metadata": {
        "id": "OsItDNKkQxoe",
        "colab": {
          "base_uri": "https://localhost:8080/"
        },
        "outputId": "f78109ff-c14f-4aed-bab7-5fbf0b9ba648"
      },
      "source": [
        "med_transcript_data.show(2)"
      ],
      "execution_count": 24,
      "outputs": [
        {
          "output_type": "stream",
          "text": [
            "+---+--------------------+--------------------+--------------------+--------------------+--------------------+\n",
            "|_c0|         description|   medical_specialty|         sample_name|       transcription|            keywords|\n",
            "+---+--------------------+--------------------+--------------------+--------------------+--------------------+\n",
            "|  0| A 23-year-old wh...| Allergy / Immuno...|  Allergic Rhinitis |SUBJECTIVE:,  Thi...|allergy / immunol...|\n",
            "|  1| Consult for lapa...|          Bariatrics| Laparoscopic Gas...|PAST MEDICAL HIST...|bariatrics, lapar...|\n",
            "+---+--------------------+--------------------+--------------------+--------------------+--------------------+\n",
            "only showing top 2 rows\n",
            "\n"
          ],
          "name": "stdout"
        }
      ]
    },
    {
      "cell_type": "code",
      "metadata": {
        "id": "_KolHMRgQ0ig",
        "colab": {
          "base_uri": "https://localhost:8080/"
        },
        "outputId": "afd99894-411b-4e05-d05b-c86988ea9c66"
      },
      "source": [
        "med_transcript_data.printSchema()"
      ],
      "execution_count": 25,
      "outputs": [
        {
          "output_type": "stream",
          "text": [
            "root\n",
            " |-- _c0: string (nullable = true)\n",
            " |-- description: string (nullable = true)\n",
            " |-- medical_specialty: string (nullable = true)\n",
            " |-- sample_name: string (nullable = true)\n",
            " |-- transcription: string (nullable = true)\n",
            " |-- keywords: string (nullable = true)\n",
            "\n"
          ],
          "name": "stdout"
        }
      ]
    },
    {
      "cell_type": "code",
      "metadata": {
        "id": "GJ9DqyDFQ6Wu"
      },
      "source": [
        "just_transcript = med_transcript_data.select(\"transcription\")"
      ],
      "execution_count": 26,
      "outputs": []
    },
    {
      "cell_type": "code",
      "metadata": {
        "id": "QaJSvkJfR5ZS",
        "colab": {
          "base_uri": "https://localhost:8080/"
        },
        "outputId": "6ddc53ee-59ee-43b2-aadb-2a215bb6cd91"
      },
      "source": [
        "just_transcript = just_transcript.withColumnRenamed(\"transcription\",\"text\")\n",
        "just_transcript.show(1)"
      ],
      "execution_count": 27,
      "outputs": [
        {
          "output_type": "stream",
          "text": [
            "+--------------------+\n",
            "|                text|\n",
            "+--------------------+\n",
            "|SUBJECTIVE:,  Thi...|\n",
            "+--------------------+\n",
            "only showing top 1 row\n",
            "\n"
          ],
          "name": "stdout"
        }
      ]
    },
    {
      "cell_type": "code",
      "metadata": {
        "id": "TZbYGuYiRKhk"
      },
      "source": [
        "pred = clinical_nlp_model.transform(just_transcript.limit(10))"
      ],
      "execution_count": 28,
      "outputs": []
    },
    {
      "cell_type": "code",
      "metadata": {
        "id": "7LmbNvNxRVTd",
        "colab": {
          "base_uri": "https://localhost:8080/"
        },
        "outputId": "35cbffc6-69a6-4e41-f485-2f6e247b9cef"
      },
      "source": [
        "pred.show(2)"
      ],
      "execution_count": 29,
      "outputs": [
        {
          "output_type": "stream",
          "text": [
            "+--------------------+--------------------+--------------------+--------------------+--------------------+--------------------+--------------------+\n",
            "|                text|            document|            sentence|               token|          embeddings|                 ner|           ner_chunk|\n",
            "+--------------------+--------------------+--------------------+--------------------+--------------------+--------------------+--------------------+\n",
            "|SUBJECTIVE:,  Thi...|[{document, 0, 13...|[{document, 0, 80...|[{token, 0, 9, SU...|[{word_embeddings...|[{named_entity, 0...|[{chunk, 71, 79, ...|\n",
            "|PAST MEDICAL HIST...|[{document, 0, 24...|[{document, 0, 15...|[{token, 0, 3, PA...|[{word_embeddings...|[{named_entity, 0...|[{chunk, 30, 55, ...|\n",
            "+--------------------+--------------------+--------------------+--------------------+--------------------+--------------------+--------------------+\n",
            "only showing top 2 rows\n",
            "\n"
          ],
          "name": "stdout"
        }
      ]
    },
    {
      "cell_type": "code",
      "metadata": {
        "id": "ofm6kpZ5ShzR",
        "colab": {
          "base_uri": "https://localhost:8080/"
        },
        "outputId": "c196d8f1-9bac-46ba-bde2-c3843bf9ffa4"
      },
      "source": [
        "pred.select('token.result','ner.result').show(truncate=150)"
      ],
      "execution_count": 30,
      "outputs": [
        {
          "output_type": "stream",
          "text": [
            "+------------------------------------------------------------------------------------------------------------------------------------------------------+------------------------------------------------------------------------------------------------------------------------------------------------------+\n",
            "|                                                                                                                                                result|                                                                                                                                                result|\n",
            "+------------------------------------------------------------------------------------------------------------------------------------------------------+------------------------------------------------------------------------------------------------------------------------------------------------------+\n",
            "|[SUBJECTIVE, :,, This, 23-year-old, white, female, presents, with, complaint, of, allergies, ., She, used, to, have, allergies, when, she, lived, i...|[O, O, O, O, O, O, O, O, O, O, B-PROBLEM, O, O, O, O, O, B-PROBLEM, O, O, O, O, O, O, O, O, O, O, O, O, O, O, O, O, O, O, O, O, B-TREATMENT, O, O, ...|\n",
            "|[PAST, MEDICAL, HISTORY, :,, He, has, difficulty, climbing, stairs, ,, difficulty, with, airline, seats, ,, tying, shoes, ,, used, to, public, seat...|[O, O, O, O, O, O, B-PROBLEM, I-PROBLEM, I-PROBLEM, O, B-PROBLEM, I-PROBLEM, I-PROBLEM, I-PROBLEM, O, O, O, O, O, O, O, O, O, O, O, O, O, O, O, O, ...|\n",
            "|[\", HISTORY, OF, PRESENT, ILLNESS, :, ,, I, have, seen, ABC, today, ., He, is, a, very, pleasant, gentleman, who, is, 42, years, old, ,, 344, pound...|[O, O, O, O, O, O, O, O, O, O, O, O, O, O, O, O, O, O, O, O, O, O, O, O, O, O, O, O, O, O, O, O, O, O, B-TEST, I-TEST, O, O, O, O, O, O, B-PROBLEM,...|\n",
            "|[2-D, M-MODE, :, ,, ,, 1, ., Left, atrial, enlargement, with, left, atrial, diameter, of, 4.7, cm.,2, ., Normal, size, right, and, left, ventricle,...|[B-TEST, I-TEST, O, O, O, O, O, B-PROBLEM, I-PROBLEM, I-PROBLEM, O, B-TEST, I-TEST, I-TEST, O, O, O, O, O, O, O, O, O, O, O, O, O, O, O, O, O, O, O...|\n",
            "|[1, ., The, left, ventricular, cavity, size, and, wall, thickness, appear, normal, ., The, wall, motion, and, left, ventricular, systolic, function...|[O, O, O, O, O, O, O, O, B-TEST, I-TEST, O, O, O, O, O, O, O, B-TEST, I-TEST, I-TEST, I-TEST, O, B-PROBLEM, O, O, B-TEST, I-TEST, O, O, O, O, O, O,...|\n",
            "|[PREOPERATIVE, DIAGNOSIS, :, ,, Morbid, obesity, ., ,, POSTOPERATIVE, DIAGNOSIS, :, ,, Morbid, obesity, ., ,, PROCEDURE, :, ,, Laparoscopic, anteco...|[O, O, O, O, B-PROBLEM, I-PROBLEM, O, O, O, O, O, O, B-PROBLEM, I-PROBLEM, O, O, O, O, O, B-TREATMENT, I-TREATMENT, I-TREATMENT, I-TREATMENT, I-TRE...|\n",
            "|                                                                                                                                                    []|                                                                                                                                                    []|\n",
            "|                                                                                                                    [anterior, abdomen, and, flank, .]|                                                                                                                                       [O, O, O, O, O]|\n",
            "|[2-D, ECHOCARDIOGRAM,Multiple, views, of, the, heart, and, great, vessels, reveal, normal, intracardiac, and, great, vessel, relationships, ., Card...|[O, O, O, O, O, O, O, O, O, O, O, O, O, O, O, O, O, O, O, O, O, O, O, O, O, B-PROBLEM, I-PROBLEM, I-PROBLEM, O, B-PROBLEM, O, O, O, O, B-PROBLEM, I...|\n",
            "|[PREOPERATIVE, DIAGNOSIS, :, ,, Lipodystrophy, of, the, abdomen, and, thighs, ., ,, POSTOPERATIVE, DIAGNOSIS, :,, Lipodystrophy, of, the, abdomen, ...|[O, O, O, O, B-PROBLEM, I-PROBLEM, I-PROBLEM, I-PROBLEM, I-PROBLEM, I-PROBLEM, O, O, O, O, O, B-PROBLEM, I-PROBLEM, I-PROBLEM, I-PROBLEM, I-PROBLEM...|\n",
            "+------------------------------------------------------------------------------------------------------------------------------------------------------+------------------------------------------------------------------------------------------------------------------------------------------------------+\n",
            "\n"
          ],
          "name": "stdout"
        }
      ]
    },
    {
      "cell_type": "markdown",
      "metadata": {
        "id": "uFIKUr0RUw8I"
      },
      "source": [
        "### Let's annotate using a light pipeline. text randonmly taken from the MT Dataset"
      ]
    },
    {
      "cell_type": "code",
      "metadata": {
        "id": "-l0CbLu4U_jB"
      },
      "source": [
        "text = '''\n",
        "MGUS.  His bone marrow biopsy showed a normal cellular bone marrow; however, there were 10% plasma cells and we proceeded with the workup for a plasma cell dyscrasia.  All his tests came back as consistent with an MGUS.\", Hematology - Oncology, MGUS Followup ,\"CHIEF COMPLAINT: , MGUS.,HISTORY OF PRESENT ILLNESS:,  This is an extremely pleasant 86-year-old gentleman, who I follow for his MGUS.  I initially saw him for thrombocytopenia when his ANC was 1300.  A bone marrow biopsy was obtained.  Interestingly enough, at the time of his bone marrow biopsy, his hemoglobin was 13.0 and his white blood cell count was 6.5 with a platelet count of 484,000.  His bone marrow biopsy showed a normal cellular bone marrow; however, there were 10% plasma cells and we proceeded with the workup for a plasma cell dyscrasia.  All his tests came back as consistent with an MGUS.,Overall, he is doing well.  Since I last saw him, he tells me that he has had onset of atrial fibrillation.  He has now started going to the gym two times per week, and has lost over 10 pounds.  He has a good energy level and his ECOG performance status is 0.  He denies any fever, chills, or night sweats.  No lymphadenopathy.  No nausea or vomiting.  No change in bowel or bladder habits.,CURRENT MEDICATIONS: , Multivitamin q.d., aspirin one tablet q.d., Lupron q. three months, Flomax  0.4 mg q.d., and Warfarin 2.5 mg q.d.,ALLERGIES:  ,No known drug allergies.,REVIEW OF SYSTEMS: , As per the HPI, otherwise negative.,PAST MEDICAL HISTORY:,1.  He is status post left inguinal hernia repair.,2.  Prostate cancer diagnosed in December 2004, which was a Gleason 3+4.  He is now receiving Lupron.,SOCIAL HISTORY: , He has a very remote history of tobacco use.  He has one to two alcoholic drinks per day.  He is married.,FAMILY HISTORY: , His brother had prostate cancer.,PHYSICAL EXAM:,VIT:\",\n",
        "'''"
      ],
      "execution_count": 31,
      "outputs": []
    },
    {
      "cell_type": "code",
      "metadata": {
        "id": "lW78dk4GSnoq"
      },
      "source": [
        "clinical_nlp_model_light = LightPipeline(clinical_nlp_model)\n",
        "\n",
        "pred_light = clinical_nlp_model_light.fullAnnotate(text)"
      ],
      "execution_count": 32,
      "outputs": []
    },
    {
      "cell_type": "markdown",
      "metadata": {
        "id": "9MRpeMPvVidM"
      },
      "source": [
        "Using spark_nlp_display we will annotate the results of the text processing done by the clinicalk pipeline"
      ]
    },
    {
      "cell_type": "code",
      "metadata": {
        "id": "iM9rFQYmVOM5",
        "colab": {
          "base_uri": "https://localhost:8080/",
          "height": 954
        },
        "outputId": "9164030a-c2ec-4ed5-d4d9-925dfde4a436"
      },
      "source": [
        "from sparknlp_display import NerVisualizer\n",
        "\n",
        "vis = NerVisualizer()\n",
        "\n",
        "vis.display(pred_light[0], label_col='ner_chunk', document_col='document')"
      ],
      "execution_count": 33,
      "outputs": [
        {
          "output_type": "display_data",
          "data": {
            "text/html": [
              "\n",
              "<style>\n",
              "    @import url('https://fonts.googleapis.com/css2?family=Montserrat:wght@300;400;500;600;700&display=swap');\n",
              "    @import url('https://fonts.googleapis.com/css2?family=Vistol Regular:wght@300;400;500;600;700&display=swap');\n",
              "    \n",
              "    .spark-nlp-display-scroll-entities {\n",
              "        border: 1px solid #E7EDF0;\n",
              "        border-radius: 3px;\n",
              "        text-align: justify;\n",
              "        \n",
              "    }\n",
              "    .spark-nlp-display-scroll-entities span {  \n",
              "        font-size: 14px;\n",
              "        line-height: 24px;\n",
              "        color: #536B76;\n",
              "        font-family: 'Montserrat', sans-serif !important;\n",
              "    }\n",
              "    \n",
              "    .spark-nlp-display-entity-wrapper{\n",
              "    \n",
              "        display: inline-grid;\n",
              "        text-align: center;\n",
              "        border-radius: 4px;\n",
              "        margin: 0 2px 5px 2px;\n",
              "        padding: 1px\n",
              "    }\n",
              "    .spark-nlp-display-entity-name{\n",
              "        font-size: 14px;\n",
              "        line-height: 24px;\n",
              "        font-family: 'Montserrat', sans-serif !important;\n",
              "        \n",
              "        background: #f1f2f3;\n",
              "        border-width: medium;\n",
              "        text-align: center;\n",
              "        \n",
              "        font-weight: 400;\n",
              "        \n",
              "        border-radius: 5px;\n",
              "        padding: 2px 5px;\n",
              "        display: block;\n",
              "        margin: 3px 2px;\n",
              "    \n",
              "    }\n",
              "    .spark-nlp-display-entity-type{\n",
              "        font-size: 14px;\n",
              "        line-height: 24px;\n",
              "        color: #ffffff;\n",
              "        font-family: 'Montserrat', sans-serif !important;\n",
              "        \n",
              "        text-transform: uppercase;\n",
              "        \n",
              "        font-weight: 500;\n",
              "\n",
              "        display: block;\n",
              "        padding: 3px 5px;\n",
              "    }\n",
              "    \n",
              "    .spark-nlp-display-entity-resolution{\n",
              "        font-size: 14px;\n",
              "        line-height: 24px;\n",
              "        color: #ffffff;\n",
              "        font-family: 'Vistol Regular', sans-serif !important;\n",
              "        \n",
              "        text-transform: uppercase;\n",
              "        \n",
              "        font-weight: 500;\n",
              "\n",
              "        display: block;\n",
              "        padding: 3px 5px;\n",
              "    }\n",
              "    \n",
              "    .spark-nlp-display-others{\n",
              "        font-size: 14px;\n",
              "        line-height: 24px;\n",
              "        font-family: 'Montserrat', sans-serif !important;\n",
              "        \n",
              "        font-weight: 400;\n",
              "    }\n",
              "\n",
              "</style>\n",
              " <span class=\"spark-nlp-display-others\" style=\"background-color: white\"><br></span><span class=\"spark-nlp-display-entity-wrapper\" style=\"background-color: #800080\"><span class=\"spark-nlp-display-entity-name\">MGUS </span><span class=\"spark-nlp-display-entity-type\">PROBLEM</span></span><span class=\"spark-nlp-display-others\" style=\"background-color: white\">.  </span><span class=\"spark-nlp-display-entity-wrapper\" style=\"background-color: #77b5fe\"><span class=\"spark-nlp-display-entity-name\">His bone marrow biopsy </span><span class=\"spark-nlp-display-entity-type\">TEST</span></span><span class=\"spark-nlp-display-others\" style=\"background-color: white\"> showed a normal cellular bone marrow; however, there were </span><span class=\"spark-nlp-display-entity-wrapper\" style=\"background-color: #800080\"><span class=\"spark-nlp-display-entity-name\">10% plasma cells </span><span class=\"spark-nlp-display-entity-type\">PROBLEM</span></span><span class=\"spark-nlp-display-others\" style=\"background-color: white\"> and we proceeded with </span><span class=\"spark-nlp-display-entity-wrapper\" style=\"background-color: #77b5fe\"><span class=\"spark-nlp-display-entity-name\">the workup </span><span class=\"spark-nlp-display-entity-type\">TEST</span></span><span class=\"spark-nlp-display-others\" style=\"background-color: white\"> for </span><span class=\"spark-nlp-display-entity-wrapper\" style=\"background-color: #800080\"><span class=\"spark-nlp-display-entity-name\">a plasma cell dyscrasia </span><span class=\"spark-nlp-display-entity-type\">PROBLEM</span></span><span class=\"spark-nlp-display-others\" style=\"background-color: white\">.  All </span><span class=\"spark-nlp-display-entity-wrapper\" style=\"background-color: #77b5fe\"><span class=\"spark-nlp-display-entity-name\">his tests </span><span class=\"spark-nlp-display-entity-type\">TEST</span></span><span class=\"spark-nlp-display-others\" style=\"background-color: white\"> came back as consistent with an MGUS.\", Hematology - Oncology, MGUS Followup ,\"CHIEF COMPLAINT: , </span><span class=\"spark-nlp-display-entity-wrapper\" style=\"background-color: #800080\"><span class=\"spark-nlp-display-entity-name\">MGUS </span><span class=\"spark-nlp-display-entity-type\">PROBLEM</span></span><span class=\"spark-nlp-display-others\" style=\"background-color: white\">.,HISTORY OF PRESENT ILLNESS:,  This is an extremely pleasant 86-year-old gentleman, who I follow for </span><span class=\"spark-nlp-display-entity-wrapper\" style=\"background-color: #800080\"><span class=\"spark-nlp-display-entity-name\">his MGUS </span><span class=\"spark-nlp-display-entity-type\">PROBLEM</span></span><span class=\"spark-nlp-display-others\" style=\"background-color: white\">.  I initially saw him for </span><span class=\"spark-nlp-display-entity-wrapper\" style=\"background-color: #800080\"><span class=\"spark-nlp-display-entity-name\">thrombocytopenia </span><span class=\"spark-nlp-display-entity-type\">PROBLEM</span></span><span class=\"spark-nlp-display-others\" style=\"background-color: white\"> when </span><span class=\"spark-nlp-display-entity-wrapper\" style=\"background-color: #77b5fe\"><span class=\"spark-nlp-display-entity-name\">his ANC </span><span class=\"spark-nlp-display-entity-type\">TEST</span></span><span class=\"spark-nlp-display-others\" style=\"background-color: white\"> was 1300.  </span><span class=\"spark-nlp-display-entity-wrapper\" style=\"background-color: #77b5fe\"><span class=\"spark-nlp-display-entity-name\">A bone marrow biopsy </span><span class=\"spark-nlp-display-entity-type\">TEST</span></span><span class=\"spark-nlp-display-others\" style=\"background-color: white\"> was obtained.  Interestingly enough, at the time of </span><span class=\"spark-nlp-display-entity-wrapper\" style=\"background-color: #77b5fe\"><span class=\"spark-nlp-display-entity-name\">his bone marrow biopsy </span><span class=\"spark-nlp-display-entity-type\">TEST</span></span><span class=\"spark-nlp-display-others\" style=\"background-color: white\">, </span><span class=\"spark-nlp-display-entity-wrapper\" style=\"background-color: #77b5fe\"><span class=\"spark-nlp-display-entity-name\">his hemoglobin </span><span class=\"spark-nlp-display-entity-type\">TEST</span></span><span class=\"spark-nlp-display-others\" style=\"background-color: white\"> was 13.0 and </span><span class=\"spark-nlp-display-entity-wrapper\" style=\"background-color: #77b5fe\"><span class=\"spark-nlp-display-entity-name\">his white blood cell count </span><span class=\"spark-nlp-display-entity-type\">TEST</span></span><span class=\"spark-nlp-display-others\" style=\"background-color: white\"> was 6.5 with </span><span class=\"spark-nlp-display-entity-wrapper\" style=\"background-color: #77b5fe\"><span class=\"spark-nlp-display-entity-name\">a platelet count </span><span class=\"spark-nlp-display-entity-type\">TEST</span></span><span class=\"spark-nlp-display-others\" style=\"background-color: white\"> of 484,000.  </span><span class=\"spark-nlp-display-entity-wrapper\" style=\"background-color: #77b5fe\"><span class=\"spark-nlp-display-entity-name\">His bone marrow biopsy </span><span class=\"spark-nlp-display-entity-type\">TEST</span></span><span class=\"spark-nlp-display-others\" style=\"background-color: white\"> showed a normal cellular bone marrow; however, there were </span><span class=\"spark-nlp-display-entity-wrapper\" style=\"background-color: #800080\"><span class=\"spark-nlp-display-entity-name\">10% plasma cells </span><span class=\"spark-nlp-display-entity-type\">PROBLEM</span></span><span class=\"spark-nlp-display-others\" style=\"background-color: white\"> and we proceeded with </span><span class=\"spark-nlp-display-entity-wrapper\" style=\"background-color: #77b5fe\"><span class=\"spark-nlp-display-entity-name\">the workup </span><span class=\"spark-nlp-display-entity-type\">TEST</span></span><span class=\"spark-nlp-display-others\" style=\"background-color: white\"> for </span><span class=\"spark-nlp-display-entity-wrapper\" style=\"background-color: #800080\"><span class=\"spark-nlp-display-entity-name\">a plasma cell dyscrasia </span><span class=\"spark-nlp-display-entity-type\">PROBLEM</span></span><span class=\"spark-nlp-display-others\" style=\"background-color: white\">.  All </span><span class=\"spark-nlp-display-entity-wrapper\" style=\"background-color: #77b5fe\"><span class=\"spark-nlp-display-entity-name\">his tests </span><span class=\"spark-nlp-display-entity-type\">TEST</span></span><span class=\"spark-nlp-display-others\" style=\"background-color: white\"> came back as consistent with </span><span class=\"spark-nlp-display-entity-wrapper\" style=\"background-color: #800080\"><span class=\"spark-nlp-display-entity-name\">an MGUS </span><span class=\"spark-nlp-display-entity-type\">PROBLEM</span></span><span class=\"spark-nlp-display-others\" style=\"background-color: white\">.,Overall, he is doing well.  Since I last saw him, he tells me that he has had onset of </span><span class=\"spark-nlp-display-entity-wrapper\" style=\"background-color: #800080\"><span class=\"spark-nlp-display-entity-name\">atrial fibrillation </span><span class=\"spark-nlp-display-entity-type\">PROBLEM</span></span><span class=\"spark-nlp-display-others\" style=\"background-color: white\">.  He has now started going to the gym two times per week, and has lost over 10 pounds.  He has a good energy level and his ECOG performance status is 0.  He denies any </span><span class=\"spark-nlp-display-entity-wrapper\" style=\"background-color: #800080\"><span class=\"spark-nlp-display-entity-name\">fever </span><span class=\"spark-nlp-display-entity-type\">PROBLEM</span></span><span class=\"spark-nlp-display-others\" style=\"background-color: white\">, </span><span class=\"spark-nlp-display-entity-wrapper\" style=\"background-color: #800080\"><span class=\"spark-nlp-display-entity-name\">chills </span><span class=\"spark-nlp-display-entity-type\">PROBLEM</span></span><span class=\"spark-nlp-display-others\" style=\"background-color: white\">, or </span><span class=\"spark-nlp-display-entity-wrapper\" style=\"background-color: #800080\"><span class=\"spark-nlp-display-entity-name\">night sweats </span><span class=\"spark-nlp-display-entity-type\">PROBLEM</span></span><span class=\"spark-nlp-display-others\" style=\"background-color: white\">.  No </span><span class=\"spark-nlp-display-entity-wrapper\" style=\"background-color: #800080\"><span class=\"spark-nlp-display-entity-name\">lymphadenopathy </span><span class=\"spark-nlp-display-entity-type\">PROBLEM</span></span><span class=\"spark-nlp-display-others\" style=\"background-color: white\">.  No </span><span class=\"spark-nlp-display-entity-wrapper\" style=\"background-color: #800080\"><span class=\"spark-nlp-display-entity-name\">nausea </span><span class=\"spark-nlp-display-entity-type\">PROBLEM</span></span><span class=\"spark-nlp-display-others\" style=\"background-color: white\"> or </span><span class=\"spark-nlp-display-entity-wrapper\" style=\"background-color: #800080\"><span class=\"spark-nlp-display-entity-name\">vomiting </span><span class=\"spark-nlp-display-entity-type\">PROBLEM</span></span><span class=\"spark-nlp-display-others\" style=\"background-color: white\">.  No </span><span class=\"spark-nlp-display-entity-wrapper\" style=\"background-color: #800080\"><span class=\"spark-nlp-display-entity-name\">change in bowel or bladder habits </span><span class=\"spark-nlp-display-entity-type\">PROBLEM</span></span><span class=\"spark-nlp-display-others\" style=\"background-color: white\">.,CURRENT MEDICATIONS: , </span><span class=\"spark-nlp-display-entity-wrapper\" style=\"background-color: #8b6673\"><span class=\"spark-nlp-display-entity-name\">Multivitamin </span><span class=\"spark-nlp-display-entity-type\">TREATMENT</span></span><span class=\"spark-nlp-display-others\" style=\"background-color: white\"> q.d., </span><span class=\"spark-nlp-display-entity-wrapper\" style=\"background-color: #8b6673\"><span class=\"spark-nlp-display-entity-name\">aspirin </span><span class=\"spark-nlp-display-entity-type\">TREATMENT</span></span><span class=\"spark-nlp-display-others\" style=\"background-color: white\"> one tablet q.d., </span><span class=\"spark-nlp-display-entity-wrapper\" style=\"background-color: #8b6673\"><span class=\"spark-nlp-display-entity-name\">Lupron </span><span class=\"spark-nlp-display-entity-type\">TREATMENT</span></span><span class=\"spark-nlp-display-others\" style=\"background-color: white\"> q. three months, </span><span class=\"spark-nlp-display-entity-wrapper\" style=\"background-color: #8b6673\"><span class=\"spark-nlp-display-entity-name\">Flomax </span><span class=\"spark-nlp-display-entity-type\">TREATMENT</span></span><span class=\"spark-nlp-display-others\" style=\"background-color: white\">  0.4 mg q.d., and </span><span class=\"spark-nlp-display-entity-wrapper\" style=\"background-color: #8b6673\"><span class=\"spark-nlp-display-entity-name\">Warfarin </span><span class=\"spark-nlp-display-entity-type\">TREATMENT</span></span><span class=\"spark-nlp-display-others\" style=\"background-color: white\"> 2.5 mg q.d.,ALLERGIES:  ,No </span><span class=\"spark-nlp-display-entity-wrapper\" style=\"background-color: #800080\"><span class=\"spark-nlp-display-entity-name\">known drug allergies </span><span class=\"spark-nlp-display-entity-type\">PROBLEM</span></span><span class=\"spark-nlp-display-others\" style=\"background-color: white\">.,REVIEW OF SYSTEMS: , As per the HPI, otherwise negative.,PAST MEDICAL HISTORY:,1.  He is status post </span><span class=\"spark-nlp-display-entity-wrapper\" style=\"background-color: #8b6673\"><span class=\"spark-nlp-display-entity-name\">left inguinal hernia repair.,2 </span><span class=\"spark-nlp-display-entity-type\">TREATMENT</span></span><span class=\"spark-nlp-display-others\" style=\"background-color: white\">.  </span><span class=\"spark-nlp-display-entity-wrapper\" style=\"background-color: #800080\"><span class=\"spark-nlp-display-entity-name\">Prostate cancer </span><span class=\"spark-nlp-display-entity-type\">PROBLEM</span></span><span class=\"spark-nlp-display-others\" style=\"background-color: white\"> diagnosed in December 2004, which was a Gleason 3+4.  He is now receiving </span><span class=\"spark-nlp-display-entity-wrapper\" style=\"background-color: #8b6673\"><span class=\"spark-nlp-display-entity-name\">Lupron </span><span class=\"spark-nlp-display-entity-type\">TREATMENT</span></span><span class=\"spark-nlp-display-others\" style=\"background-color: white\">.,SOCIAL HISTORY: , He has a very remote history of tobacco use.  He has one to two alcoholic drinks per day.  He is married.,FAMILY HISTORY: , His brother had </span><span class=\"spark-nlp-display-entity-wrapper\" style=\"background-color: #800080\"><span class=\"spark-nlp-display-entity-name\">prostate cancer </span><span class=\"spark-nlp-display-entity-type\">PROBLEM</span></span><span class=\"spark-nlp-display-others\" style=\"background-color: white\">.,PHYSICAL EXAM:,VIT:\",<br></span></div>"
            ],
            "text/plain": [
              "<IPython.core.display.HTML object>"
            ]
          },
          "metadata": {
            "tags": []
          }
        }
      ]
    },
    {
      "cell_type": "markdown",
      "metadata": {
        "id": "3C2Dxr1daDsB"
      },
      "source": [
        "### Now repeating ther same for a posology pipeline "
      ]
    },
    {
      "cell_type": "code",
      "metadata": {
        "id": "nw8c58xaaDKb"
      },
      "source": [
        "posology_pipeline = Pipeline(stages=[\n",
        "                          assembler,\n",
        "                          sentenceDetector,\n",
        "                          tokenizer,\n",
        "                          word_embeddings,\n",
        "                          posology_ner,\n",
        "                          posology_ner_greedy,\n",
        "                          ner_converter,\n",
        "                          ner_converter_greedy])"
      ],
      "execution_count": 34,
      "outputs": []
    },
    {
      "cell_type": "code",
      "metadata": {
        "id": "siTTMclmacQx"
      },
      "source": [
        "posology_nlp_model = posology_pipeline.fit(nlp_df)"
      ],
      "execution_count": 35,
      "outputs": []
    },
    {
      "cell_type": "code",
      "metadata": {
        "id": "xExCSwFcapgz"
      },
      "source": [
        "posology_nlp_model_light = LightPipeline(posology_nlp_model)\n",
        "\n",
        "posology_pred_light = posology_nlp_model_light.fullAnnotate(text)"
      ],
      "execution_count": 36,
      "outputs": []
    },
    {
      "cell_type": "code",
      "metadata": {
        "id": "FOxaXAM3VxoR",
        "colab": {
          "base_uri": "https://localhost:8080/",
          "height": 487
        },
        "outputId": "82a47ece-8f88-4c14-e999-897e8885ec6b"
      },
      "source": [
        "vis = NerVisualizer()\n",
        "\n",
        "vis.display(posology_pred_light[0], label_col='ner_chunk', document_col='document')"
      ],
      "execution_count": 37,
      "outputs": [
        {
          "output_type": "display_data",
          "data": {
            "text/html": [
              "\n",
              "<style>\n",
              "    @import url('https://fonts.googleapis.com/css2?family=Montserrat:wght@300;400;500;600;700&display=swap');\n",
              "    @import url('https://fonts.googleapis.com/css2?family=Vistol Regular:wght@300;400;500;600;700&display=swap');\n",
              "    \n",
              "    .spark-nlp-display-scroll-entities {\n",
              "        border: 1px solid #E7EDF0;\n",
              "        border-radius: 3px;\n",
              "        text-align: justify;\n",
              "        \n",
              "    }\n",
              "    .spark-nlp-display-scroll-entities span {  \n",
              "        font-size: 14px;\n",
              "        line-height: 24px;\n",
              "        color: #536B76;\n",
              "        font-family: 'Montserrat', sans-serif !important;\n",
              "    }\n",
              "    \n",
              "    .spark-nlp-display-entity-wrapper{\n",
              "    \n",
              "        display: inline-grid;\n",
              "        text-align: center;\n",
              "        border-radius: 4px;\n",
              "        margin: 0 2px 5px 2px;\n",
              "        padding: 1px\n",
              "    }\n",
              "    .spark-nlp-display-entity-name{\n",
              "        font-size: 14px;\n",
              "        line-height: 24px;\n",
              "        font-family: 'Montserrat', sans-serif !important;\n",
              "        \n",
              "        background: #f1f2f3;\n",
              "        border-width: medium;\n",
              "        text-align: center;\n",
              "        \n",
              "        font-weight: 400;\n",
              "        \n",
              "        border-radius: 5px;\n",
              "        padding: 2px 5px;\n",
              "        display: block;\n",
              "        margin: 3px 2px;\n",
              "    \n",
              "    }\n",
              "    .spark-nlp-display-entity-type{\n",
              "        font-size: 14px;\n",
              "        line-height: 24px;\n",
              "        color: #ffffff;\n",
              "        font-family: 'Montserrat', sans-serif !important;\n",
              "        \n",
              "        text-transform: uppercase;\n",
              "        \n",
              "        font-weight: 500;\n",
              "\n",
              "        display: block;\n",
              "        padding: 3px 5px;\n",
              "    }\n",
              "    \n",
              "    .spark-nlp-display-entity-resolution{\n",
              "        font-size: 14px;\n",
              "        line-height: 24px;\n",
              "        color: #ffffff;\n",
              "        font-family: 'Vistol Regular', sans-serif !important;\n",
              "        \n",
              "        text-transform: uppercase;\n",
              "        \n",
              "        font-weight: 500;\n",
              "\n",
              "        display: block;\n",
              "        padding: 3px 5px;\n",
              "    }\n",
              "    \n",
              "    .spark-nlp-display-others{\n",
              "        font-size: 14px;\n",
              "        line-height: 24px;\n",
              "        font-family: 'Montserrat', sans-serif !important;\n",
              "        \n",
              "        font-weight: 400;\n",
              "    }\n",
              "\n",
              "</style>\n",
              " <span class=\"spark-nlp-display-others\" style=\"background-color: white\"><br>MGUS.  His bone marrow biopsy showed a normal cellular bone marrow; however, there were 10% plasma cells and we proceeded with the workup for a plasma cell dyscrasia.  All his tests came back as consistent with an MGUS.\", Hematology - Oncology, MGUS Followup ,\"CHIEF COMPLAINT: , MGUS.,HISTORY OF PRESENT ILLNESS:,  This is an extremely pleasant 86-year-old gentleman, who I follow for his MGUS.  I initially saw him for thrombocytopenia when his ANC was 1300.  A bone marrow biopsy was obtained.  Interestingly enough, at the time of his bone marrow biopsy, his hemoglobin was 13.0 and his white blood cell count was 6.5 with a platelet count of 484,000.  His bone marrow biopsy showed a normal cellular bone marrow; however, there were 10% plasma cells and we proceeded with the workup for a plasma cell dyscrasia.  All his tests came back as consistent with an MGUS.,Overall, he is doing well.  Since I last saw him, he tells me that he has had onset of atrial fibrillation.  He has now started going to the gym two times per week, and has lost over 10 pounds.  He has a good energy level and his ECOG performance status is 0.  He denies any fever, chills, or night sweats.  No lymphadenopathy.  No nausea or vomiting.  No change in bowel or bladder habits.,CURRENT MEDICATIONS: , </span><span class=\"spark-nlp-display-entity-wrapper\" style=\"background-color: #8B668B\"><span class=\"spark-nlp-display-entity-name\">Multivitamin </span><span class=\"spark-nlp-display-entity-type\">DRUG</span></span><span class=\"spark-nlp-display-others\" style=\"background-color: white\"> </span><span class=\"spark-nlp-display-entity-wrapper\" style=\"background-color: #043266\"><span class=\"spark-nlp-display-entity-name\">q.d </span><span class=\"spark-nlp-display-entity-type\">FREQUENCY</span></span><span class=\"spark-nlp-display-others\" style=\"background-color: white\">., </span><span class=\"spark-nlp-display-entity-wrapper\" style=\"background-color: #8B668B\"><span class=\"spark-nlp-display-entity-name\">aspirin </span><span class=\"spark-nlp-display-entity-type\">DRUG</span></span><span class=\"spark-nlp-display-others\" style=\"background-color: white\"> </span><span class=\"spark-nlp-display-entity-wrapper\" style=\"background-color: #537E0B\"><span class=\"spark-nlp-display-entity-name\">one </span><span class=\"spark-nlp-display-entity-type\">DOSAGE</span></span><span class=\"spark-nlp-display-others\" style=\"background-color: white\"> </span><span class=\"spark-nlp-display-entity-wrapper\" style=\"background-color: #128351\"><span class=\"spark-nlp-display-entity-name\">tablet </span><span class=\"spark-nlp-display-entity-type\">FORM</span></span><span class=\"spark-nlp-display-others\" style=\"background-color: white\"> </span><span class=\"spark-nlp-display-entity-wrapper\" style=\"background-color: #043266\"><span class=\"spark-nlp-display-entity-name\">q.d </span><span class=\"spark-nlp-display-entity-type\">FREQUENCY</span></span><span class=\"spark-nlp-display-others\" style=\"background-color: white\">., </span><span class=\"spark-nlp-display-entity-wrapper\" style=\"background-color: #8B668B\"><span class=\"spark-nlp-display-entity-name\">Lupron </span><span class=\"spark-nlp-display-entity-type\">DRUG</span></span><span class=\"spark-nlp-display-others\" style=\"background-color: white\"> </span><span class=\"spark-nlp-display-entity-wrapper\" style=\"background-color: #043266\"><span class=\"spark-nlp-display-entity-name\">q </span><span class=\"spark-nlp-display-entity-type\">FREQUENCY</span></span><span class=\"spark-nlp-display-others\" style=\"background-color: white\">. three months, </span><span class=\"spark-nlp-display-entity-wrapper\" style=\"background-color: #8B668B\"><span class=\"spark-nlp-display-entity-name\">Flomax </span><span class=\"spark-nlp-display-entity-type\">DRUG</span></span><span class=\"spark-nlp-display-others\" style=\"background-color: white\">  </span><span class=\"spark-nlp-display-entity-wrapper\" style=\"background-color: #609C4E\"><span class=\"spark-nlp-display-entity-name\">0.4 mg </span><span class=\"spark-nlp-display-entity-type\">STRENGTH</span></span><span class=\"spark-nlp-display-others\" style=\"background-color: white\"> </span><span class=\"spark-nlp-display-entity-wrapper\" style=\"background-color: #043266\"><span class=\"spark-nlp-display-entity-name\">q.d </span><span class=\"spark-nlp-display-entity-type\">FREQUENCY</span></span><span class=\"spark-nlp-display-others\" style=\"background-color: white\">., and </span><span class=\"spark-nlp-display-entity-wrapper\" style=\"background-color: #8B668B\"><span class=\"spark-nlp-display-entity-name\">Warfarin </span><span class=\"spark-nlp-display-entity-type\">DRUG</span></span><span class=\"spark-nlp-display-others\" style=\"background-color: white\"> </span><span class=\"spark-nlp-display-entity-wrapper\" style=\"background-color: #609C4E\"><span class=\"spark-nlp-display-entity-name\">2.5 mg </span><span class=\"spark-nlp-display-entity-type\">STRENGTH</span></span><span class=\"spark-nlp-display-others\" style=\"background-color: white\"> </span><span class=\"spark-nlp-display-entity-wrapper\" style=\"background-color: #043266\"><span class=\"spark-nlp-display-entity-name\">q.d.,ALLERGIES </span><span class=\"spark-nlp-display-entity-type\">FREQUENCY</span></span><span class=\"spark-nlp-display-others\" style=\"background-color: white\">:  ,No known drug allergies.,REVIEW OF SYSTEMS: , As per the HPI, otherwise negative.,PAST MEDICAL HISTORY:,1.  He is status post left inguinal hernia repair.,2.  Prostate cancer diagnosed in December 2004, which was a Gleason 3+4.  He is now receiving </span><span class=\"spark-nlp-display-entity-wrapper\" style=\"background-color: #8B668B\"><span class=\"spark-nlp-display-entity-name\">Lupron </span><span class=\"spark-nlp-display-entity-type\">DRUG</span></span><span class=\"spark-nlp-display-others\" style=\"background-color: white\">.,SOCIAL HISTORY: , He has a very remote history of tobacco use.  He has one to two alcoholic drinks per day.  He is married.,FAMILY HISTORY: , His brother had prostate cancer.,PHYSICAL EXAM:,VIT:\",<br></span></div>"
            ],
            "text/plain": [
              "<IPython.core.display.HTML object>"
            ]
          },
          "metadata": {
            "tags": []
          }
        }
      ]
    },
    {
      "cell_type": "code",
      "metadata": {
        "id": "H5YJddBPcGE3",
        "colab": {
          "base_uri": "https://localhost:8080/",
          "height": 487
        },
        "outputId": "9ad4c68a-78de-43a2-9c4d-34cae75b4a38"
      },
      "source": [
        "vis.display(posology_pred_light[0], label_col='ner_chunk_greedy', document_col='document')"
      ],
      "execution_count": 38,
      "outputs": [
        {
          "output_type": "display_data",
          "data": {
            "text/html": [
              "\n",
              "<style>\n",
              "    @import url('https://fonts.googleapis.com/css2?family=Montserrat:wght@300;400;500;600;700&display=swap');\n",
              "    @import url('https://fonts.googleapis.com/css2?family=Vistol Regular:wght@300;400;500;600;700&display=swap');\n",
              "    \n",
              "    .spark-nlp-display-scroll-entities {\n",
              "        border: 1px solid #E7EDF0;\n",
              "        border-radius: 3px;\n",
              "        text-align: justify;\n",
              "        \n",
              "    }\n",
              "    .spark-nlp-display-scroll-entities span {  \n",
              "        font-size: 14px;\n",
              "        line-height: 24px;\n",
              "        color: #536B76;\n",
              "        font-family: 'Montserrat', sans-serif !important;\n",
              "    }\n",
              "    \n",
              "    .spark-nlp-display-entity-wrapper{\n",
              "    \n",
              "        display: inline-grid;\n",
              "        text-align: center;\n",
              "        border-radius: 4px;\n",
              "        margin: 0 2px 5px 2px;\n",
              "        padding: 1px\n",
              "    }\n",
              "    .spark-nlp-display-entity-name{\n",
              "        font-size: 14px;\n",
              "        line-height: 24px;\n",
              "        font-family: 'Montserrat', sans-serif !important;\n",
              "        \n",
              "        background: #f1f2f3;\n",
              "        border-width: medium;\n",
              "        text-align: center;\n",
              "        \n",
              "        font-weight: 400;\n",
              "        \n",
              "        border-radius: 5px;\n",
              "        padding: 2px 5px;\n",
              "        display: block;\n",
              "        margin: 3px 2px;\n",
              "    \n",
              "    }\n",
              "    .spark-nlp-display-entity-type{\n",
              "        font-size: 14px;\n",
              "        line-height: 24px;\n",
              "        color: #ffffff;\n",
              "        font-family: 'Montserrat', sans-serif !important;\n",
              "        \n",
              "        text-transform: uppercase;\n",
              "        \n",
              "        font-weight: 500;\n",
              "\n",
              "        display: block;\n",
              "        padding: 3px 5px;\n",
              "    }\n",
              "    \n",
              "    .spark-nlp-display-entity-resolution{\n",
              "        font-size: 14px;\n",
              "        line-height: 24px;\n",
              "        color: #ffffff;\n",
              "        font-family: 'Vistol Regular', sans-serif !important;\n",
              "        \n",
              "        text-transform: uppercase;\n",
              "        \n",
              "        font-weight: 500;\n",
              "\n",
              "        display: block;\n",
              "        padding: 3px 5px;\n",
              "    }\n",
              "    \n",
              "    .spark-nlp-display-others{\n",
              "        font-size: 14px;\n",
              "        line-height: 24px;\n",
              "        font-family: 'Montserrat', sans-serif !important;\n",
              "        \n",
              "        font-weight: 400;\n",
              "    }\n",
              "\n",
              "</style>\n",
              " <span class=\"spark-nlp-display-others\" style=\"background-color: white\"><br>MGUS.  His bone marrow biopsy showed a normal cellular bone marrow; however, there were 10% plasma cells and we proceeded with the workup for a plasma cell dyscrasia.  All his tests came back as consistent with an MGUS.\", Hematology - Oncology, MGUS Followup ,\"CHIEF COMPLAINT: , MGUS.,HISTORY OF PRESENT ILLNESS:,  This is an extremely pleasant 86-year-old gentleman, who I follow for his MGUS.  I initially saw him for thrombocytopenia when his ANC was 1300.  A bone marrow biopsy was obtained.  Interestingly enough, at the time of his bone marrow biopsy, his hemoglobin was 13.0 and his white blood cell count was 6.5 with a platelet count of 484,000.  His bone marrow biopsy showed a normal cellular bone marrow; however, there were 10% plasma cells and we proceeded with the workup for a plasma cell dyscrasia.  All his tests came back as consistent with an MGUS.,Overall, he is doing well.  Since I last saw him, he tells me that he has had onset of atrial fibrillation.  He has now started going to the gym two times per week, and has lost over 10 pounds.  He has a good energy level and his ECOG performance status is 0.  He denies any fever, chills, or night sweats.  No lymphadenopathy.  No nausea or vomiting.  No change in bowel or bladder habits.,CURRENT MEDICATIONS: , </span><span class=\"spark-nlp-display-entity-wrapper\" style=\"background-color: #8B668B\"><span class=\"spark-nlp-display-entity-name\">Multivitamin </span><span class=\"spark-nlp-display-entity-type\">DRUG</span></span><span class=\"spark-nlp-display-others\" style=\"background-color: white\"> </span><span class=\"spark-nlp-display-entity-wrapper\" style=\"background-color: #A6C722\"><span class=\"spark-nlp-display-entity-name\">q.d </span><span class=\"spark-nlp-display-entity-type\">FREQUENCY</span></span><span class=\"spark-nlp-display-others\" style=\"background-color: white\">., </span><span class=\"spark-nlp-display-entity-wrapper\" style=\"background-color: #8B668B\"><span class=\"spark-nlp-display-entity-name\">aspirin one tablet </span><span class=\"spark-nlp-display-entity-type\">DRUG</span></span><span class=\"spark-nlp-display-others\" style=\"background-color: white\"> </span><span class=\"spark-nlp-display-entity-wrapper\" style=\"background-color: #A6C722\"><span class=\"spark-nlp-display-entity-name\">q.d </span><span class=\"spark-nlp-display-entity-type\">FREQUENCY</span></span><span class=\"spark-nlp-display-others\" style=\"background-color: white\">., Lupron q. three months, </span><span class=\"spark-nlp-display-entity-wrapper\" style=\"background-color: #8B668B\"><span class=\"spark-nlp-display-entity-name\">Flomax  0.4 mg </span><span class=\"spark-nlp-display-entity-type\">DRUG</span></span><span class=\"spark-nlp-display-others\" style=\"background-color: white\"> </span><span class=\"spark-nlp-display-entity-wrapper\" style=\"background-color: #A6C722\"><span class=\"spark-nlp-display-entity-name\">q.d </span><span class=\"spark-nlp-display-entity-type\">FREQUENCY</span></span><span class=\"spark-nlp-display-others\" style=\"background-color: white\">., and </span><span class=\"spark-nlp-display-entity-wrapper\" style=\"background-color: #8B668B\"><span class=\"spark-nlp-display-entity-name\">Warfarin 2.5 mg </span><span class=\"spark-nlp-display-entity-type\">DRUG</span></span><span class=\"spark-nlp-display-others\" style=\"background-color: white\"> </span><span class=\"spark-nlp-display-entity-wrapper\" style=\"background-color: #A6C722\"><span class=\"spark-nlp-display-entity-name\">q.d.,ALLERGIES </span><span class=\"spark-nlp-display-entity-type\">FREQUENCY</span></span><span class=\"spark-nlp-display-others\" style=\"background-color: white\">:  ,No known drug allergies.,REVIEW OF SYSTEMS: , As per the HPI, otherwise negative.,PAST MEDICAL HISTORY:,1.  He is status post left inguinal hernia repair.,2.  Prostate cancer diagnosed in December 2004, which was a Gleason 3+4.  He is now receiving </span><span class=\"spark-nlp-display-entity-wrapper\" style=\"background-color: #8B668B\"><span class=\"spark-nlp-display-entity-name\">Lupron </span><span class=\"spark-nlp-display-entity-type\">DRUG</span></span><span class=\"spark-nlp-display-others\" style=\"background-color: white\">.,SOCIAL HISTORY: , He has a very remote history of tobacco use.  He has one to two alcoholic drinks per day.  He is married.,FAMILY HISTORY: , His brother had prostate cancer.,PHYSICAL EXAM:,VIT:\",<br></span></div>"
            ],
            "text/plain": [
              "<IPython.core.display.HTML object>"
            ]
          },
          "metadata": {
            "tags": []
          }
        }
      ]
    },
    {
      "cell_type": "markdown",
      "metadata": {
        "id": "s44qGePwdxhh"
      },
      "source": [
        "### Classifier task on Adverse Drug Interactions using Spark-NLP, Neural Network Deel learning using Tensorflow"
      ]
    },
    {
      "cell_type": "markdown",
      "metadata": {
        "id": "Knr7cZJbrsWA"
      },
      "source": [
        "\n",
        "This new one has more than 25k\n",
        "\n",
        "!pip install datasets\n",
        "\n",
        "from datasets import load_dataset\n",
        "\n",
        "dataset = load_dataset(\n",
        "\n",
        "   'ade_corpus_v2', 'Ade_corpus_v2_classification')\n",
        "   "
      ]
    },
    {
      "cell_type": "code",
      "metadata": {
        "id": "g1ZTipOzdwvI"
      },
      "source": [
        "! wget -q\thttps://raw.githubusercontent.com/JohnSnowLabs/spark-nlp-workshop/master/tutorials/Certification_Trainings/Healthcare/data/sample_ADE_dataset.csv"
      ],
      "execution_count": null,
      "outputs": []
    },
    {
      "cell_type": "code",
      "metadata": {
        "id": "lIVDqx_jrrOU",
        "colab": {
          "base_uri": "https://localhost:8080/",
          "height": 888,
          "referenced_widgets": [
            "41d6cd49054649b4b1b64d84611a915e",
            "3642979f37ab45c5a7eeb13a2f474f53",
            "2b1bf0323b974d218d5ac63144304445",
            "0113e58f91fd436fa1805550ee81d57a",
            "4b5dd94771454bb3a7c2bb2470d4203f",
            "3f329753aa9c4c6fb89a562201b52dd5",
            "7f13e1f1acf54709a49c84f02047d964",
            "0a59ddb4fdb04a75b2529e3d0e06d310",
            "9323a59dde3d4427aa2f4125c0d1d11f",
            "e2e0b8a5f76d4d91b4a74d78d49d8702",
            "24c915e3b3884aa6a1416e4ca7ab9956",
            "d005238459104e529fcc8b4005146f2c",
            "e6bae5e82a9449abbcb4c5576897aa82",
            "091ed32b31514d6a9b2e6b8fdd64abf4",
            "1cb44176321b4e659bcbfec7436cbf20",
            "7184c4163c974c579b5bc7e16c446d48",
            "4e1310251b8644f6b8e24fe3e2066ced",
            "fe53f80caabb4bf59b2ae6f2a6912ddb",
            "cd3cf000248e4fa48e325dfc42f20c54",
            "c3596845da1e4abb9ed158448960f165",
            "8d31e25906144512bd31c161b1924c81",
            "33021e9dcc4c4c1aa9f309bf1b2ea1c3",
            "af4fae58c67e4259b995029dac0f90cd",
            "c241cc4b1df44711ba3c83e74e98b74a",
            "c217a9598be4402da5005afb56f61860",
            "be9a88fb6beb467eaf079a48dc0e982a",
            "749e35f993f243ba8c06f4f3486d3894",
            "ab3768b658784bb0b353e8c00dde6669",
            "bd569bbc64f94202af426eb8b20a296f",
            "a9fce10bcb57437ea912fec386cd4d8b",
            "63213c0f8ea34cc892a6bdbca81ddb91",
            "57ec57f5511d49caa61f0630c6f50b04",
            "bba6ddf13dad4234a3f188b88d8b473a",
            "8564767d62044f9799dc7e21962cb818",
            "7470dbebaba94a8cb21b18665b514a29",
            "6537fdf7ddbb49b4bf7385bc0d3fbd15",
            "774dd5bc54b74c9e9d7ffe5ce7edc2ef",
            "26e3c33a66a549a3b2569f7dd15ef852",
            "4b0ba2c7891b42828eb08c4e1f2840d9",
            "74f34dc47d17494e8715733de109ff80",
            "a22205bf434f4bc6ae242fc7401b3b23",
            "e8dd3c34eb2146f089eeb593caf63e55",
            "fe730dd5b59f4cf5bd2975c0be26e677",
            "b04566dd85dd4ab8836741315ac75b0f",
            "ac6a8c32a49947aea02acfc318a3bd03",
            "7595ca2d575b460c8d37bfc4464fc484",
            "419d68706ff04229b443e90bab075668",
            "5cc2938047bc4ff4bd4971168d84ea2f"
          ]
        },
        "outputId": "7ba239af-57d7-416f-961a-6b2069a033fd"
      },
      "source": [
        "!pip install datasets\n",
        "\n",
        "from datasets import load_dataset\n",
        "\n",
        "dataset = load_dataset(\n",
        "\n",
        "'ade_corpus_v2', 'Ade_corpus_v2_classification')"
      ],
      "execution_count": 39,
      "outputs": [
        {
          "output_type": "stream",
          "text": [
            "Collecting datasets\n",
            "\u001b[?25l  Downloading https://files.pythonhosted.org/packages/df/4f/8ef6e4df6e92fc02da620ccfac249112619e5c21273a836958160d6e96fb/datasets-1.6.1-py3-none-any.whl (220kB)\n",
            "\r\u001b[K     |█▌                              | 10kB 10.7MB/s eta 0:00:01\r\u001b[K     |███                             | 20kB 14.7MB/s eta 0:00:01\r\u001b[K     |████▌                           | 30kB 10.7MB/s eta 0:00:01\r\u001b[K     |██████                          | 40kB 8.9MB/s eta 0:00:01\r\u001b[K     |███████▍                        | 51kB 5.4MB/s eta 0:00:01\r\u001b[K     |█████████                       | 61kB 5.9MB/s eta 0:00:01\r\u001b[K     |██████████▍                     | 71kB 5.4MB/s eta 0:00:01\r\u001b[K     |███████████▉                    | 81kB 6.0MB/s eta 0:00:01\r\u001b[K     |█████████████▍                  | 92kB 6.1MB/s eta 0:00:01\r\u001b[K     |██████████████▉                 | 102kB 6.5MB/s eta 0:00:01\r\u001b[K     |████████████████▍               | 112kB 6.5MB/s eta 0:00:01\r\u001b[K     |█████████████████▉              | 122kB 6.5MB/s eta 0:00:01\r\u001b[K     |███████████████████▎            | 133kB 6.5MB/s eta 0:00:01\r\u001b[K     |████████████████████▉           | 143kB 6.5MB/s eta 0:00:01\r\u001b[K     |██████████████████████▎         | 153kB 6.5MB/s eta 0:00:01\r\u001b[K     |███████████████████████▊        | 163kB 6.5MB/s eta 0:00:01\r\u001b[K     |█████████████████████████▎      | 174kB 6.5MB/s eta 0:00:01\r\u001b[K     |██████████████████████████▊     | 184kB 6.5MB/s eta 0:00:01\r\u001b[K     |████████████████████████████▏   | 194kB 6.5MB/s eta 0:00:01\r\u001b[K     |█████████████████████████████▊  | 204kB 6.5MB/s eta 0:00:01\r\u001b[K     |███████████████████████████████▏| 215kB 6.5MB/s eta 0:00:01\r\u001b[K     |████████████████████████████████| 225kB 6.5MB/s \n",
            "\u001b[?25hCollecting huggingface-hub<0.1.0\n",
            "  Downloading https://files.pythonhosted.org/packages/a1/88/7b1e45720ecf59c6c6737ff332f41c955963090a18e72acbcbeac6b25e86/huggingface_hub-0.0.8-py3-none-any.whl\n",
            "Requirement already satisfied: pandas in /usr/local/lib/python3.7/dist-packages (from datasets) (1.1.5)\n",
            "Requirement already satisfied: tqdm<4.50.0,>=4.27 in /usr/local/lib/python3.7/dist-packages (from datasets) (4.41.1)\n",
            "Collecting fsspec\n",
            "\u001b[?25l  Downloading https://files.pythonhosted.org/packages/e9/91/2ef649137816850fa4f4c97c6f2eabb1a79bf0aa2c8ed198e387e373455e/fsspec-2021.4.0-py3-none-any.whl (108kB)\n",
            "\u001b[K     |████████████████████████████████| 112kB 9.2MB/s \n",
            "\u001b[?25hRequirement already satisfied: importlib-metadata; python_version < \"3.8\" in /usr/local/lib/python3.7/dist-packages (from datasets) (3.10.1)\n",
            "Requirement already satisfied: multiprocess in /usr/local/lib/python3.7/dist-packages (from datasets) (0.70.11.1)\n",
            "Requirement already satisfied: dill in /usr/local/lib/python3.7/dist-packages (from datasets) (0.3.3)\n",
            "Requirement already satisfied: numpy>=1.17 in /usr/local/lib/python3.7/dist-packages (from datasets) (1.19.5)\n",
            "Requirement already satisfied: pyarrow>=1.0.0 in /usr/local/lib/python3.7/dist-packages (from datasets) (3.0.0)\n",
            "Collecting xxhash\n",
            "\u001b[?25l  Downloading https://files.pythonhosted.org/packages/7d/4f/0a862cad26aa2ed7a7cd87178cbbfa824fc1383e472d63596a0d018374e7/xxhash-2.0.2-cp37-cp37m-manylinux2010_x86_64.whl (243kB)\n",
            "\u001b[K     |████████████████████████████████| 245kB 8.4MB/s \n",
            "\u001b[?25hRequirement already satisfied: requests>=2.19.0 in /usr/local/lib/python3.7/dist-packages (from datasets) (2.23.0)\n",
            "Requirement already satisfied: packaging in /usr/local/lib/python3.7/dist-packages (from datasets) (20.9)\n",
            "Requirement already satisfied: filelock in /usr/local/lib/python3.7/dist-packages (from huggingface-hub<0.1.0->datasets) (3.0.12)\n",
            "Requirement already satisfied: pytz>=2017.2 in /usr/local/lib/python3.7/dist-packages (from pandas->datasets) (2018.9)\n",
            "Requirement already satisfied: python-dateutil>=2.7.3 in /usr/local/lib/python3.7/dist-packages (from pandas->datasets) (2.8.1)\n",
            "Requirement already satisfied: typing-extensions>=3.6.4; python_version < \"3.8\" in /usr/local/lib/python3.7/dist-packages (from importlib-metadata; python_version < \"3.8\"->datasets) (3.7.4.3)\n",
            "Requirement already satisfied: zipp>=0.5 in /usr/local/lib/python3.7/dist-packages (from importlib-metadata; python_version < \"3.8\"->datasets) (3.4.1)\n",
            "Requirement already satisfied: idna<3,>=2.5 in /usr/local/lib/python3.7/dist-packages (from requests>=2.19.0->datasets) (2.10)\n",
            "Requirement already satisfied: chardet<4,>=3.0.2 in /usr/local/lib/python3.7/dist-packages (from requests>=2.19.0->datasets) (3.0.4)\n",
            "Requirement already satisfied: urllib3!=1.25.0,!=1.25.1,<1.26,>=1.21.1 in /usr/local/lib/python3.7/dist-packages (from requests>=2.19.0->datasets) (1.24.3)\n",
            "Requirement already satisfied: certifi>=2017.4.17 in /usr/local/lib/python3.7/dist-packages (from requests>=2.19.0->datasets) (2020.12.5)\n",
            "Requirement already satisfied: pyparsing>=2.0.2 in /usr/local/lib/python3.7/dist-packages (from packaging->datasets) (2.4.7)\n",
            "Requirement already satisfied: six>=1.5 in /usr/local/lib/python3.7/dist-packages (from python-dateutil>=2.7.3->pandas->datasets) (1.15.0)\n",
            "Installing collected packages: huggingface-hub, fsspec, xxhash, datasets\n",
            "Successfully installed datasets-1.6.1 fsspec-2021.4.0 huggingface-hub-0.0.8 xxhash-2.0.2\n"
          ],
          "name": "stdout"
        },
        {
          "output_type": "display_data",
          "data": {
            "application/vnd.jupyter.widget-view+json": {
              "model_id": "41d6cd49054649b4b1b64d84611a915e",
              "version_minor": 0,
              "version_major": 2
            },
            "text/plain": [
              "HBox(children=(FloatProgress(value=0.0, description='Downloading', max=3020.0, style=ProgressStyle(description…"
            ]
          },
          "metadata": {
            "tags": []
          }
        },
        {
          "output_type": "stream",
          "text": [
            "\n"
          ],
          "name": "stdout"
        },
        {
          "output_type": "display_data",
          "data": {
            "application/vnd.jupyter.widget-view+json": {
              "model_id": "9323a59dde3d4427aa2f4125c0d1d11f",
              "version_minor": 0,
              "version_major": 2
            },
            "text/plain": [
              "HBox(children=(FloatProgress(value=0.0, description='Downloading', max=1917.0, style=ProgressStyle(description…"
            ]
          },
          "metadata": {
            "tags": []
          }
        },
        {
          "output_type": "stream",
          "text": [
            "\n",
            "Downloading and preparing dataset ade_corpus_v2/Ade_corpus_v2_classification (download: 3.62 MiB, generated: 3.25 MiB, post-processed: Unknown size, total: 6.86 MiB) to /root/.cache/huggingface/datasets/ade_corpus_v2/Ade_corpus_v2_classification/1.0.0/940d61334dbfac6b01ac5d00286a2122608b8dc79706ee7e9206a1edb172c559...\n"
          ],
          "name": "stdout"
        },
        {
          "output_type": "display_data",
          "data": {
            "application/vnd.jupyter.widget-view+json": {
              "model_id": "4e1310251b8644f6b8e24fe3e2066ced",
              "version_minor": 0,
              "version_major": 2
            },
            "text/plain": [
              "HBox(children=(FloatProgress(value=0.0, description='Downloading', max=306554.0, style=ProgressStyle(descripti…"
            ]
          },
          "metadata": {
            "tags": []
          }
        },
        {
          "output_type": "stream",
          "text": [
            "\n"
          ],
          "name": "stdout"
        },
        {
          "output_type": "display_data",
          "data": {
            "application/vnd.jupyter.widget-view+json": {
              "model_id": "c217a9598be4402da5005afb56f61860",
              "version_minor": 0,
              "version_major": 2
            },
            "text/plain": [
              "HBox(children=(FloatProgress(value=0.0, description='Downloading', max=18007.0, style=ProgressStyle(descriptio…"
            ]
          },
          "metadata": {
            "tags": []
          }
        },
        {
          "output_type": "stream",
          "text": [
            "\n"
          ],
          "name": "stdout"
        },
        {
          "output_type": "display_data",
          "data": {
            "application/vnd.jupyter.widget-view+json": {
              "model_id": "bba6ddf13dad4234a3f188b88d8b473a",
              "version_minor": 0,
              "version_major": 2
            },
            "text/plain": [
              "HBox(children=(FloatProgress(value=0.0, description='Downloading', max=867712.0, style=ProgressStyle(descripti…"
            ]
          },
          "metadata": {
            "tags": []
          }
        },
        {
          "output_type": "stream",
          "text": [
            "\n"
          ],
          "name": "stdout"
        },
        {
          "output_type": "display_data",
          "data": {
            "application/vnd.jupyter.widget-view+json": {
              "model_id": "a22205bf434f4bc6ae242fc7401b3b23",
              "version_minor": 0,
              "version_major": 2
            },
            "text/plain": [
              "HBox(children=(FloatProgress(value=1.0, bar_style='info', max=1.0), HTML(value='')))"
            ]
          },
          "metadata": {
            "tags": []
          }
        },
        {
          "output_type": "stream",
          "text": [
            "\rDataset ade_corpus_v2 downloaded and prepared to /root/.cache/huggingface/datasets/ade_corpus_v2/Ade_corpus_v2_classification/1.0.0/940d61334dbfac6b01ac5d00286a2122608b8dc79706ee7e9206a1edb172c559. Subsequent calls will reuse this data.\n"
          ],
          "name": "stdout"
        }
      ]
    },
    {
      "cell_type": "code",
      "metadata": {
        "id": "e7QYrPtwGFg8",
        "colab": {
          "base_uri": "https://localhost:8080/"
        },
        "outputId": "abe81573-3302-4026-f318-9ad28ba1508b"
      },
      "source": [
        "cd /root/.cache/huggingface/datasets/ade_corpus_v2/Ade_corpus_v2_classification/1.0.0/"
      ],
      "execution_count": 40,
      "outputs": [
        {
          "output_type": "stream",
          "text": [
            "/root/.cache/huggingface/datasets/ade_corpus_v2/Ade_corpus_v2_classification/1.0.0\n"
          ],
          "name": "stdout"
        }
      ]
    },
    {
      "cell_type": "code",
      "metadata": {
        "id": "xDmIDfwoGLDK",
        "colab": {
          "base_uri": "https://localhost:8080/"
        },
        "outputId": "19dcb38f-2b80-4590-ba98-451dfdb5cc85"
      },
      "source": [
        "cd 940d61334dbfac6b01ac5d00286a2122608b8dc79706ee7e9206a1edb172c559"
      ],
      "execution_count": null,
      "outputs": [
        {
          "output_type": "stream",
          "text": [
            "/root/.cache/huggingface/datasets/ade_corpus_v2/Ade_corpus_v2_classification/1.0.0/940d61334dbfac6b01ac5d00286a2122608b8dc79706ee7e9206a1edb172c559\n"
          ],
          "name": "stdout"
        }
      ]
    },
    {
      "cell_type": "code",
      "metadata": {
        "id": "PoIg6UczGNtJ",
        "colab": {
          "base_uri": "https://localhost:8080/"
        },
        "outputId": "eaf15a18-e40c-47f2-c622-699545ff4bb8"
      },
      "source": [
        "ls -al"
      ],
      "execution_count": 41,
      "outputs": [
        {
          "output_type": "stream",
          "text": [
            "total 12\n",
            "drwxr-xr-x 3 root root 4096 Apr 28 21:33 \u001b[0m\u001b[01;34m.\u001b[0m/\n",
            "drwxr-xr-x 3 root root 4096 Apr 28 21:33 \u001b[01;34m..\u001b[0m/\n",
            "drwxr-xr-x 2 root root 4096 Apr 28 21:33 \u001b[01;34m940d61334dbfac6b01ac5d00286a2122608b8dc79706ee7e9206a1edb172c559\u001b[0m\u001b[K/\n"
          ],
          "name": "stdout"
        }
      ]
    },
    {
      "cell_type": "code",
      "metadata": {
        "id": "djJMh9K8GPIS"
      },
      "source": [
        "dict_val = dataset.values()"
      ],
      "execution_count": 42,
      "outputs": []
    },
    {
      "cell_type": "code",
      "metadata": {
        "id": "xYires_qV-ls",
        "colab": {
          "base_uri": "https://localhost:8080/"
        },
        "outputId": "7ffdca2f-4b0e-4fab-e959-937ccb06d512"
      },
      "source": [
        "import pandas as pd\n",
        "\n",
        "text = []\n",
        "label = []\n",
        "\n",
        "for feats in dict_val:\n",
        "    text = feats[\"text\"]\n",
        "    label = feats[\"label\"]\n",
        "    \n",
        "dict = {'text':text,'label':label}\n",
        "pd_df = pd.DataFrame(dict, columns=['text','label'])\n",
        "\n",
        "print(text[1], \" \", label[1])"
      ],
      "execution_count": 43,
      "outputs": [
        {
          "output_type": "stream",
          "text": [
            "Immobilization, while Paget's bone disease was present, and perhaps enhanced activation of dihydrotachysterol by rifampicin, could have led to increased calcium-release into the circulation.   1\n"
          ],
          "name": "stdout"
        }
      ]
    },
    {
      "cell_type": "code",
      "metadata": {
        "id": "bWAfi6SzM9Dq",
        "colab": {
          "base_uri": "https://localhost:8080/",
          "height": 407
        },
        "outputId": "074ba97e-62ff-4ece-e288-df4779435125"
      },
      "source": [
        "pd_df"
      ],
      "execution_count": 44,
      "outputs": [
        {
          "output_type": "execute_result",
          "data": {
            "text/html": [
              "<div>\n",
              "<style scoped>\n",
              "    .dataframe tbody tr th:only-of-type {\n",
              "        vertical-align: middle;\n",
              "    }\n",
              "\n",
              "    .dataframe tbody tr th {\n",
              "        vertical-align: top;\n",
              "    }\n",
              "\n",
              "    .dataframe thead th {\n",
              "        text-align: right;\n",
              "    }\n",
              "</style>\n",
              "<table border=\"1\" class=\"dataframe\">\n",
              "  <thead>\n",
              "    <tr style=\"text-align: right;\">\n",
              "      <th></th>\n",
              "      <th>text</th>\n",
              "      <th>label</th>\n",
              "    </tr>\n",
              "  </thead>\n",
              "  <tbody>\n",
              "    <tr>\n",
              "      <th>0</th>\n",
              "      <td>Intravenous azithromycin-induced ototoxicity.</td>\n",
              "      <td>1</td>\n",
              "    </tr>\n",
              "    <tr>\n",
              "      <th>1</th>\n",
              "      <td>Immobilization, while Paget's bone disease was...</td>\n",
              "      <td>1</td>\n",
              "    </tr>\n",
              "    <tr>\n",
              "      <th>2</th>\n",
              "      <td>Unaccountable severe hypercalcemia in a patien...</td>\n",
              "      <td>1</td>\n",
              "    </tr>\n",
              "    <tr>\n",
              "      <th>3</th>\n",
              "      <td>METHODS: We report two cases of pseudoporphyri...</td>\n",
              "      <td>1</td>\n",
              "    </tr>\n",
              "    <tr>\n",
              "      <th>4</th>\n",
              "      <td>METHODS: We report two cases of pseudoporphyri...</td>\n",
              "      <td>1</td>\n",
              "    </tr>\n",
              "    <tr>\n",
              "      <th>...</th>\n",
              "      <td>...</td>\n",
              "      <td>...</td>\n",
              "    </tr>\n",
              "    <tr>\n",
              "      <th>23511</th>\n",
              "      <td>At autopsy, the liver was found to be small, s...</td>\n",
              "      <td>0</td>\n",
              "    </tr>\n",
              "    <tr>\n",
              "      <th>23512</th>\n",
              "      <td>Physical exam revealed a patient with aphasia,...</td>\n",
              "      <td>0</td>\n",
              "    </tr>\n",
              "    <tr>\n",
              "      <th>23513</th>\n",
              "      <td>At the time when the leukemia appeared seven o...</td>\n",
              "      <td>0</td>\n",
              "    </tr>\n",
              "    <tr>\n",
              "      <th>23514</th>\n",
              "      <td>The American Society for Regional Anesthesia a...</td>\n",
              "      <td>0</td>\n",
              "    </tr>\n",
              "    <tr>\n",
              "      <th>23515</th>\n",
              "      <td>Concomitant administration of estradiol result...</td>\n",
              "      <td>0</td>\n",
              "    </tr>\n",
              "  </tbody>\n",
              "</table>\n",
              "<p>23516 rows × 2 columns</p>\n",
              "</div>"
            ],
            "text/plain": [
              "                                                    text  label\n",
              "0          Intravenous azithromycin-induced ototoxicity.      1\n",
              "1      Immobilization, while Paget's bone disease was...      1\n",
              "2      Unaccountable severe hypercalcemia in a patien...      1\n",
              "3      METHODS: We report two cases of pseudoporphyri...      1\n",
              "4      METHODS: We report two cases of pseudoporphyri...      1\n",
              "...                                                  ...    ...\n",
              "23511  At autopsy, the liver was found to be small, s...      0\n",
              "23512  Physical exam revealed a patient with aphasia,...      0\n",
              "23513  At the time when the leukemia appeared seven o...      0\n",
              "23514  The American Society for Regional Anesthesia a...      0\n",
              "23515  Concomitant administration of estradiol result...      0\n",
              "\n",
              "[23516 rows x 2 columns]"
            ]
          },
          "metadata": {
            "tags": []
          },
          "execution_count": 44
        }
      ]
    },
    {
      "cell_type": "markdown",
      "metadata": {
        "id": "i8EmjtvtHqax"
      },
      "source": [
        "Count number of cases of positive or negative for ADR"
      ]
    },
    {
      "cell_type": "code",
      "metadata": {
        "id": "65TiDlkUROCC",
        "colab": {
          "base_uri": "https://localhost:8080/"
        },
        "outputId": "7197e7eb-9a9d-4c1b-9ba6-967bcfee4ffc"
      },
      "source": [
        "pd_df.label.value_counts()"
      ],
      "execution_count": 45,
      "outputs": [
        {
          "output_type": "execute_result",
          "data": {
            "text/plain": [
              "0    16695\n",
              "1     6821\n",
              "Name: label, dtype: int64"
            ]
          },
          "metadata": {
            "tags": []
          },
          "execution_count": 45
        }
      ]
    },
    {
      "cell_type": "markdown",
      "metadata": {
        "id": "u00YtmzlXzDd"
      },
      "source": [
        "Convert to **Spark** dataframe"
      ]
    },
    {
      "cell_type": "code",
      "metadata": {
        "id": "84eRe12oH0pe",
        "colab": {
          "base_uri": "https://localhost:8080/"
        },
        "outputId": "ac76c725-0ce0-40cb-9c88-51fe8fea5cda"
      },
      "source": [
        "from pyspark.sql.functions import *\n",
        "spark_df = spark.createDataFrame(pd_df)\n",
        "spark_df = spark_df.withColumn(\"label\", col(\"label\").cast(StringType()))\n",
        "spark_df.show(4)"
      ],
      "execution_count": 46,
      "outputs": [
        {
          "output_type": "stream",
          "text": [
            "+--------------------+-----+\n",
            "|                text|label|\n",
            "+--------------------+-----+\n",
            "|Intravenous azith...|    1|\n",
            "|Immobilization, w...|    1|\n",
            "|Unaccountable sev...|    1|\n",
            "|METHODS: We repor...|    1|\n",
            "+--------------------+-----+\n",
            "only showing top 4 rows\n",
            "\n"
          ],
          "name": "stdout"
        }
      ]
    },
    {
      "cell_type": "markdown",
      "metadata": {
        "id": "eLidGpfGdKGm"
      },
      "source": [
        "Make sure it matches the pandas dataframe value_counts ."
      ]
    },
    {
      "cell_type": "code",
      "metadata": {
        "id": "l0eVgHCGdBZE",
        "colab": {
          "base_uri": "https://localhost:8080/"
        },
        "outputId": "06c8fd0c-544a-4ceb-d73c-9dd625a1e952"
      },
      "source": [
        "spark_df.groupby('label').count().show()"
      ],
      "execution_count": 47,
      "outputs": [
        {
          "output_type": "stream",
          "text": [
            "+-----+-----+\n",
            "|label|count|\n",
            "+-----+-----+\n",
            "|    0|16695|\n",
            "|    1| 6821|\n",
            "+-----+-----+\n",
            "\n"
          ],
          "name": "stdout"
        }
      ]
    },
    {
      "cell_type": "code",
      "metadata": {
        "id": "oTegR4HHPP6D",
        "colab": {
          "base_uri": "https://localhost:8080/"
        },
        "outputId": "f6008428-2691-47c1-93f4-3f4201e6900c"
      },
      "source": [
        "spark_df.columns"
      ],
      "execution_count": 48,
      "outputs": [
        {
          "output_type": "execute_result",
          "data": {
            "text/plain": [
              "['text', 'label']"
            ]
          },
          "metadata": {
            "tags": []
          },
          "execution_count": 48
        }
      ]
    },
    {
      "cell_type": "code",
      "metadata": {
        "id": "z8Ei7NybX9DY",
        "colab": {
          "base_uri": "https://localhost:8080/"
        },
        "outputId": "5848c2ab-72dd-46f6-a6d7-9ec4cf1f2288"
      },
      "source": [
        "spark_df.printSchema"
      ],
      "execution_count": 49,
      "outputs": [
        {
          "output_type": "execute_result",
          "data": {
            "text/plain": [
              "<bound method DataFrame.printSchema of DataFrame[text: string, label: string]>"
            ]
          },
          "metadata": {
            "tags": []
          },
          "execution_count": 49
        }
      ]
    },
    {
      "cell_type": "code",
      "metadata": {
        "colab": {
          "base_uri": "https://localhost:8080/"
        },
        "id": "BLdkINGfWLTU",
        "outputId": "91cfbab7-2966-4dbd-b682-0ad00c66219b"
      },
      "source": [
        "from pyspark.sql.functions import rand \n",
        "\n",
        "spark_df = spark_df.orderBy(rand()).limit(10000)\n",
        "spark_df.count()"
      ],
      "execution_count": 50,
      "outputs": [
        {
          "output_type": "execute_result",
          "data": {
            "text/plain": [
              "10000"
            ]
          },
          "metadata": {
            "tags": []
          },
          "execution_count": 50
        }
      ]
    },
    {
      "cell_type": "code",
      "metadata": {
        "id": "10OT57k-YVhY",
        "colab": {
          "base_uri": "https://localhost:8080/"
        },
        "outputId": "7ccfcdce-c352-4ca0-d85e-32803364b628"
      },
      "source": [
        "from pyspark.sql.functions import *\n",
        "\n",
        "spark_df = spark_df.withColumn('label', regexp_replace('label', \"1\", 'ADR'))\n",
        "spark_df = spark_df.withColumn('label', regexp_replace('label', \"0\", 'NEG'))\n",
        "\n",
        "spark_df.filter(spark_df.label == \"ADR\").show(4)"
      ],
      "execution_count": 51,
      "outputs": [
        {
          "output_type": "stream",
          "text": [
            "+--------------------+-----+\n",
            "|                text|label|\n",
            "+--------------------+-----+\n",
            "|We have described...|  ADR|\n",
            "|Acute coronary ev...|  ADR|\n",
            "|Recombinant human...|  ADR|\n",
            "|We present a case...|  ADR|\n",
            "+--------------------+-----+\n",
            "only showing top 4 rows\n",
            "\n"
          ],
          "name": "stdout"
        }
      ]
    },
    {
      "cell_type": "code",
      "metadata": {
        "id": "pxJ7Z-I8ZUvw",
        "colab": {
          "base_uri": "https://localhost:8080/"
        },
        "outputId": "ba22faca-e55c-4bac-e678-7f62d6ddd0b5"
      },
      "source": [
        "spark_df.filter(spark_df.label == \"NEG\").show(4)"
      ],
      "execution_count": 52,
      "outputs": [
        {
          "output_type": "stream",
          "text": [
            "+--------------------+-----+\n",
            "|                text|label|\n",
            "+--------------------+-----+\n",
            "|Ethambutol is com...|  NEG|\n",
            "|This paper invest...|  NEG|\n",
            "|Graft-versus-host...|  NEG|\n",
            "|During these epis...|  NEG|\n",
            "+--------------------+-----+\n",
            "only showing top 4 rows\n",
            "\n"
          ],
          "name": "stdout"
        }
      ]
    },
    {
      "cell_type": "markdown",
      "metadata": {
        "id": "wq0pwWylH5ln"
      },
      "source": [
        "### Split into training and Test dataset. Create Pipeline"
      ]
    },
    {
      "cell_type": "code",
      "metadata": {
        "id": "BhYete9PH3fV",
        "colab": {
          "base_uri": "https://localhost:8080/"
        },
        "outputId": "07b30a9b-0911-4f4e-e629-77cd355a901a"
      },
      "source": [
        "(train, test) = spark_df.randomSplit([0.7, 0.3], seed = 100)\n",
        "train.filter(spark_df.label == \"ADR\").count()"
      ],
      "execution_count": 53,
      "outputs": [
        {
          "output_type": "execute_result",
          "data": {
            "text/plain": [
              "2050"
            ]
          },
          "metadata": {
            "tags": []
          },
          "execution_count": 53
        }
      ]
    },
    {
      "cell_type": "code",
      "metadata": {
        "colab": {
          "base_uri": "https://localhost:8080/"
        },
        "id": "RG-x0QpOWcs0",
        "outputId": "cf0e3b89-2195-48c4-9551-94cb8e40ef3d"
      },
      "source": [
        "train.filter(spark_df.label == \"NEG\").count()"
      ],
      "execution_count": 54,
      "outputs": [
        {
          "output_type": "execute_result",
          "data": {
            "text/plain": [
              "4983"
            ]
          },
          "metadata": {
            "tags": []
          },
          "execution_count": 54
        }
      ]
    },
    {
      "cell_type": "markdown",
      "metadata": {
        "id": "UgPm1mMpIIMI"
      },
      "source": [
        "Lets see how many we have in the dataset for each"
      ]
    },
    {
      "cell_type": "code",
      "metadata": {
        "id": "B5OS5Zp7IGH_",
        "colab": {
          "base_uri": "https://localhost:8080/"
        },
        "outputId": "fd1d3b0e-3080-414f-df19-cfa27b746403"
      },
      "source": [
        "print(\"Training data count: \" + str(train.count()))\n",
        "print(\"Test data count: \" + str(test.count()))"
      ],
      "execution_count": 55,
      "outputs": [
        {
          "output_type": "stream",
          "text": [
            "Training data count: 7033\n",
            "Test data count: 2967\n"
          ],
          "name": "stdout"
        }
      ]
    },
    {
      "cell_type": "markdown",
      "metadata": {
        "id": "8yi1pxlYQ9S9"
      },
      "source": [
        "Each Annotator in the pipeline adds a column to the dataframe as it passes the dataframe to the next stage"
      ]
    },
    {
      "cell_type": "markdown",
      "metadata": {
        "id": "5I1jXECJQcrk"
      },
      "source": [
        "![Screen Shot 2021-04-27 at 10.00.03 PM.png](data:image/png;base64,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)"
      ]
    },
    {
      "cell_type": "markdown",
      "metadata": {
        "id": "roqSl7ekRgC_"
      },
      "source": [
        "As in the pretained NER pipeline, we will leverage the same **assembler**, **sentence detector** and **tokenizer** .\n",
        "But will add **BertEmbeddings** model to provide the word embedings from text.\n",
        "\n",
        "**BertEmbeddings** encode words and sentences in fixed-length dense vectors to drastically improve the processing of textual data , this is core of **NLP**.\n",
        "\n",
        "**BERT** is better then just **WordEmbeddings** as it considers the context and sequence of words in account rather than just average of words"
      ]
    },
    {
      "cell_type": "code",
      "metadata": {
        "id": "fVBDZnD2Xb64"
      },
      "source": [
        "# Annotator that transforms a text column from dataframe into an Annotation ready for NLP\n",
        "assembler = DocumentAssembler().setInputCol(\"text\").setOutputCol(\"sentence\")"
      ],
      "execution_count": 56,
      "outputs": []
    },
    {
      "cell_type": "code",
      "metadata": {
        "id": "9Ldwfjz0Xgq_"
      },
      "source": [
        "tokenizer = Tokenizer().setInputCols([\"sentence\"]).setOutputCol(\"token\")"
      ],
      "execution_count": 57,
      "outputs": []
    },
    {
      "cell_type": "code",
      "metadata": {
        "id": "3oyXURnQIXuO",
        "colab": {
          "base_uri": "https://localhost:8080/"
        },
        "outputId": "481e52b2-5631-48db-b737-987a6b5ee508"
      },
      "source": [
        "bert_embeddings = BertEmbeddings.pretrained(\"biobert_pubmed_base_cased\", \"en\", \"public/models\")\\\n",
        "                        .setInputCols([\"sentence\", \"token\"])\\\n",
        "                        .setOutputCol(\"embeddings\")\\"
      ],
      "execution_count": 58,
      "outputs": [
        {
          "output_type": "stream",
          "text": [
            "biobert_pubmed_base_cased download started this may take some time.\n",
            "Approximate size to download 386.4 MB\n",
            "[OK!]\n"
          ],
          "name": "stdout"
        }
      ]
    },
    {
      "cell_type": "markdown",
      "metadata": {
        "id": "BLDPkxFyXMy3"
      },
      "source": [
        "**Pre-processing** is now **COMPLETE** - provide sentence embeddings to \n",
        "classifier"
      ]
    },
    {
      "cell_type": "code",
      "metadata": {
        "id": "H9643R5rXvJk"
      },
      "source": [
        "sentence_embeddings = SentenceEmbeddings().load\"public/models\")\\\n",
        "                        .setInputCols([\"sentence\", \"embeddings\"]) \\\n",
        "                        .setOutputCol(\"sentence_embeddings\") \\\n",
        "                        .setPoolingStrategy(\"AVERAGE\")"
      ],
      "execution_count": 59,
      "outputs": []
    },
    {
      "cell_type": "markdown",
      "metadata": {
        "id": "qc2r8JtFTRS2"
      },
      "source": [
        "**ClassifierDL** is a multi-class text classifier that uses text embeddings as an input for text classifications. ClassifierDL annotator uses a deep learning model (DNNs) that is built inside **TensorFlow** and supports up to 50 classes\n",
        "\n",
        "**(setLR, 0.002)** the initial learning rate to start training\n",
        "\n",
        "**(setMaxEpochs, 50)** how many iterations to train the deel neural network\n",
        "\n",
        "**(setBatchSize, 100)** how many records to process in one epoch\n",
        "\n",
        "ADR (Positive or negative)\n",
        "\n",
        "**(sentence_embeddings)** final output of pre-processing pipeline"
      ]
    },
    {
      "cell_type": "code",
      "metadata": {
        "id": "In_UPhJnTRuk"
      },
      "source": [
        "classifier_DNN = ClassifierDLApproach()\\\n",
        "    .setInputCols([\"sentence_embeddings\"])\\\n",
        "    .setOutputCol(\"class\")\\\n",
        "    .setLabelColumn(\"label\")\\\n",
        "    .setBatchSize(8)\\\n",
        "    .setMaxEpochs(30)\\\n",
        "    .setLr(0.0003)\\\n",
        "    .setOutputLogsPath('./')\\\n",
        "    .setEnableOutputLogs(True)"
      ],
      "execution_count": 60,
      "outputs": []
    },
    {
      "cell_type": "code",
      "metadata": {
        "id": "4yAcV_fnTWzU"
      },
      "source": [
        "bert_clf_pipe = Pipeline(\n",
        "      stages = [\n",
        "        assembler,\n",
        "        tokenizer,\n",
        "        bert_embeddings,\n",
        "        sentence_embeddings,\n",
        "        classifier_DNN\n",
        "    ])"
      ],
      "execution_count": 61,
      "outputs": []
    },
    {
      "cell_type": "markdown",
      "metadata": {
        "id": "XMeODmU1VOeT"
      },
      "source": [
        "### Fit and train model "
      ]
    },
    {
      "cell_type": "code",
      "metadata": {
        "id": "IbfIn8CFVTzS"
      },
      "source": [
        "bert_clf_model = bert_clf_pipe.fit(train)\n"
      ],
      "execution_count": 62,
      "outputs": []
    },
    {
      "cell_type": "markdown",
      "metadata": {
        "id": "xQIb2GFqhtw-"
      },
      "source": [
        "Now lets see how well the model trained"
      ]
    },
    {
      "cell_type": "code",
      "metadata": {
        "id": "ZxoVfk2phtMe",
        "colab": {
          "base_uri": "https://localhost:8080/"
        },
        "outputId": "f3d62f8e-f6c4-4985-bde3-20efa5ae39bb"
      },
      "source": [
        "pred = bert_clf_model.transform(test)\n",
        "\n",
        "pred.select('label','sentence',\"class.result\").show(10, truncate=100)\n",
        "\n",
        "pred_pd = pred.select('label','sentence',\"class.result\").toPandas()\n",
        "\n",
        "pred_pd['result'] = pred_pd['result'].apply(lambda x : x[0])"
      ],
      "execution_count": 63,
      "outputs": [
        {
          "output_type": "stream",
          "text": [
            "+-----+----------------------------------------------------------------------------------------------------+------+\n",
            "|label|                                                                                            sentence|result|\n",
            "+-----+----------------------------------------------------------------------------------------------------+------+\n",
            "|  NEG|[{document, 0, 149, 'Bail-out' bivalirudin use in patients with thrombotic complications unrespon...| [NEG]|\n",
            "|  NEG|[{document, 0, 149, 10 and 15 exchanges of PD using an automated cycler were respectively perform...| [NEG]|\n",
            "|  NEG|[{document, 0, 130, 16 patients with cutaneous or subcutaneous melanoma recurrence on an extremit...| [NEG]|\n",
            "|  ADR|[{document, 0, 92, 2-CdA induces lymphocytopenia, which may explain the improvement in this patie...| [ADR]|\n",
            "|  ADR|[{document, 0, 145, 2-Chloro-deoxyadenosine induces durable complete remission in Castleman's dis...| [NEG]|\n",
            "|  NEG|[{document, 0, 148, 48 h after interrupting treatment, she recovered normal neurological status a...| [NEG]|\n",
            "|  NEG|                       [{document, 0, 34, 5-Azacytidine and fetal hemoglobin., {sentence -> 0}, []}]| [NEG]|\n",
            "|  NEG|[{document, 0, 275, 7. The vast majority of patients reported in the literature with ANLL complic...| [NEG]|\n",
            "|  ADR|[{document, 0, 393, A 10-year-old boy with osteosarcoma and normal renal function manifested labo...| [ADR]|\n",
            "|  NEG|[{document, 0, 118, A 10-year-old girl who presented to our hospital was diagnosed as having B-pr...| [NEG]|\n",
            "+-----+----------------------------------------------------------------------------------------------------+------+\n",
            "only showing top 10 rows\n",
            "\n"
          ],
          "name": "stdout"
        }
      ]
    },
    {
      "cell_type": "markdown",
      "metadata": {
        "id": "bt3i7QZTiMLI"
      },
      "source": [
        "### Print out the Metrics and Classification Report for the test dataset"
      ]
    },
    {
      "cell_type": "code",
      "metadata": {
        "id": "OjouSIOxiSXp",
        "colab": {
          "base_uri": "https://localhost:8080/"
        },
        "outputId": "654522c6-286c-47a4-9457-7b069f165097"
      },
      "source": [
        "from sklearn.metrics import classification_report, confusion_matrix\n",
        "\n",
        "print (classification_report(pred_pd['result'], pred_pd['label']))\n",
        "\n",
        "print(confusion_matrix(pred_pd['result'], pred_pd['label']))"
      ],
      "execution_count": 64,
      "outputs": [
        {
          "output_type": "stream",
          "text": [
            "              precision    recall  f1-score   support\n",
            "\n",
            "         ADR       0.78      0.81      0.79       828\n",
            "         NEG       0.92      0.91      0.92      2139\n",
            "\n",
            "    accuracy                           0.88      2967\n",
            "   macro avg       0.85      0.86      0.85      2967\n",
            "weighted avg       0.88      0.88      0.88      2967\n",
            "\n",
            "[[ 667  161]\n",
            " [ 191 1948]]\n"
          ],
          "name": "stdout"
        }
      ]
    },
    {
      "cell_type": "markdown",
      "metadata": {
        "id": "F5-Mu172k9md"
      },
      "source": [
        "### Now save this model for future use and inferencing"
      ]
    },
    {
      "cell_type": "code",
      "metadata": {
        "id": "T92IgtFBlEQl"
      },
      "source": [
        "bert_clf_pipeline.stages[4].write().overwrite().save('models-1/ADR_DNN_Classifier_model')\n"
      ],
      "execution_count": 97,
      "outputs": []
    },
    {
      "cell_type": "markdown",
      "metadata": {
        "id": "BuxoWo6rvVNg"
      },
      "source": [
        "Inference using our trained model. Need to load it just like a pretrained one and fit and transform."
      ]
    },
    {
      "cell_type": "code",
      "metadata": {
        "id": "NsDj7B32wvwB"
      },
      "source": [
        "adr_load_custom_cslf = ClassifierDLModel().load(\"models-1/ADR_DNN_Classifier_model\")"
      ],
      "execution_count": 104,
      "outputs": []
    },
    {
      "cell_type": "code",
      "metadata": {
        "colab": {
          "base_uri": "https://localhost:8080/"
        },
        "id": "aSzgLVB20qrf",
        "outputId": "85742d8a-a04a-4809-8f22-f3b4f26bc46d"
      },
      "source": [
        "from pyspark.sql.types import StructType,StructField, StringType\n",
        "schema = StructType([\n",
        "  StructField('text', StringType(), True),\n",
        "  StructField('label', StringType(), True),\n",
        "  ])"
      ],
      "execution_count": 105,
      "outputs": [
        {
          "output_type": "stream",
          "text": [
            "root\n",
            " |-- text: string (nullable = true)\n",
            " |-- label: string (nullable = true)\n",
            "\n"
          ],
          "name": "stdout"
        }
      ]
    },
    {
      "cell_type": "markdown",
      "metadata": {
        "id": "KD_-Wrmp518M"
      },
      "source": [
        "Need to create an empty dataframe to fit, as we dont want to train. It is already trained, ready to use\n"
      ]
    },
    {
      "cell_type": "code",
      "metadata": {
        "id": "2vIGI_2V52f5"
      },
      "source": [
        "emptyRDD = spark.sparkContext.emptyRDD()\n",
        "dummy_df = spark.createDataFrame(emptyRDD,schema)\n",
        "dummy_df.printSchema()"
      ],
      "execution_count": null,
      "outputs": []
    },
    {
      "cell_type": "code",
      "metadata": {
        "id": "XVq3vkZ61KB8"
      },
      "source": [
        "bert_clf_pipe = Pipeline(\n",
        "      stages = [\n",
        "        assembler,\n",
        "        tokenizer,\n",
        "        bert_embeddings,\n",
        "        sentence_embeddings,\n",
        "        adr_load_custom_cslf\n",
        "    ])"
      ],
      "execution_count": 106,
      "outputs": []
    },
    {
      "cell_type": "code",
      "metadata": {
        "id": "VXvJ5ZUFz35T"
      },
      "source": [
        "adr_load_model = bert_clf_pipe.fit(dummy_df)\n"
      ],
      "execution_count": 107,
      "outputs": []
    },
    {
      "cell_type": "markdown",
      "metadata": {
        "id": "sEm7_KRd40xg"
      },
      "source": [
        "Now predict on the model we trained, saved and loaded"
      ]
    },
    {
      "cell_type": "code",
      "metadata": {
        "colab": {
          "base_uri": "https://localhost:8080/"
        },
        "id": "zBLbTREs40Ja",
        "outputId": "2f0e395d-3c5f-4586-9ae3-2809e4e612aa"
      },
      "source": [
        "pred = adr_load_model.transform(test)\n",
        "\n",
        "pred.select('label','sentence',\"class.result\").show(10, truncate=100)\n",
        "\n",
        "pred_pd = pred.select('label','sentence',\"class.result\").toPandas()\n",
        "\n",
        "pred_pd['result'] = pred_pd['result'].apply(lambda x : x[0])"
      ],
      "execution_count": 108,
      "outputs": [
        {
          "output_type": "stream",
          "text": [
            "+-----+----------------------------------------------------------------------------------------------------+------+\n",
            "|label|                                                                                            sentence|result|\n",
            "+-----+----------------------------------------------------------------------------------------------------+------+\n",
            "|  NEG|[{document, 0, 149, 'Bail-out' bivalirudin use in patients with thrombotic complications unrespon...| [NEG]|\n",
            "|  NEG|[{document, 0, 149, 10 and 15 exchanges of PD using an automated cycler were respectively perform...| [NEG]|\n",
            "|  NEG|[{document, 0, 130, 16 patients with cutaneous or subcutaneous melanoma recurrence on an extremit...| [NEG]|\n",
            "|  ADR|[{document, 0, 92, 2-CdA induces lymphocytopenia, which may explain the improvement in this patie...| [ADR]|\n",
            "|  ADR|[{document, 0, 145, 2-Chloro-deoxyadenosine induces durable complete remission in Castleman's dis...| [NEG]|\n",
            "|  NEG|[{document, 0, 148, 48 h after interrupting treatment, she recovered normal neurological status a...| [NEG]|\n",
            "|  NEG|                       [{document, 0, 34, 5-Azacytidine and fetal hemoglobin., {sentence -> 0}, []}]| [NEG]|\n",
            "|  NEG|[{document, 0, 275, 7. The vast majority of patients reported in the literature with ANLL complic...| [NEG]|\n",
            "|  ADR|[{document, 0, 393, A 10-year-old boy with osteosarcoma and normal renal function manifested labo...| [ADR]|\n",
            "|  NEG|[{document, 0, 118, A 10-year-old girl who presented to our hospital was diagnosed as having B-pr...| [NEG]|\n",
            "+-----+----------------------------------------------------------------------------------------------------+------+\n",
            "only showing top 10 rows\n",
            "\n"
          ],
          "name": "stdout"
        }
      ]
    },
    {
      "cell_type": "code",
      "metadata": {
        "colab": {
          "base_uri": "https://localhost:8080/"
        },
        "id": "bXPTd2545Ojj",
        "outputId": "586466de-bcb4-4daa-e7f3-190b63d18b85"
      },
      "source": [
        "from sklearn.metrics import classification_report, confusion_matrix\n",
        "\n",
        "print (classification_report(pred_pd['result'], pred_pd['label']))\n",
        "\n",
        "print(confusion_matrix(pred_pd['result'], pred_pd['label']))"
      ],
      "execution_count": 109,
      "outputs": [
        {
          "output_type": "stream",
          "text": [
            "              precision    recall  f1-score   support\n",
            "\n",
            "         ADR       0.78      0.81      0.79       828\n",
            "         NEG       0.92      0.91      0.92      2139\n",
            "\n",
            "    accuracy                           0.88      2967\n",
            "   macro avg       0.85      0.86      0.85      2967\n",
            "weighted avg       0.88      0.88      0.88      2967\n",
            "\n",
            "[[ 667  161]\n",
            " [ 191 1948]]\n"
          ],
          "name": "stdout"
        }
      ]
    },
    {
      "cell_type": "markdown",
      "metadata": {
        "id": "bdvhpLWBAzaX"
      },
      "source": [
        "### Individual text inference  (Single Sentences)"
      ]
    },
    {
      "cell_type": "code",
      "metadata": {
        "id": "USaIJbF0CkFl"
      },
      "source": [
        "light_model = LightPipeline(adr_load_model)\n",
        "\n",
        "result = light_model.fullAnnotate(\"A fatal massive pulmonary embolus developed in a patient treated with streptokinase for acute deep vein thrombosis\")[0]"
      ],
      "execution_count": 113,
      "outputs": []
    },
    {
      "cell_type": "code",
      "metadata": {
        "colab": {
          "base_uri": "https://localhost:8080/"
        },
        "id": "iQZXLlFFBbvW",
        "outputId": "99ed1bae-2c17-47fc-98fe-34ac0914cf20"
      },
      "source": [
        "print( \"The clinical statement is classified as - \" ,result['class'][0].result)"
      ],
      "execution_count": 126,
      "outputs": [
        {
          "output_type": "stream",
          "text": [
            "The clinical statement is classified as -  ADR\n"
          ],
          "name": "stdout"
        }
      ]
    },
    {
      "cell_type": "code",
      "metadata": {
        "colab": {
          "base_uri": "https://localhost:8080/"
        },
        "id": "g_N28BWWC3Cr",
        "outputId": "c4bf80ce-3fcd-4b57-8bcd-5577eab8ddf4"
      },
      "source": [
        "result = light_model.fullAnnotate(\"I got a severe head ache after tylenol was administered via mouth with water\")[0]\n",
        "print( \"The clinical statement is classified as - \" ,result['class'][0].result)"
      ],
      "execution_count": 129,
      "outputs": [
        {
          "output_type": "stream",
          "text": [
            "The clinical statement is classified as -  ADR\n"
          ],
          "name": "stdout"
        }
      ]
    },
    {
      "cell_type": "code",
      "metadata": {
        "colab": {
          "base_uri": "https://localhost:8080/"
        },
        "id": "kmtaPs1bFmc3",
        "outputId": "0b491e68-8c20-446d-bd84-bb1fb6fee044"
      },
      "source": [
        "result = light_model.fullAnnotate(\"Immunoglobulin G subclass 2 and 3 deficiencies were the only serologically detectable abnormalities.\")[0]\n",
        "print( \"The clinical statement is classified as - \" ,result['class'][0].result)"
      ],
      "execution_count": 130,
      "outputs": [
        {
          "output_type": "stream",
          "text": [
            "The clinical statement is classified as -  NEG\n"
          ],
          "name": "stdout"
        }
      ]
    },
    {
      "cell_type": "code",
      "metadata": {
        "colab": {
          "base_uri": "https://localhost:8080/"
        },
        "id": "Dg6O1KMjGB65",
        "outputId": "c1dc8dc0-f332-41c8-bd96-602393d5ae81"
      },
      "source": [
        "result = light_model.fullAnnotate(\"We report the case of a female acromegalic patient in whom multiple hepatic adenomas appeared soon after danazol treatment for uterine fibromatosis.\")[0]\n",
        "print( \"The clinical statement is classified as - \" ,result['class'][0].result)"
      ],
      "execution_count": 131,
      "outputs": [
        {
          "output_type": "stream",
          "text": [
            "The clinical statement is classified as -  ADR\n"
          ],
          "name": "stdout"
        }
      ]
    },
    {
      "cell_type": "code",
      "metadata": {
        "colab": {
          "base_uri": "https://localhost:8080/"
        },
        "id": "dUBXdWZGGICM",
        "outputId": "709b06c7-4bb2-4a76-da6c-bdfa96678ebc"
      },
      "source": [
        "result = light_model.fullAnnotate(\"Head ache disappeared after administering Tylenol and Advil 200 mg 3 times a day after brakfast lunch and dinner\")[0]\n",
        "print( \"The clinical statement is classified as - \" ,result['class'][0].result)"
      ],
      "execution_count": 132,
      "outputs": [
        {
          "output_type": "stream",
          "text": [
            "The clinical statement is classified as -  NEG\n"
          ],
          "name": "stdout"
        }
      ]
    },
    {
      "cell_type": "code",
      "metadata": {
        "id": "Y7m-2fd3Gb7c"
      },
      "source": [
        ""
      ],
      "execution_count": null,
      "outputs": []
    }
  ]
}