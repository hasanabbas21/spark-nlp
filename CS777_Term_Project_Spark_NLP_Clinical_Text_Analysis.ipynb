{
  "nbformat": 4,
  "nbformat_minor": 0,
  "metadata": {
    "colab": {
      "name": "CS777 Term Project Spark NLP Clinical Text Analysis.ipynb",
      "provenance": [],
      "collapsed_sections": [],
      "toc_visible": true,
      "authorship_tag": "ABX9TyM02WR0Ms5AVia6B+EA3Z6b",
      "include_colab_link": true
    },
    "kernelspec": {
      "name": "python3",
      "display_name": "Python 3"
    },
    "language_info": {
      "name": "python"
    },
    "widgets": {
      "application/vnd.jupyter.widget-state+json": {
        "7360e69e2a3e4045b05ba6c9bcbd426d": {
          "model_module": "@jupyter-widgets/controls",
          "model_name": "HBoxModel",
          "state": {
            "_view_name": "HBoxView",
            "_dom_classes": [],
            "_model_name": "HBoxModel",
            "_view_module": "@jupyter-widgets/controls",
            "_model_module_version": "1.5.0",
            "_view_count": null,
            "_view_module_version": "1.5.0",
            "box_style": "",
            "layout": "IPY_MODEL_ef0414280a6f4a81ae85bb7d139dc716",
            "_model_module": "@jupyter-widgets/controls",
            "children": [
              "IPY_MODEL_4dd9ed1ae817490f92438f916e6dadfe",
              "IPY_MODEL_6911bd8923f14a28b2d09024a8e508bf"
            ]
          }
        },
        "ef0414280a6f4a81ae85bb7d139dc716": {
          "model_module": "@jupyter-widgets/base",
          "model_name": "LayoutModel",
          "state": {
            "_view_name": "LayoutView",
            "grid_template_rows": null,
            "right": null,
            "justify_content": null,
            "_view_module": "@jupyter-widgets/base",
            "overflow": null,
            "_model_module_version": "1.2.0",
            "_view_count": null,
            "flex_flow": null,
            "width": null,
            "min_width": null,
            "border": null,
            "align_items": null,
            "bottom": null,
            "_model_module": "@jupyter-widgets/base",
            "top": null,
            "grid_column": null,
            "overflow_y": null,
            "overflow_x": null,
            "grid_auto_flow": null,
            "grid_area": null,
            "grid_template_columns": null,
            "flex": null,
            "_model_name": "LayoutModel",
            "justify_items": null,
            "grid_row": null,
            "max_height": null,
            "align_content": null,
            "visibility": null,
            "align_self": null,
            "height": null,
            "min_height": null,
            "padding": null,
            "grid_auto_rows": null,
            "grid_gap": null,
            "max_width": null,
            "order": null,
            "_view_module_version": "1.2.0",
            "grid_template_areas": null,
            "object_position": null,
            "object_fit": null,
            "grid_auto_columns": null,
            "margin": null,
            "display": null,
            "left": null
          }
        },
        "4dd9ed1ae817490f92438f916e6dadfe": {
          "model_module": "@jupyter-widgets/controls",
          "model_name": "FloatProgressModel",
          "state": {
            "_view_name": "ProgressView",
            "style": "IPY_MODEL_1677e36641cb43999be455a3938697b5",
            "_dom_classes": [],
            "description": "Downloading: ",
            "_model_name": "FloatProgressModel",
            "bar_style": "success",
            "max": 3020,
            "_view_module": "@jupyter-widgets/controls",
            "_model_module_version": "1.5.0",
            "value": 3020,
            "_view_count": null,
            "_view_module_version": "1.5.0",
            "orientation": "horizontal",
            "min": 0,
            "description_tooltip": null,
            "_model_module": "@jupyter-widgets/controls",
            "layout": "IPY_MODEL_2c148e88f82b4ed5ba58c09067174700"
          }
        },
        "6911bd8923f14a28b2d09024a8e508bf": {
          "model_module": "@jupyter-widgets/controls",
          "model_name": "HTMLModel",
          "state": {
            "_view_name": "HTMLView",
            "style": "IPY_MODEL_66c03f0b047346688eebabc51d2ccbcf",
            "_dom_classes": [],
            "description": "",
            "_model_name": "HTMLModel",
            "placeholder": "​",
            "_view_module": "@jupyter-widgets/controls",
            "_model_module_version": "1.5.0",
            "value": " 11.7k/? [00:02&lt;00:00, 4.03kB/s]",
            "_view_count": null,
            "_view_module_version": "1.5.0",
            "description_tooltip": null,
            "_model_module": "@jupyter-widgets/controls",
            "layout": "IPY_MODEL_fe6a09664d2547d8a9c25deeeb1caea6"
          }
        },
        "1677e36641cb43999be455a3938697b5": {
          "model_module": "@jupyter-widgets/controls",
          "model_name": "ProgressStyleModel",
          "state": {
            "_view_name": "StyleView",
            "_model_name": "ProgressStyleModel",
            "description_width": "initial",
            "_view_module": "@jupyter-widgets/base",
            "_model_module_version": "1.5.0",
            "_view_count": null,
            "_view_module_version": "1.2.0",
            "bar_color": null,
            "_model_module": "@jupyter-widgets/controls"
          }
        },
        "2c148e88f82b4ed5ba58c09067174700": {
          "model_module": "@jupyter-widgets/base",
          "model_name": "LayoutModel",
          "state": {
            "_view_name": "LayoutView",
            "grid_template_rows": null,
            "right": null,
            "justify_content": null,
            "_view_module": "@jupyter-widgets/base",
            "overflow": null,
            "_model_module_version": "1.2.0",
            "_view_count": null,
            "flex_flow": null,
            "width": null,
            "min_width": null,
            "border": null,
            "align_items": null,
            "bottom": null,
            "_model_module": "@jupyter-widgets/base",
            "top": null,
            "grid_column": null,
            "overflow_y": null,
            "overflow_x": null,
            "grid_auto_flow": null,
            "grid_area": null,
            "grid_template_columns": null,
            "flex": null,
            "_model_name": "LayoutModel",
            "justify_items": null,
            "grid_row": null,
            "max_height": null,
            "align_content": null,
            "visibility": null,
            "align_self": null,
            "height": null,
            "min_height": null,
            "padding": null,
            "grid_auto_rows": null,
            "grid_gap": null,
            "max_width": null,
            "order": null,
            "_view_module_version": "1.2.0",
            "grid_template_areas": null,
            "object_position": null,
            "object_fit": null,
            "grid_auto_columns": null,
            "margin": null,
            "display": null,
            "left": null
          }
        },
        "66c03f0b047346688eebabc51d2ccbcf": {
          "model_module": "@jupyter-widgets/controls",
          "model_name": "DescriptionStyleModel",
          "state": {
            "_view_name": "StyleView",
            "_model_name": "DescriptionStyleModel",
            "description_width": "",
            "_view_module": "@jupyter-widgets/base",
            "_model_module_version": "1.5.0",
            "_view_count": null,
            "_view_module_version": "1.2.0",
            "_model_module": "@jupyter-widgets/controls"
          }
        },
        "fe6a09664d2547d8a9c25deeeb1caea6": {
          "model_module": "@jupyter-widgets/base",
          "model_name": "LayoutModel",
          "state": {
            "_view_name": "LayoutView",
            "grid_template_rows": null,
            "right": null,
            "justify_content": null,
            "_view_module": "@jupyter-widgets/base",
            "overflow": null,
            "_model_module_version": "1.2.0",
            "_view_count": null,
            "flex_flow": null,
            "width": null,
            "min_width": null,
            "border": null,
            "align_items": null,
            "bottom": null,
            "_model_module": "@jupyter-widgets/base",
            "top": null,
            "grid_column": null,
            "overflow_y": null,
            "overflow_x": null,
            "grid_auto_flow": null,
            "grid_area": null,
            "grid_template_columns": null,
            "flex": null,
            "_model_name": "LayoutModel",
            "justify_items": null,
            "grid_row": null,
            "max_height": null,
            "align_content": null,
            "visibility": null,
            "align_self": null,
            "height": null,
            "min_height": null,
            "padding": null,
            "grid_auto_rows": null,
            "grid_gap": null,
            "max_width": null,
            "order": null,
            "_view_module_version": "1.2.0",
            "grid_template_areas": null,
            "object_position": null,
            "object_fit": null,
            "grid_auto_columns": null,
            "margin": null,
            "display": null,
            "left": null
          }
        },
        "607b69c5fdb54181a0290dcb82cdcf0f": {
          "model_module": "@jupyter-widgets/controls",
          "model_name": "HBoxModel",
          "state": {
            "_view_name": "HBoxView",
            "_dom_classes": [],
            "_model_name": "HBoxModel",
            "_view_module": "@jupyter-widgets/controls",
            "_model_module_version": "1.5.0",
            "_view_count": null,
            "_view_module_version": "1.5.0",
            "box_style": "",
            "layout": "IPY_MODEL_806d253fe36248949f213b143a446ab7",
            "_model_module": "@jupyter-widgets/controls",
            "children": [
              "IPY_MODEL_0e97acdfc78e46a6b10b0a5f7ae5881b",
              "IPY_MODEL_9c0a7a2d9ac54e8495bb6fc63c8dda38"
            ]
          }
        },
        "806d253fe36248949f213b143a446ab7": {
          "model_module": "@jupyter-widgets/base",
          "model_name": "LayoutModel",
          "state": {
            "_view_name": "LayoutView",
            "grid_template_rows": null,
            "right": null,
            "justify_content": null,
            "_view_module": "@jupyter-widgets/base",
            "overflow": null,
            "_model_module_version": "1.2.0",
            "_view_count": null,
            "flex_flow": null,
            "width": null,
            "min_width": null,
            "border": null,
            "align_items": null,
            "bottom": null,
            "_model_module": "@jupyter-widgets/base",
            "top": null,
            "grid_column": null,
            "overflow_y": null,
            "overflow_x": null,
            "grid_auto_flow": null,
            "grid_area": null,
            "grid_template_columns": null,
            "flex": null,
            "_model_name": "LayoutModel",
            "justify_items": null,
            "grid_row": null,
            "max_height": null,
            "align_content": null,
            "visibility": null,
            "align_self": null,
            "height": null,
            "min_height": null,
            "padding": null,
            "grid_auto_rows": null,
            "grid_gap": null,
            "max_width": null,
            "order": null,
            "_view_module_version": "1.2.0",
            "grid_template_areas": null,
            "object_position": null,
            "object_fit": null,
            "grid_auto_columns": null,
            "margin": null,
            "display": null,
            "left": null
          }
        },
        "0e97acdfc78e46a6b10b0a5f7ae5881b": {
          "model_module": "@jupyter-widgets/controls",
          "model_name": "FloatProgressModel",
          "state": {
            "_view_name": "ProgressView",
            "style": "IPY_MODEL_6d92e49974bc4b65b05ef9b79c47b92f",
            "_dom_classes": [],
            "description": "Downloading: ",
            "_model_name": "FloatProgressModel",
            "bar_style": "success",
            "max": 1917,
            "_view_module": "@jupyter-widgets/controls",
            "_model_module_version": "1.5.0",
            "value": 1917,
            "_view_count": null,
            "_view_module_version": "1.5.0",
            "orientation": "horizontal",
            "min": 0,
            "description_tooltip": null,
            "_model_module": "@jupyter-widgets/controls",
            "layout": "IPY_MODEL_7f81c14ef66043f7862669d1ce1d35a1"
          }
        },
        "9c0a7a2d9ac54e8495bb6fc63c8dda38": {
          "model_module": "@jupyter-widgets/controls",
          "model_name": "HTMLModel",
          "state": {
            "_view_name": "HTMLView",
            "style": "IPY_MODEL_ee019dc3cef14efebe17655a2f01457e",
            "_dom_classes": [],
            "description": "",
            "_model_name": "HTMLModel",
            "placeholder": "​",
            "_view_module": "@jupyter-widgets/controls",
            "_model_module_version": "1.5.0",
            "value": " 11.9k/? [00:00&lt;00:00, 62.4kB/s]",
            "_view_count": null,
            "_view_module_version": "1.5.0",
            "description_tooltip": null,
            "_model_module": "@jupyter-widgets/controls",
            "layout": "IPY_MODEL_432d33ab6b3f449c8d51723adae789e9"
          }
        },
        "6d92e49974bc4b65b05ef9b79c47b92f": {
          "model_module": "@jupyter-widgets/controls",
          "model_name": "ProgressStyleModel",
          "state": {
            "_view_name": "StyleView",
            "_model_name": "ProgressStyleModel",
            "description_width": "initial",
            "_view_module": "@jupyter-widgets/base",
            "_model_module_version": "1.5.0",
            "_view_count": null,
            "_view_module_version": "1.2.0",
            "bar_color": null,
            "_model_module": "@jupyter-widgets/controls"
          }
        },
        "7f81c14ef66043f7862669d1ce1d35a1": {
          "model_module": "@jupyter-widgets/base",
          "model_name": "LayoutModel",
          "state": {
            "_view_name": "LayoutView",
            "grid_template_rows": null,
            "right": null,
            "justify_content": null,
            "_view_module": "@jupyter-widgets/base",
            "overflow": null,
            "_model_module_version": "1.2.0",
            "_view_count": null,
            "flex_flow": null,
            "width": null,
            "min_width": null,
            "border": null,
            "align_items": null,
            "bottom": null,
            "_model_module": "@jupyter-widgets/base",
            "top": null,
            "grid_column": null,
            "overflow_y": null,
            "overflow_x": null,
            "grid_auto_flow": null,
            "grid_area": null,
            "grid_template_columns": null,
            "flex": null,
            "_model_name": "LayoutModel",
            "justify_items": null,
            "grid_row": null,
            "max_height": null,
            "align_content": null,
            "visibility": null,
            "align_self": null,
            "height": null,
            "min_height": null,
            "padding": null,
            "grid_auto_rows": null,
            "grid_gap": null,
            "max_width": null,
            "order": null,
            "_view_module_version": "1.2.0",
            "grid_template_areas": null,
            "object_position": null,
            "object_fit": null,
            "grid_auto_columns": null,
            "margin": null,
            "display": null,
            "left": null
          }
        },
        "ee019dc3cef14efebe17655a2f01457e": {
          "model_module": "@jupyter-widgets/controls",
          "model_name": "DescriptionStyleModel",
          "state": {
            "_view_name": "StyleView",
            "_model_name": "DescriptionStyleModel",
            "description_width": "",
            "_view_module": "@jupyter-widgets/base",
            "_model_module_version": "1.5.0",
            "_view_count": null,
            "_view_module_version": "1.2.0",
            "_model_module": "@jupyter-widgets/controls"
          }
        },
        "432d33ab6b3f449c8d51723adae789e9": {
          "model_module": "@jupyter-widgets/base",
          "model_name": "LayoutModel",
          "state": {
            "_view_name": "LayoutView",
            "grid_template_rows": null,
            "right": null,
            "justify_content": null,
            "_view_module": "@jupyter-widgets/base",
            "overflow": null,
            "_model_module_version": "1.2.0",
            "_view_count": null,
            "flex_flow": null,
            "width": null,
            "min_width": null,
            "border": null,
            "align_items": null,
            "bottom": null,
            "_model_module": "@jupyter-widgets/base",
            "top": null,
            "grid_column": null,
            "overflow_y": null,
            "overflow_x": null,
            "grid_auto_flow": null,
            "grid_area": null,
            "grid_template_columns": null,
            "flex": null,
            "_model_name": "LayoutModel",
            "justify_items": null,
            "grid_row": null,
            "max_height": null,
            "align_content": null,
            "visibility": null,
            "align_self": null,
            "height": null,
            "min_height": null,
            "padding": null,
            "grid_auto_rows": null,
            "grid_gap": null,
            "max_width": null,
            "order": null,
            "_view_module_version": "1.2.0",
            "grid_template_areas": null,
            "object_position": null,
            "object_fit": null,
            "grid_auto_columns": null,
            "margin": null,
            "display": null,
            "left": null
          }
        },
        "de9d3e8bfb5343eea8b82d571e3f67f4": {
          "model_module": "@jupyter-widgets/controls",
          "model_name": "HBoxModel",
          "state": {
            "_view_name": "HBoxView",
            "_dom_classes": [],
            "_model_name": "HBoxModel",
            "_view_module": "@jupyter-widgets/controls",
            "_model_module_version": "1.5.0",
            "_view_count": null,
            "_view_module_version": "1.5.0",
            "box_style": "",
            "layout": "IPY_MODEL_e1a349a26f574026bfee13821772c377",
            "_model_module": "@jupyter-widgets/controls",
            "children": [
              "IPY_MODEL_5a48568f27d04831ae090be95d7376f4",
              "IPY_MODEL_e18b2d85be7c42568d1ab2d888a4ff4d"
            ]
          }
        },
        "e1a349a26f574026bfee13821772c377": {
          "model_module": "@jupyter-widgets/base",
          "model_name": "LayoutModel",
          "state": {
            "_view_name": "LayoutView",
            "grid_template_rows": null,
            "right": null,
            "justify_content": null,
            "_view_module": "@jupyter-widgets/base",
            "overflow": null,
            "_model_module_version": "1.2.0",
            "_view_count": null,
            "flex_flow": null,
            "width": null,
            "min_width": null,
            "border": null,
            "align_items": null,
            "bottom": null,
            "_model_module": "@jupyter-widgets/base",
            "top": null,
            "grid_column": null,
            "overflow_y": null,
            "overflow_x": null,
            "grid_auto_flow": null,
            "grid_area": null,
            "grid_template_columns": null,
            "flex": null,
            "_model_name": "LayoutModel",
            "justify_items": null,
            "grid_row": null,
            "max_height": null,
            "align_content": null,
            "visibility": null,
            "align_self": null,
            "height": null,
            "min_height": null,
            "padding": null,
            "grid_auto_rows": null,
            "grid_gap": null,
            "max_width": null,
            "order": null,
            "_view_module_version": "1.2.0",
            "grid_template_areas": null,
            "object_position": null,
            "object_fit": null,
            "grid_auto_columns": null,
            "margin": null,
            "display": null,
            "left": null
          }
        },
        "5a48568f27d04831ae090be95d7376f4": {
          "model_module": "@jupyter-widgets/controls",
          "model_name": "FloatProgressModel",
          "state": {
            "_view_name": "ProgressView",
            "style": "IPY_MODEL_d2a14b0b852141abb9951c84e07e3a37",
            "_dom_classes": [],
            "description": "Downloading: ",
            "_model_name": "FloatProgressModel",
            "bar_style": "success",
            "max": 306554,
            "_view_module": "@jupyter-widgets/controls",
            "_model_module_version": "1.5.0",
            "value": 306554,
            "_view_count": null,
            "_view_module_version": "1.5.0",
            "orientation": "horizontal",
            "min": 0,
            "description_tooltip": null,
            "_model_module": "@jupyter-widgets/controls",
            "layout": "IPY_MODEL_8a6757b704e14b1597a180a60454cb3d"
          }
        },
        "e18b2d85be7c42568d1ab2d888a4ff4d": {
          "model_module": "@jupyter-widgets/controls",
          "model_name": "HTMLModel",
          "state": {
            "_view_name": "HTMLView",
            "style": "IPY_MODEL_4fe62bba8ca141058f8c21728f754945",
            "_dom_classes": [],
            "description": "",
            "_model_name": "HTMLModel",
            "placeholder": "​",
            "_view_module": "@jupyter-widgets/controls",
            "_model_module_version": "1.5.0",
            "value": " 1.42M/? [00:00&lt;00:00, 2.75MB/s]",
            "_view_count": null,
            "_view_module_version": "1.5.0",
            "description_tooltip": null,
            "_model_module": "@jupyter-widgets/controls",
            "layout": "IPY_MODEL_22330f8c73c445cf9f61e5a509be0ec2"
          }
        },
        "d2a14b0b852141abb9951c84e07e3a37": {
          "model_module": "@jupyter-widgets/controls",
          "model_name": "ProgressStyleModel",
          "state": {
            "_view_name": "StyleView",
            "_model_name": "ProgressStyleModel",
            "description_width": "initial",
            "_view_module": "@jupyter-widgets/base",
            "_model_module_version": "1.5.0",
            "_view_count": null,
            "_view_module_version": "1.2.0",
            "bar_color": null,
            "_model_module": "@jupyter-widgets/controls"
          }
        },
        "8a6757b704e14b1597a180a60454cb3d": {
          "model_module": "@jupyter-widgets/base",
          "model_name": "LayoutModel",
          "state": {
            "_view_name": "LayoutView",
            "grid_template_rows": null,
            "right": null,
            "justify_content": null,
            "_view_module": "@jupyter-widgets/base",
            "overflow": null,
            "_model_module_version": "1.2.0",
            "_view_count": null,
            "flex_flow": null,
            "width": null,
            "min_width": null,
            "border": null,
            "align_items": null,
            "bottom": null,
            "_model_module": "@jupyter-widgets/base",
            "top": null,
            "grid_column": null,
            "overflow_y": null,
            "overflow_x": null,
            "grid_auto_flow": null,
            "grid_area": null,
            "grid_template_columns": null,
            "flex": null,
            "_model_name": "LayoutModel",
            "justify_items": null,
            "grid_row": null,
            "max_height": null,
            "align_content": null,
            "visibility": null,
            "align_self": null,
            "height": null,
            "min_height": null,
            "padding": null,
            "grid_auto_rows": null,
            "grid_gap": null,
            "max_width": null,
            "order": null,
            "_view_module_version": "1.2.0",
            "grid_template_areas": null,
            "object_position": null,
            "object_fit": null,
            "grid_auto_columns": null,
            "margin": null,
            "display": null,
            "left": null
          }
        },
        "4fe62bba8ca141058f8c21728f754945": {
          "model_module": "@jupyter-widgets/controls",
          "model_name": "DescriptionStyleModel",
          "state": {
            "_view_name": "StyleView",
            "_model_name": "DescriptionStyleModel",
            "description_width": "",
            "_view_module": "@jupyter-widgets/base",
            "_model_module_version": "1.5.0",
            "_view_count": null,
            "_view_module_version": "1.2.0",
            "_model_module": "@jupyter-widgets/controls"
          }
        },
        "22330f8c73c445cf9f61e5a509be0ec2": {
          "model_module": "@jupyter-widgets/base",
          "model_name": "LayoutModel",
          "state": {
            "_view_name": "LayoutView",
            "grid_template_rows": null,
            "right": null,
            "justify_content": null,
            "_view_module": "@jupyter-widgets/base",
            "overflow": null,
            "_model_module_version": "1.2.0",
            "_view_count": null,
            "flex_flow": null,
            "width": null,
            "min_width": null,
            "border": null,
            "align_items": null,
            "bottom": null,
            "_model_module": "@jupyter-widgets/base",
            "top": null,
            "grid_column": null,
            "overflow_y": null,
            "overflow_x": null,
            "grid_auto_flow": null,
            "grid_area": null,
            "grid_template_columns": null,
            "flex": null,
            "_model_name": "LayoutModel",
            "justify_items": null,
            "grid_row": null,
            "max_height": null,
            "align_content": null,
            "visibility": null,
            "align_self": null,
            "height": null,
            "min_height": null,
            "padding": null,
            "grid_auto_rows": null,
            "grid_gap": null,
            "max_width": null,
            "order": null,
            "_view_module_version": "1.2.0",
            "grid_template_areas": null,
            "object_position": null,
            "object_fit": null,
            "grid_auto_columns": null,
            "margin": null,
            "display": null,
            "left": null
          }
        },
        "639cb2b4e7ed4e9aab9aca845daaf1f5": {
          "model_module": "@jupyter-widgets/controls",
          "model_name": "HBoxModel",
          "state": {
            "_view_name": "HBoxView",
            "_dom_classes": [],
            "_model_name": "HBoxModel",
            "_view_module": "@jupyter-widgets/controls",
            "_model_module_version": "1.5.0",
            "_view_count": null,
            "_view_module_version": "1.5.0",
            "box_style": "",
            "layout": "IPY_MODEL_0b6aeef4add64dc89c065479a5279507",
            "_model_module": "@jupyter-widgets/controls",
            "children": [
              "IPY_MODEL_3b2cafbf1377427a8d720349128bb6e3",
              "IPY_MODEL_a5685693e70e44f28301619a186a4167"
            ]
          }
        },
        "0b6aeef4add64dc89c065479a5279507": {
          "model_module": "@jupyter-widgets/base",
          "model_name": "LayoutModel",
          "state": {
            "_view_name": "LayoutView",
            "grid_template_rows": null,
            "right": null,
            "justify_content": null,
            "_view_module": "@jupyter-widgets/base",
            "overflow": null,
            "_model_module_version": "1.2.0",
            "_view_count": null,
            "flex_flow": null,
            "width": null,
            "min_width": null,
            "border": null,
            "align_items": null,
            "bottom": null,
            "_model_module": "@jupyter-widgets/base",
            "top": null,
            "grid_column": null,
            "overflow_y": null,
            "overflow_x": null,
            "grid_auto_flow": null,
            "grid_area": null,
            "grid_template_columns": null,
            "flex": null,
            "_model_name": "LayoutModel",
            "justify_items": null,
            "grid_row": null,
            "max_height": null,
            "align_content": null,
            "visibility": null,
            "align_self": null,
            "height": null,
            "min_height": null,
            "padding": null,
            "grid_auto_rows": null,
            "grid_gap": null,
            "max_width": null,
            "order": null,
            "_view_module_version": "1.2.0",
            "grid_template_areas": null,
            "object_position": null,
            "object_fit": null,
            "grid_auto_columns": null,
            "margin": null,
            "display": null,
            "left": null
          }
        },
        "3b2cafbf1377427a8d720349128bb6e3": {
          "model_module": "@jupyter-widgets/controls",
          "model_name": "FloatProgressModel",
          "state": {
            "_view_name": "ProgressView",
            "style": "IPY_MODEL_27e59423ad8341cfbc2077e8daaa38ed",
            "_dom_classes": [],
            "description": "Downloading: ",
            "_model_name": "FloatProgressModel",
            "bar_style": "success",
            "max": 18007,
            "_view_module": "@jupyter-widgets/controls",
            "_model_module_version": "1.5.0",
            "value": 18007,
            "_view_count": null,
            "_view_module_version": "1.5.0",
            "orientation": "horizontal",
            "min": 0,
            "description_tooltip": null,
            "_model_module": "@jupyter-widgets/controls",
            "layout": "IPY_MODEL_3bb058aa602440fdbc5ee15999d11e73"
          }
        },
        "a5685693e70e44f28301619a186a4167": {
          "model_module": "@jupyter-widgets/controls",
          "model_name": "HTMLModel",
          "state": {
            "_view_name": "HTMLView",
            "style": "IPY_MODEL_9a34e06532f84589a154d7dc19178509",
            "_dom_classes": [],
            "description": "",
            "_model_name": "HTMLModel",
            "placeholder": "​",
            "_view_module": "@jupyter-widgets/controls",
            "_model_module_version": "1.5.0",
            "value": " 59.7k/? [00:00&lt;00:00, 306kB/s]",
            "_view_count": null,
            "_view_module_version": "1.5.0",
            "description_tooltip": null,
            "_model_module": "@jupyter-widgets/controls",
            "layout": "IPY_MODEL_e3ba985e13804425bdbd33246cc537e0"
          }
        },
        "27e59423ad8341cfbc2077e8daaa38ed": {
          "model_module": "@jupyter-widgets/controls",
          "model_name": "ProgressStyleModel",
          "state": {
            "_view_name": "StyleView",
            "_model_name": "ProgressStyleModel",
            "description_width": "initial",
            "_view_module": "@jupyter-widgets/base",
            "_model_module_version": "1.5.0",
            "_view_count": null,
            "_view_module_version": "1.2.0",
            "bar_color": null,
            "_model_module": "@jupyter-widgets/controls"
          }
        },
        "3bb058aa602440fdbc5ee15999d11e73": {
          "model_module": "@jupyter-widgets/base",
          "model_name": "LayoutModel",
          "state": {
            "_view_name": "LayoutView",
            "grid_template_rows": null,
            "right": null,
            "justify_content": null,
            "_view_module": "@jupyter-widgets/base",
            "overflow": null,
            "_model_module_version": "1.2.0",
            "_view_count": null,
            "flex_flow": null,
            "width": null,
            "min_width": null,
            "border": null,
            "align_items": null,
            "bottom": null,
            "_model_module": "@jupyter-widgets/base",
            "top": null,
            "grid_column": null,
            "overflow_y": null,
            "overflow_x": null,
            "grid_auto_flow": null,
            "grid_area": null,
            "grid_template_columns": null,
            "flex": null,
            "_model_name": "LayoutModel",
            "justify_items": null,
            "grid_row": null,
            "max_height": null,
            "align_content": null,
            "visibility": null,
            "align_self": null,
            "height": null,
            "min_height": null,
            "padding": null,
            "grid_auto_rows": null,
            "grid_gap": null,
            "max_width": null,
            "order": null,
            "_view_module_version": "1.2.0",
            "grid_template_areas": null,
            "object_position": null,
            "object_fit": null,
            "grid_auto_columns": null,
            "margin": null,
            "display": null,
            "left": null
          }
        },
        "9a34e06532f84589a154d7dc19178509": {
          "model_module": "@jupyter-widgets/controls",
          "model_name": "DescriptionStyleModel",
          "state": {
            "_view_name": "StyleView",
            "_model_name": "DescriptionStyleModel",
            "description_width": "",
            "_view_module": "@jupyter-widgets/base",
            "_model_module_version": "1.5.0",
            "_view_count": null,
            "_view_module_version": "1.2.0",
            "_model_module": "@jupyter-widgets/controls"
          }
        },
        "e3ba985e13804425bdbd33246cc537e0": {
          "model_module": "@jupyter-widgets/base",
          "model_name": "LayoutModel",
          "state": {
            "_view_name": "LayoutView",
            "grid_template_rows": null,
            "right": null,
            "justify_content": null,
            "_view_module": "@jupyter-widgets/base",
            "overflow": null,
            "_model_module_version": "1.2.0",
            "_view_count": null,
            "flex_flow": null,
            "width": null,
            "min_width": null,
            "border": null,
            "align_items": null,
            "bottom": null,
            "_model_module": "@jupyter-widgets/base",
            "top": null,
            "grid_column": null,
            "overflow_y": null,
            "overflow_x": null,
            "grid_auto_flow": null,
            "grid_area": null,
            "grid_template_columns": null,
            "flex": null,
            "_model_name": "LayoutModel",
            "justify_items": null,
            "grid_row": null,
            "max_height": null,
            "align_content": null,
            "visibility": null,
            "align_self": null,
            "height": null,
            "min_height": null,
            "padding": null,
            "grid_auto_rows": null,
            "grid_gap": null,
            "max_width": null,
            "order": null,
            "_view_module_version": "1.2.0",
            "grid_template_areas": null,
            "object_position": null,
            "object_fit": null,
            "grid_auto_columns": null,
            "margin": null,
            "display": null,
            "left": null
          }
        },
        "bdd580ab24c64263b323f005ab7419a7": {
          "model_module": "@jupyter-widgets/controls",
          "model_name": "HBoxModel",
          "state": {
            "_view_name": "HBoxView",
            "_dom_classes": [],
            "_model_name": "HBoxModel",
            "_view_module": "@jupyter-widgets/controls",
            "_model_module_version": "1.5.0",
            "_view_count": null,
            "_view_module_version": "1.5.0",
            "box_style": "",
            "layout": "IPY_MODEL_83f8850c1c634e0eb979f02c1655d4b7",
            "_model_module": "@jupyter-widgets/controls",
            "children": [
              "IPY_MODEL_2052f3483a544f34a9c86c5beee0c4a3",
              "IPY_MODEL_ac8106c60bea420a84bc71a96093a15c"
            ]
          }
        },
        "83f8850c1c634e0eb979f02c1655d4b7": {
          "model_module": "@jupyter-widgets/base",
          "model_name": "LayoutModel",
          "state": {
            "_view_name": "LayoutView",
            "grid_template_rows": null,
            "right": null,
            "justify_content": null,
            "_view_module": "@jupyter-widgets/base",
            "overflow": null,
            "_model_module_version": "1.2.0",
            "_view_count": null,
            "flex_flow": null,
            "width": null,
            "min_width": null,
            "border": null,
            "align_items": null,
            "bottom": null,
            "_model_module": "@jupyter-widgets/base",
            "top": null,
            "grid_column": null,
            "overflow_y": null,
            "overflow_x": null,
            "grid_auto_flow": null,
            "grid_area": null,
            "grid_template_columns": null,
            "flex": null,
            "_model_name": "LayoutModel",
            "justify_items": null,
            "grid_row": null,
            "max_height": null,
            "align_content": null,
            "visibility": null,
            "align_self": null,
            "height": null,
            "min_height": null,
            "padding": null,
            "grid_auto_rows": null,
            "grid_gap": null,
            "max_width": null,
            "order": null,
            "_view_module_version": "1.2.0",
            "grid_template_areas": null,
            "object_position": null,
            "object_fit": null,
            "grid_auto_columns": null,
            "margin": null,
            "display": null,
            "left": null
          }
        },
        "2052f3483a544f34a9c86c5beee0c4a3": {
          "model_module": "@jupyter-widgets/controls",
          "model_name": "FloatProgressModel",
          "state": {
            "_view_name": "ProgressView",
            "style": "IPY_MODEL_7c91e8fb768547118a38f1d922f1d6e1",
            "_dom_classes": [],
            "description": "Downloading: ",
            "_model_name": "FloatProgressModel",
            "bar_style": "success",
            "max": 867712,
            "_view_module": "@jupyter-widgets/controls",
            "_model_module_version": "1.5.0",
            "value": 867712,
            "_view_count": null,
            "_view_module_version": "1.5.0",
            "orientation": "horizontal",
            "min": 0,
            "description_tooltip": null,
            "_model_module": "@jupyter-widgets/controls",
            "layout": "IPY_MODEL_4c5e4e0be8084da69f481ee020798727"
          }
        },
        "ac8106c60bea420a84bc71a96093a15c": {
          "model_module": "@jupyter-widgets/controls",
          "model_name": "HTMLModel",
          "state": {
            "_view_name": "HTMLView",
            "style": "IPY_MODEL_f3f3a4d586a34ed2a229aa62b4e182c5",
            "_dom_classes": [],
            "description": "",
            "_model_name": "HTMLModel",
            "placeholder": "​",
            "_view_module": "@jupyter-widgets/controls",
            "_model_module_version": "1.5.0",
            "value": " 2.31M/? [00:00&lt;00:00, 8.00MB/s]",
            "_view_count": null,
            "_view_module_version": "1.5.0",
            "description_tooltip": null,
            "_model_module": "@jupyter-widgets/controls",
            "layout": "IPY_MODEL_17e48b5b8b9a4721b193fcd5f625465f"
          }
        },
        "7c91e8fb768547118a38f1d922f1d6e1": {
          "model_module": "@jupyter-widgets/controls",
          "model_name": "ProgressStyleModel",
          "state": {
            "_view_name": "StyleView",
            "_model_name": "ProgressStyleModel",
            "description_width": "initial",
            "_view_module": "@jupyter-widgets/base",
            "_model_module_version": "1.5.0",
            "_view_count": null,
            "_view_module_version": "1.2.0",
            "bar_color": null,
            "_model_module": "@jupyter-widgets/controls"
          }
        },
        "4c5e4e0be8084da69f481ee020798727": {
          "model_module": "@jupyter-widgets/base",
          "model_name": "LayoutModel",
          "state": {
            "_view_name": "LayoutView",
            "grid_template_rows": null,
            "right": null,
            "justify_content": null,
            "_view_module": "@jupyter-widgets/base",
            "overflow": null,
            "_model_module_version": "1.2.0",
            "_view_count": null,
            "flex_flow": null,
            "width": null,
            "min_width": null,
            "border": null,
            "align_items": null,
            "bottom": null,
            "_model_module": "@jupyter-widgets/base",
            "top": null,
            "grid_column": null,
            "overflow_y": null,
            "overflow_x": null,
            "grid_auto_flow": null,
            "grid_area": null,
            "grid_template_columns": null,
            "flex": null,
            "_model_name": "LayoutModel",
            "justify_items": null,
            "grid_row": null,
            "max_height": null,
            "align_content": null,
            "visibility": null,
            "align_self": null,
            "height": null,
            "min_height": null,
            "padding": null,
            "grid_auto_rows": null,
            "grid_gap": null,
            "max_width": null,
            "order": null,
            "_view_module_version": "1.2.0",
            "grid_template_areas": null,
            "object_position": null,
            "object_fit": null,
            "grid_auto_columns": null,
            "margin": null,
            "display": null,
            "left": null
          }
        },
        "f3f3a4d586a34ed2a229aa62b4e182c5": {
          "model_module": "@jupyter-widgets/controls",
          "model_name": "DescriptionStyleModel",
          "state": {
            "_view_name": "StyleView",
            "_model_name": "DescriptionStyleModel",
            "description_width": "",
            "_view_module": "@jupyter-widgets/base",
            "_model_module_version": "1.5.0",
            "_view_count": null,
            "_view_module_version": "1.2.0",
            "_model_module": "@jupyter-widgets/controls"
          }
        },
        "17e48b5b8b9a4721b193fcd5f625465f": {
          "model_module": "@jupyter-widgets/base",
          "model_name": "LayoutModel",
          "state": {
            "_view_name": "LayoutView",
            "grid_template_rows": null,
            "right": null,
            "justify_content": null,
            "_view_module": "@jupyter-widgets/base",
            "overflow": null,
            "_model_module_version": "1.2.0",
            "_view_count": null,
            "flex_flow": null,
            "width": null,
            "min_width": null,
            "border": null,
            "align_items": null,
            "bottom": null,
            "_model_module": "@jupyter-widgets/base",
            "top": null,
            "grid_column": null,
            "overflow_y": null,
            "overflow_x": null,
            "grid_auto_flow": null,
            "grid_area": null,
            "grid_template_columns": null,
            "flex": null,
            "_model_name": "LayoutModel",
            "justify_items": null,
            "grid_row": null,
            "max_height": null,
            "align_content": null,
            "visibility": null,
            "align_self": null,
            "height": null,
            "min_height": null,
            "padding": null,
            "grid_auto_rows": null,
            "grid_gap": null,
            "max_width": null,
            "order": null,
            "_view_module_version": "1.2.0",
            "grid_template_areas": null,
            "object_position": null,
            "object_fit": null,
            "grid_auto_columns": null,
            "margin": null,
            "display": null,
            "left": null
          }
        },
        "a6e1a90d0dd346ecbc5fb3015f27b98c": {
          "model_module": "@jupyter-widgets/controls",
          "model_name": "HBoxModel",
          "state": {
            "_view_name": "HBoxView",
            "_dom_classes": [],
            "_model_name": "HBoxModel",
            "_view_module": "@jupyter-widgets/controls",
            "_model_module_version": "1.5.0",
            "_view_count": null,
            "_view_module_version": "1.5.0",
            "box_style": "",
            "layout": "IPY_MODEL_a8b1dae3a4cc46418e5a8b36bba72ad3",
            "_model_module": "@jupyter-widgets/controls",
            "children": [
              "IPY_MODEL_ab71aff3cfd342d49dd10111362b1004",
              "IPY_MODEL_b6d4b6946b724c8d9e3be210b414f534"
            ]
          }
        },
        "a8b1dae3a4cc46418e5a8b36bba72ad3": {
          "model_module": "@jupyter-widgets/base",
          "model_name": "LayoutModel",
          "state": {
            "_view_name": "LayoutView",
            "grid_template_rows": null,
            "right": null,
            "justify_content": null,
            "_view_module": "@jupyter-widgets/base",
            "overflow": null,
            "_model_module_version": "1.2.0",
            "_view_count": null,
            "flex_flow": null,
            "width": null,
            "min_width": null,
            "border": null,
            "align_items": null,
            "bottom": null,
            "_model_module": "@jupyter-widgets/base",
            "top": null,
            "grid_column": null,
            "overflow_y": null,
            "overflow_x": null,
            "grid_auto_flow": null,
            "grid_area": null,
            "grid_template_columns": null,
            "flex": null,
            "_model_name": "LayoutModel",
            "justify_items": null,
            "grid_row": null,
            "max_height": null,
            "align_content": null,
            "visibility": null,
            "align_self": null,
            "height": null,
            "min_height": null,
            "padding": null,
            "grid_auto_rows": null,
            "grid_gap": null,
            "max_width": null,
            "order": null,
            "_view_module_version": "1.2.0",
            "grid_template_areas": null,
            "object_position": null,
            "object_fit": null,
            "grid_auto_columns": null,
            "margin": null,
            "display": null,
            "left": null
          }
        },
        "ab71aff3cfd342d49dd10111362b1004": {
          "model_module": "@jupyter-widgets/controls",
          "model_name": "FloatProgressModel",
          "state": {
            "_view_name": "ProgressView",
            "style": "IPY_MODEL_5d515ec71f5f4c9dbff2bd9a5eb191b3",
            "_dom_classes": [],
            "description": "",
            "_model_name": "FloatProgressModel",
            "bar_style": "info",
            "max": 1,
            "_view_module": "@jupyter-widgets/controls",
            "_model_module_version": "1.5.0",
            "value": 1,
            "_view_count": null,
            "_view_module_version": "1.5.0",
            "orientation": "horizontal",
            "min": 0,
            "description_tooltip": null,
            "_model_module": "@jupyter-widgets/controls",
            "layout": "IPY_MODEL_3e719072167c4f5b84f918fb946ac952"
          }
        },
        "b6d4b6946b724c8d9e3be210b414f534": {
          "model_module": "@jupyter-widgets/controls",
          "model_name": "HTMLModel",
          "state": {
            "_view_name": "HTMLView",
            "style": "IPY_MODEL_97e7ff8560324e4ab5b9019107c178ec",
            "_dom_classes": [],
            "description": "",
            "_model_name": "HTMLModel",
            "placeholder": "​",
            "_view_module": "@jupyter-widgets/controls",
            "_model_module_version": "1.5.0",
            "value": " 23516/0 [00:05&lt;00:00,  1.30s/ examples]",
            "_view_count": null,
            "_view_module_version": "1.5.0",
            "description_tooltip": null,
            "_model_module": "@jupyter-widgets/controls",
            "layout": "IPY_MODEL_cc79bcf4f6094a12af5357261462645a"
          }
        },
        "5d515ec71f5f4c9dbff2bd9a5eb191b3": {
          "model_module": "@jupyter-widgets/controls",
          "model_name": "ProgressStyleModel",
          "state": {
            "_view_name": "StyleView",
            "_model_name": "ProgressStyleModel",
            "description_width": "initial",
            "_view_module": "@jupyter-widgets/base",
            "_model_module_version": "1.5.0",
            "_view_count": null,
            "_view_module_version": "1.2.0",
            "bar_color": null,
            "_model_module": "@jupyter-widgets/controls"
          }
        },
        "3e719072167c4f5b84f918fb946ac952": {
          "model_module": "@jupyter-widgets/base",
          "model_name": "LayoutModel",
          "state": {
            "_view_name": "LayoutView",
            "grid_template_rows": null,
            "right": null,
            "justify_content": null,
            "_view_module": "@jupyter-widgets/base",
            "overflow": null,
            "_model_module_version": "1.2.0",
            "_view_count": null,
            "flex_flow": null,
            "width": null,
            "min_width": null,
            "border": null,
            "align_items": null,
            "bottom": null,
            "_model_module": "@jupyter-widgets/base",
            "top": null,
            "grid_column": null,
            "overflow_y": null,
            "overflow_x": null,
            "grid_auto_flow": null,
            "grid_area": null,
            "grid_template_columns": null,
            "flex": null,
            "_model_name": "LayoutModel",
            "justify_items": null,
            "grid_row": null,
            "max_height": null,
            "align_content": null,
            "visibility": null,
            "align_self": null,
            "height": null,
            "min_height": null,
            "padding": null,
            "grid_auto_rows": null,
            "grid_gap": null,
            "max_width": null,
            "order": null,
            "_view_module_version": "1.2.0",
            "grid_template_areas": null,
            "object_position": null,
            "object_fit": null,
            "grid_auto_columns": null,
            "margin": null,
            "display": null,
            "left": null
          }
        },
        "97e7ff8560324e4ab5b9019107c178ec": {
          "model_module": "@jupyter-widgets/controls",
          "model_name": "DescriptionStyleModel",
          "state": {
            "_view_name": "StyleView",
            "_model_name": "DescriptionStyleModel",
            "description_width": "",
            "_view_module": "@jupyter-widgets/base",
            "_model_module_version": "1.5.0",
            "_view_count": null,
            "_view_module_version": "1.2.0",
            "_model_module": "@jupyter-widgets/controls"
          }
        },
        "cc79bcf4f6094a12af5357261462645a": {
          "model_module": "@jupyter-widgets/base",
          "model_name": "LayoutModel",
          "state": {
            "_view_name": "LayoutView",
            "grid_template_rows": null,
            "right": null,
            "justify_content": null,
            "_view_module": "@jupyter-widgets/base",
            "overflow": null,
            "_model_module_version": "1.2.0",
            "_view_count": null,
            "flex_flow": null,
            "width": null,
            "min_width": null,
            "border": null,
            "align_items": null,
            "bottom": null,
            "_model_module": "@jupyter-widgets/base",
            "top": null,
            "grid_column": null,
            "overflow_y": null,
            "overflow_x": null,
            "grid_auto_flow": null,
            "grid_area": null,
            "grid_template_columns": null,
            "flex": null,
            "_model_name": "LayoutModel",
            "justify_items": null,
            "grid_row": null,
            "max_height": null,
            "align_content": null,
            "visibility": null,
            "align_self": null,
            "height": null,
            "min_height": null,
            "padding": null,
            "grid_auto_rows": null,
            "grid_gap": null,
            "max_width": null,
            "order": null,
            "_view_module_version": "1.2.0",
            "grid_template_areas": null,
            "object_position": null,
            "object_fit": null,
            "grid_auto_columns": null,
            "margin": null,
            "display": null,
            "left": null
          }
        }
      }
    }
  },
  "cells": [
    {
      "cell_type": "markdown",
      "metadata": {
        "id": "view-in-github",
        "colab_type": "text"
      },
      "source": [
        "<a href=\"https://colab.research.google.com/github/hasanabbas21/spark-nlp/blob/main/CS777_Term_Project_Spark_NLP_Clinical_Text_Analysis.ipynb\" target=\"_parent\"><img src=\"https://colab.research.google.com/assets/colab-badge.svg\" alt=\"Open In Colab\"/></a>"
      ]
    },
    {
      "cell_type": "markdown",
      "metadata": {
        "id": "5lOo8F714wRK"
      },
      "source": [
        "### Import the Healthcare Licenses for Spark NLP Healthcare models "
      ]
    },
    {
      "cell_type": "markdown",
      "metadata": {
        "id": "h2eR7Yk0-yLZ"
      },
      "source": [
        "***Natural Language Processing ***\n",
        "\n",
        "1. NLP is domain specific.\n",
        "\n",
        "2. Healthcare data is very unstructured\n",
        "\n",
        "3. Clinical data from EMR, EHR\n",
        "  - find presence of diseases, medications and treatment\n",
        "  - selecting patients for clinical trials\n",
        "  - de-identifying data (PHI/PII)\n",
        "\n",
        "4. NER ( Named Entity recognition)\n",
        "  - Classifier\n",
        "  - run on a cluster (DL on Tendorflow)\n",
        "  - building block for topic modeling, information retrieval, question answering- \n",
        "\n",
        "5. Spark NLP \n",
        "  - built on top of Spark ML\n",
        "  - Spark NLP for healthcare clinical documents (enterprise version) , number one in adoption\n",
        "  - Feature extraction from text \n",
        "  - Word embeddings\n",
        "      - BERT\n",
        "      - ELMO\n",
        "      - GLOVE etc\n",
        "\n",
        "6. Google Colab \n",
        " - fully isolated runtime , all dependencies, run anytime , by anyone\n",
        " - open-jdk8\n",
        " - will run interactively ( except training and some steps that take minutes)\n",
        " - spark ML, spark NLP, spark JSL (Healthcare pack)\n",
        " - pipelines\n",
        " - Spark Dataframe\n",
        "\n",
        "7. **PART -1**\n",
        "  - Using pretrained models in Spark NLP\n",
        "  - do some text entiry recognition using NER \n",
        "\n",
        "8. **PART -2**\n",
        "  - Train our own models to classify clinical text:\n",
        "    - identify adverse reaction to drugs/medications\n",
        "  - Train on a deep learning model on Tensorflow\n",
        "    - on top of spark ML\n",
        "    - using **BioBERT** embeddings for tokens \n",
        "  - Save the trained model for later use\n",
        "  - Load and perform inference on randon clinical text\n",
        "\n",
        "9. Datasets\n",
        " - PART -1 \n",
        "    - scraped from https://mtsamples.com\n",
        "    - Medical Transcription Text\n",
        " - PART -2\n",
        "    - open source dataset from Huggingface.com (an AI community)\n",
        "    - https://huggingface.co/datasets/ade_corpus_v2\n",
        "\n",
        "\n"
      ]
    },
    {
      "cell_type": "markdown",
      "metadata": {
        "id": "YrTHUdbyIWIS"
      },
      "source": [
        "Get the **most** out of clinical text"
      ]
    },
    {
      "cell_type": "markdown",
      "metadata": {
        "id": "Kd5WbbWhIQPN"
      },
      "source": [
        "![Screen Shot 2021-05-01 at 2.10.36 PM.png](data:image/png;base64,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)"
      ]
    },
    {
      "cell_type": "markdown",
      "metadata": {
        "id": "HVXXyOH_fTI7"
      },
      "source": [
        "These are valid for only 1 month until 5/24.\n",
        "\n",
        "You can register for a free 1 month trial here:\n",
        "\n",
        "https://nlp.johnsnowlabs.com/docs/en/licensed_install"
      ]
    },
    {
      "cell_type": "code",
      "metadata": {
        "colab": {
          "resources": {
            "http://localhost:8080/nbextensions/google.colab/files.js": {
              "data": "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",
              "ok": true,
              "headers": [
                [
                  "content-type",
                  "application/javascript"
                ]
              ],
              "status": 200,
              "status_text": "OK"
            }
          },
          "base_uri": "https://localhost:8080/",
          "height": 73
        },
        "id": "r7vWYKAx4MBa",
        "outputId": "66804abe-bb3d-4378-d80f-e315a867e222"
      },
      "source": [
        "import json\n",
        "\n",
        "from google.colab import files\n",
        "\n",
        "license_keys = files.upload()\n",
        "\n",
        "with open(list(license_keys.keys())[0]) as f:\n",
        "    license_keys = json.load(f)"
      ],
      "execution_count": 80,
      "outputs": [
        {
          "output_type": "display_data",
          "data": {
            "text/html": [
              "\n",
              "     <input type=\"file\" id=\"files-719a5135-9a9c-47e4-995f-b27bab0843bf\" name=\"files[]\" multiple disabled\n",
              "        style=\"border:none\" />\n",
              "     <output id=\"result-719a5135-9a9c-47e4-995f-b27bab0843bf\">\n",
              "      Upload widget is only available when the cell has been executed in the\n",
              "      current browser session. Please rerun this cell to enable.\n",
              "      </output>\n",
              "      <script src=\"/nbextensions/google.colab/files.js\"></script> "
            ],
            "text/plain": [
              "<IPython.core.display.HTML object>"
            ]
          },
          "metadata": {
            "tags": []
          }
        },
        {
          "output_type": "stream",
          "text": [
            "Saving workshop_license_keys_365.json to workshop_license_keys_365.json\n"
          ],
          "name": "stdout"
        }
      ]
    },
    {
      "cell_type": "markdown",
      "metadata": {
        "id": "NApSfdwd4_R1"
      },
      "source": [
        "Check versions of Spark NLP Healthcare - spark jsl (John Snow Labs)"
      ]
    },
    {
      "cell_type": "code",
      "metadata": {
        "colab": {
          "base_uri": "https://localhost:8080/",
          "height": 36
        },
        "id": "102CU5B94vYM",
        "outputId": "d16033f6-f7d2-4db4-d1b4-4cf84111d4d6"
      },
      "source": [
        "license_keys['JSL_VERSION']"
      ],
      "execution_count": 81,
      "outputs": [
        {
          "output_type": "execute_result",
          "data": {
            "application/vnd.google.colaboratory.intrinsic+json": {
              "type": "string"
            },
            "text/plain": [
              "'3.0.1'"
            ]
          },
          "metadata": {
            "tags": []
          },
          "execution_count": 81
        }
      ]
    },
    {
      "cell_type": "code",
      "metadata": {
        "id": "LjjKK3imXTjk"
      },
      "source": [
        "# Install java\n",
        "! apt-get update -qq\n",
        "! apt-get install -y openjdk-8-jdk-headless -qq > /dev/null"
      ],
      "execution_count": 82,
      "outputs": []
    },
    {
      "cell_type": "code",
      "metadata": {
        "colab": {
          "base_uri": "https://localhost:8080/"
        },
        "id": "MsGn_1WoXgGn",
        "outputId": "3799fd05-48b2-4d71-8737-19b06966d7fa"
      },
      "source": [
        "import os\n",
        "os.environ[\"JAVA_HOME\"] = \"/usr/lib/jvm/java-8-openjdk-amd64\"\n",
        "os.environ[\"PATH\"] = os.environ[\"JAVA_HOME\"] + \"/bin:\" + os.environ[\"PATH\"]\n",
        "! java -version\n",
        "\n",
        "secret = license_keys['SECRET']"
      ],
      "execution_count": 83,
      "outputs": [
        {
          "output_type": "stream",
          "text": [
            "openjdk version \"1.8.0_292\"\n",
            "OpenJDK Runtime Environment (build 1.8.0_292-8u292-b10-0ubuntu1~18.04-b10)\n",
            "OpenJDK 64-Bit Server VM (build 25.292-b10, mixed mode)\n"
          ],
          "name": "stdout"
        }
      ]
    },
    {
      "cell_type": "markdown",
      "metadata": {
        "id": "aTRKFvRe5a4O"
      },
      "source": [
        "Using the license keys install into colab runtime spark-nlp-jsl. The scripts are provided already by spark nlp getting started page and available in the JSL's github page\n",
        "\n",
        "Also install spark nlp display library (spark-nlp-display) for visualizations for the results of the models on text (paragraph annotations)"
      ]
    },
    {
      "cell_type": "code",
      "metadata": {
        "id": "iF_d9cAv5UE5"
      },
      "source": [
        "%%capture\n",
        "for k,v in license_keys.items(): \n",
        "    %set_env $k=$v\n",
        "\n",
        "!wget https://raw.githubusercontent.com/JohnSnowLabs/spark-nlp-workshop/master/jsl_colab_setup.sh\n",
        "!bash jsl_colab_setup.sh\n",
        "\n",
        "! pip install spark-nlp-display"
      ],
      "execution_count": 6,
      "outputs": []
    },
    {
      "cell_type": "markdown",
      "metadata": {
        "id": "WZPQSWFDe-VH"
      },
      "source": [
        "### Organize all the necessary imports, versions and session settings\n"
      ]
    },
    {
      "cell_type": "markdown",
      "metadata": {
        "id": "nzbQLVhH6ukq"
      },
      "source": [
        "We will use :\n",
        "1. pyspark ML\n",
        "2. sparknlp\n",
        "3. sparknlp_jsl "
      ]
    },
    {
      "cell_type": "code",
      "metadata": {
        "id": "CcRqmHNa6FGe"
      },
      "source": [
        "import json\n",
        "import os\n",
        "from pyspark.ml import Pipeline,PipelineModel\n",
        "from pyspark.sql import SparkSession\n",
        "\n",
        "from sparknlp.annotator import *\n",
        "from sparknlp_jsl.annotator import *\n",
        "from sparknlp.base import *\n",
        "import sparknlp_jsl\n",
        "import sparknlp"
      ],
      "execution_count": 84,
      "outputs": []
    },
    {
      "cell_type": "markdown",
      "metadata": {
        "id": "vpOcCUzt7OMP"
      },
      "source": [
        "1. Initialize the spark-nlp-jsl session from the license keys \n",
        "2. Start the session with the configuration\n",
        "3. verify the versions of spark nlp and spark jsl"
      ]
    },
    {
      "cell_type": "code",
      "metadata": {
        "colab": {
          "base_uri": "https://localhost:8080/"
        },
        "id": "H1cxSXOC7Upz",
        "outputId": "a4bd62b7-52b3-40e8-e716-89ca5bae3e9e"
      },
      "source": [
        "params = {\n",
        "    \"spark.driver.memory\":\"16G\",\n",
        "    \"spark.kryoserializer.buffer.max\":\"2000M\",\n",
        "    \"spark.driver.maxResultSize\":\"2000M\",\n",
        "    \"gpu\":True\n",
        "      }\n",
        "\n",
        "spark = sparknlp_jsl.start(license_keys['SECRET'],params=params)\n",
        "\n",
        "print (\"Spark NLP Version :\", sparknlp.version())\n",
        "print (\"Spark NLP_JSL Version :\", sparknlp_jsl.version())"
      ],
      "execution_count": 85,
      "outputs": [
        {
          "output_type": "stream",
          "text": [
            "Spark NLP Version : 3.0.1\n",
            "Spark NLP_JSL Version : 3.0.1\n"
          ],
          "name": "stdout"
        }
      ]
    },
    {
      "cell_type": "markdown",
      "metadata": {
        "id": "uFGqY2XkeVCa"
      },
      "source": [
        "### Setting up the Spark NLP Models in the pipeline"
      ]
    },
    {
      "cell_type": "markdown",
      "metadata": {
        "id": "7ymJKWNQAOUx"
      },
      "source": [
        "We will use pre-trained clinical models and run then on clinical text and observe the inferences first \n",
        "Then, we will train our own clinical model and run a test \n",
        "Three separate clinical use cases are explored in this project:\n",
        "\n",
        "\n",
        "1.   **Named Entity Recognition** (problem, treatment and test classifier)\n",
        "2.   **Posology** (medication strength, frequency, duration classifier)\n",
        "3.   **Clinical Assertion** (presence of a problem)\n",
        "\n",
        "\n",
        "We will use pipelines through out to chain the results of one clinical model after the other.\n"
      ]
    },
    {
      "cell_type": "markdown",
      "metadata": {
        "id": "_fcJCju1DRgX"
      },
      "source": [
        "In order to train a Named Entity Recognition DL annotator, we need to get \"CoNLL format\" data as a \"spark dataframe\"\n",
        "The text to process shoukld be in a column of the dataframe (e.g. **text** column in below assempler model)\n",
        "\n",
        "ref: https://nlp.johnsnowlabs.com/docs/en/training\n"
      ]
    },
    {
      "cell_type": "code",
      "metadata": {
        "id": "ZoL2kSnpC5y1"
      },
      "source": [
        "# Annotator that transforms a text column from dataframe into an Annotation ready for NLP\n",
        "assembler = DocumentAssembler().setInputCol(\"text\").setOutputCol(\"document\")"
      ],
      "execution_count": 86,
      "outputs": []
    },
    {
      "cell_type": "markdown",
      "metadata": {
        "id": "x2-mKo-nDpTk"
      },
      "source": [
        "Assembler converts data from the **text** column to **documents** for spark nlp to process.\n",
        "ref: https://nlp.johnsnowlabs.com/docs/en/transformers#documentassembler-getting-data-in"
      ]
    },
    {
      "cell_type": "code",
      "metadata": {
        "colab": {
          "base_uri": "https://localhost:8080/"
        },
        "id": "R_y6AUk-8lru",
        "outputId": "43320588-222f-44f2-d523-6c54075ac9b4"
      },
      "source": [
        "sentenceDetector = SentenceDetectorDLModel.pretrained(\"sentence_detector_dl_healthcare\",\"en\",\"clinical/models\")\\\n",
        "        .setInputCols([\"document\"])\\\n",
        "        .setOutputCol(\"sentence\")"
      ],
      "execution_count": 10,
      "outputs": [
        {
          "output_type": "stream",
          "text": [
            "sentence_detector_dl_healthcare download started this may take some time.\n",
            "Approximate size to download 363.9 KB\n",
            "[OK!]\n"
          ],
          "name": "stdout"
        }
      ]
    },
    {
      "cell_type": "markdown",
      "metadata": {
        "id": "kuLzaczrEXNV"
      },
      "source": [
        "ref: https://nlp.johnsnowlabs.com/docs/en/annotators#sentencedetector\n",
        "\n",
        "Finds sentence bounds in raw text. Applies rules from Pragmatic Segmenter.\n"
      ]
    },
    {
      "cell_type": "code",
      "metadata": {
        "id": "wW38s72yEhjZ"
      },
      "source": [
        "tokenizer = Tokenizer().setInputCols([\"sentence\"]).setOutputCol(\"token\")"
      ],
      "execution_count": 11,
      "outputs": []
    },
    {
      "cell_type": "markdown",
      "metadata": {
        "id": "6xBFAV4wExzw"
      },
      "source": [
        "Tokenizer Identifies tokens with tokenization open standards.\n",
        "\n",
        "ref: https://nlp.johnsnowlabs.com/docs/en/annotators#tokenizer"
      ]
    },
    {
      "cell_type": "code",
      "metadata": {
        "colab": {
          "base_uri": "https://localhost:8080/"
        },
        "id": "Y0NpoWjFFF7P",
        "outputId": "6547b972-9d0b-45ce-a630-eae4c32a306c"
      },
      "source": [
        "word_embeddings = WordEmbeddingsModel.pretrained(\"embeddings_clinical\",\"en\",\"clinical/models\")\\\n",
        "        .setInputCols([\"sentence\",\"token\"])\\\n",
        "        .setOutputCol(\"embeddings\")"
      ],
      "execution_count": 12,
      "outputs": [
        {
          "output_type": "stream",
          "text": [
            "embeddings_clinical download started this may take some time.\n",
            "Approximate size to download 1.6 GB\n",
            "[OK!]\n"
          ],
          "name": "stdout"
        }
      ]
    },
    {
      "cell_type": "markdown",
      "metadata": {
        "id": "QxCV5-kCFPM3"
      },
      "source": [
        "WordEmbeddings model :\n",
        "1. takes sentences and tokens in text and returns embeddings (vectors) for every word in the corpus\n",
        "2. Trained on PubMed corpora https://www.nlm.nih.gov/databases/download/pubmed_medline.html\n",
        "3. 4.5 Billion clinical words corpora\n",
        "\n",
        "https://pubmed.ncbi.nlm.nih.gov/"
      ]
    },
    {
      "cell_type": "code",
      "metadata": {
        "colab": {
          "base_uri": "https://localhost:8080/"
        },
        "id": "EaIMbTEOGl2i",
        "outputId": "9a20ef68-6a51-4855-fdc9-e362f1ec5ac3"
      },
      "source": [
        "medical_ner = MedicalNerModel.pretrained(\"ner_clinical_large\",\"en\",\"clinical/models\")\\\n",
        "        .setInputCols([\"sentence\",\"token\",\"embeddings\"])\\\n",
        "        .setOutputCol(\"ner\")\n",
        "\n",
        "posology_ner = MedicalNerModel.pretrained(\"ner_posology\", \"en\", \"clinical/models\") \\\n",
        "    .setInputCols([\"sentence\", \"token\", \"embeddings\"]) \\\n",
        "    .setOutputCol(\"ner\")"
      ],
      "execution_count": 13,
      "outputs": [
        {
          "output_type": "stream",
          "text": [
            "ner_clinical_large download started this may take some time.\n",
            "Approximate size to download 13.9 MB\n",
            "[OK!]\n",
            "ner_posology download started this may take some time.\n",
            "Approximate size to download 13.8 MB\n",
            "[OK!]\n"
          ],
          "name": "stdout"
        }
      ]
    },
    {
      "cell_type": "code",
      "metadata": {
        "colab": {
          "base_uri": "https://localhost:8080/"
        },
        "id": "2KuIbY2kYwUm",
        "outputId": "d71f9e98-587d-45cc-ba5c-73838fc00750"
      },
      "source": [
        "posology_ner_greedy = MedicalNerModel.pretrained(\"ner_posology_greedy\", \"en\", \"clinical/models\") \\\n",
        "    .setInputCols([\"sentence\", \"token\", \"embeddings\"]) \\\n",
        "    .setOutputCol(\"ner_greedy\")"
      ],
      "execution_count": 14,
      "outputs": [
        {
          "output_type": "stream",
          "text": [
            "ner_posology_greedy download started this may take some time.\n",
            "Approximate size to download 13.9 MB\n",
            "[OK!]\n"
          ],
          "name": "stdout"
        }
      ]
    },
    {
      "cell_type": "code",
      "metadata": {
        "id": "8Uh9ja5RY7Zy"
      },
      "source": [
        "ner_converter = NerConverter()\\\n",
        "        .setInputCols([\"sentence\",\"token\",\"ner\"])\\\n",
        "        .setOutputCol(\"ner_chunk\")\n",
        "\n",
        "ner_converter_greedy = NerConverter()\\\n",
        "    .setInputCols([\"sentence\",\"token\",\"ner_greedy\"])\\\n",
        "    .setOutputCol(\"ner_chunk_greedy\")"
      ],
      "execution_count": 15,
      "outputs": []
    },
    {
      "cell_type": "code",
      "metadata": {
        "colab": {
          "base_uri": "https://localhost:8080/"
        },
        "id": "o-JZhbr1YOsk",
        "outputId": "1ad77acc-c03d-43db-e1a4-ed617a3bde7a"
      },
      "source": [
        "medical_ner.getClasses()"
      ],
      "execution_count": 87,
      "outputs": [
        {
          "output_type": "execute_result",
          "data": {
            "text/plain": [
              "['O',\n",
              " 'B-TREATMENT',\n",
              " 'I-TREATMENT',\n",
              " 'B-PROBLEM',\n",
              " 'I-PROBLEM',\n",
              " 'B-TEST',\n",
              " 'I-TEST']"
            ]
          },
          "metadata": {
            "tags": []
          },
          "execution_count": 87
        }
      ]
    },
    {
      "cell_type": "code",
      "metadata": {
        "colab": {
          "base_uri": "https://localhost:8080/"
        },
        "id": "6cADs7-vMikv",
        "outputId": "06b12cb4-0138-4814-d9a8-0bc59fc7d134"
      },
      "source": [
        "posology_ner.getClasses()"
      ],
      "execution_count": 17,
      "outputs": [
        {
          "output_type": "execute_result",
          "data": {
            "text/plain": [
              "['O',\n",
              " 'B-DOSAGE',\n",
              " 'B-STRENGTH',\n",
              " 'I-STRENGTH',\n",
              " 'B-ROUTE',\n",
              " 'B-FREQUENCY',\n",
              " 'I-FREQUENCY',\n",
              " 'B-DRUG',\n",
              " 'I-DRUG',\n",
              " 'B-FORM',\n",
              " 'I-DOSAGE',\n",
              " 'B-DURATION',\n",
              " 'I-DURATION',\n",
              " 'I-FORM',\n",
              " 'I-ROUTE']"
            ]
          },
          "metadata": {
            "tags": []
          },
          "execution_count": 17
        }
      ]
    },
    {
      "cell_type": "markdown",
      "metadata": {
        "id": "D5FqmirSGsSk"
      },
      "source": [
        "**MedicalNerModel** is a pretrained model to recognize (NER's), Posology (dosages) as listed above from clinical text passed as input:\n",
        "\n",
        "It takes word embeddings as **input** (I/P)\n",
        "provides NER (Named Entity Recognition) tags as **Output**  O/P\n",
        "\n",
        "Further, a **NERConverter** will chunk commonly occuring parts of sentences as chunks.\n",
        "\n",
        "\n"
      ]
    },
    {
      "cell_type": "markdown",
      "metadata": {
        "id": "8cLi1j5dehVc"
      },
      "source": [
        "### Finally the pipeline is put together"
      ]
    },
    {
      "cell_type": "markdown",
      "metadata": {
        "id": "Te8PUbNpK51A"
      },
      "source": [
        "Finally, the pipeline is constructed as a sequence of pretrained models . Each successive model taked output of previous step as input and passes the output to the next pretrained model"
      ]
    },
    {
      "cell_type": "markdown",
      "metadata": {
        "id": "5I1jXECJQcrk"
      },
      "source": [
        "![Screen Shot 2021-04-27 at 10.00.03 PM.png](data:image/png;base64,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)"
      ]
    },
    {
      "cell_type": "code",
      "metadata": {
        "id": "Q5iYiCYrGrt_"
      },
      "source": [
        "clinical_pipeline = Pipeline(stages=[\n",
        "                          assembler,\n",
        "                          sentenceDetector,\n",
        "                          tokenizer,\n",
        "                          word_embeddings,\n",
        "                          medical_ner,\n",
        "                          ner_converter])"
      ],
      "execution_count": 88,
      "outputs": []
    },
    {
      "cell_type": "code",
      "metadata": {
        "id": "6AtlEqcuKxyu"
      },
      "source": [
        "nlp_df = spark.createDataFrame([[\"\"]]).toDF(\"text\")\n"
      ],
      "execution_count": 19,
      "outputs": []
    },
    {
      "cell_type": "markdown",
      "metadata": {
        "id": "6CimlnOwLYzQ"
      },
      "source": [
        "As mentioned above, we need to have the data to train in the text column of a dataframe. Here since we are using a pretrained model, no need to train, just transform. Hence, use a dummy nlp_df and fit the pipeline"
      ]
    },
    {
      "cell_type": "code",
      "metadata": {
        "id": "1r0q28HdLnkx"
      },
      "source": [
        "clinical_nlp_model = clinical_pipeline.fit(nlp_df)"
      ],
      "execution_count": 89,
      "outputs": []
    },
    {
      "cell_type": "code",
      "metadata": {
        "colab": {
          "base_uri": "https://localhost:8080/"
        },
        "id": "BXhHhHdbL_b1",
        "outputId": "fec2919a-383a-4f84-cca8-3389cd0995c9"
      },
      "source": [
        "clinical_nlp_model.stages"
      ],
      "execution_count": 21,
      "outputs": [
        {
          "output_type": "execute_result",
          "data": {
            "text/plain": [
              "[DocumentAssembler_80c25e37f0b4,\n",
              " SentenceDetectorDLModel_d2546f0acfe2,\n",
              " REGEX_TOKENIZER_5314d583a740,\n",
              " WORD_EMBEDDINGS_MODEL_9004b1d00302,\n",
              " MedicalNerModel_1a8637089929,\n",
              " NerConverter_6eeb86110138]"
            ]
          },
          "metadata": {
            "tags": []
          },
          "execution_count": 21
        }
      ]
    },
    {
      "cell_type": "markdown",
      "metadata": {
        "id": "wfr72I9CMDah"
      },
      "source": [
        "The stages are exactly as described before"
      ]
    },
    {
      "cell_type": "code",
      "metadata": {
        "id": "MmaXo0lcMByP"
      },
      "source": [
        "!wget -q https://storage.googleapis.com/mirza-cs777-bucket/term_project/mtsamples.csv"
      ],
      "execution_count": 22,
      "outputs": []
    },
    {
      "cell_type": "markdown",
      "metadata": {
        "id": "xPyCGjHoQmpW"
      },
      "source": [
        "source : https://www.kaggle.com/tboyle10/medicaltranscriptions\n",
        "\n",
        "I have saved a medical transcription data set into my google drive in public mode, we will retrieve it for today's work "
      ]
    },
    {
      "cell_type": "code",
      "metadata": {
        "id": "cox_byhrQCzu"
      },
      "source": [
        "import pyspark.sql.functions as F\n",
        "\n",
        "med_transcript_data = spark.read.option(\"header\", \"true\").csv(\"mtsamples.csv\")"
      ],
      "execution_count": 23,
      "outputs": []
    },
    {
      "cell_type": "code",
      "metadata": {
        "id": "OsItDNKkQxoe",
        "colab": {
          "base_uri": "https://localhost:8080/"
        },
        "outputId": "c8dffcdc-1020-4107-d1ae-1b493d2377af"
      },
      "source": [
        "med_transcript_data.show(2)"
      ],
      "execution_count": 24,
      "outputs": [
        {
          "output_type": "stream",
          "text": [
            "+---+--------------------+--------------------+--------------------+--------------------+--------------------+\n",
            "|_c0|         description|   medical_specialty|         sample_name|       transcription|            keywords|\n",
            "+---+--------------------+--------------------+--------------------+--------------------+--------------------+\n",
            "|  0| A 23-year-old wh...| Allergy / Immuno...|  Allergic Rhinitis |SUBJECTIVE:,  Thi...|allergy / immunol...|\n",
            "|  1| Consult for lapa...|          Bariatrics| Laparoscopic Gas...|PAST MEDICAL HIST...|bariatrics, lapar...|\n",
            "+---+--------------------+--------------------+--------------------+--------------------+--------------------+\n",
            "only showing top 2 rows\n",
            "\n"
          ],
          "name": "stdout"
        }
      ]
    },
    {
      "cell_type": "code",
      "metadata": {
        "id": "_KolHMRgQ0ig",
        "colab": {
          "base_uri": "https://localhost:8080/"
        },
        "outputId": "3c4918f8-c3c1-495a-c282-8786f4f62afa"
      },
      "source": [
        "med_transcript_data.printSchema()"
      ],
      "execution_count": 25,
      "outputs": [
        {
          "output_type": "stream",
          "text": [
            "root\n",
            " |-- _c0: string (nullable = true)\n",
            " |-- description: string (nullable = true)\n",
            " |-- medical_specialty: string (nullable = true)\n",
            " |-- sample_name: string (nullable = true)\n",
            " |-- transcription: string (nullable = true)\n",
            " |-- keywords: string (nullable = true)\n",
            "\n"
          ],
          "name": "stdout"
        }
      ]
    },
    {
      "cell_type": "code",
      "metadata": {
        "id": "GJ9DqyDFQ6Wu"
      },
      "source": [
        "just_transcript = med_transcript_data.select(\"transcription\")"
      ],
      "execution_count": 26,
      "outputs": []
    },
    {
      "cell_type": "code",
      "metadata": {
        "id": "QaJSvkJfR5ZS",
        "colab": {
          "base_uri": "https://localhost:8080/"
        },
        "outputId": "a20f7f5c-826b-4132-c883-be6aec4ba656"
      },
      "source": [
        "just_transcript = just_transcript.withColumnRenamed(\"transcription\",\"text\")\n",
        "just_transcript.show(n=5, truncate=False, vertical=True)"
      ],
      "execution_count": 27,
      "outputs": [
        {
          "output_type": "stream",
          "text": [
            "-RECORD 0-------------------------------------------------------------------------------------------------------------------------------------------------------------------------------------------------------------------------------------------------------------------------------------------------------------------------------------------------------------------------------------------------------------------------------------------------------------------------------------------------------------------------------------------------------------------------------------------------------------------------------------------------------------------------------------------------------------------------------------------------------------------------------------------------------------------------------------------------------------------------------------------------------------------------------------------------------------------------------------------------------------------------------------------------------------------------------------------------------------------------------------------------------------------------------------------------------------------------------------------------------------------------------------------------------------------------------------------------------------------------------------------------------------------------------------------------------------------------------------------------------------------------------------------------------------------------------------------------------------------------------------------------------------------------------------------------------------------------------------------------------------------------------------------------------------------------------------------------------------------------------------------------------------------------------------------------------------------------------------------------------------------------------------------------------------------------------------------------------------------------------------------------------------------------------------------------------------------------------------------------------------------------------------------------------------------------------------------------------------------------------------------------------------------------------------------------------------------------------------------------------------------------------\n",
            " text | SUBJECTIVE:,  This 23-year-old white female presents with complaint of allergies.  She used to have allergies when she lived in Seattle but she thinks they are worse here.  In the past, she has tried Claritin, and Zyrtec.  Both worked for short time but then seemed to lose effectiveness.  She has used Allegra also.  She used that last summer and she began using it again two weeks ago.  It does not appear to be working very well.  She has used over-the-counter sprays but no prescription nasal sprays.  She does have asthma but doest not require daily medication for this and does not think it is flaring up.,MEDICATIONS: , Her only medication currently is Ortho Tri-Cyclen and the Allegra.,ALLERGIES: , She has no known medicine allergies.,OBJECTIVE:,Vitals:  Weight was 130 pounds and blood pressure 124/78.,HEENT:  Her throat was mildly erythematous without exudate.  Nasal mucosa was erythematous and swollen.  Only clear drainage was seen.  TMs were clear.,Neck:  Supple without adenopathy.,Lungs:  Clear.,ASSESSMENT:,  Allergic rhinitis.,PLAN:,1.  She will try Zyrtec instead of Allegra again.  Another option will be to use loratadine.  She does not think she has prescription coverage so that might be cheaper.,2.  Samples of Nasonex two sprays in each nostril given for three weeks.  A prescription was written as well.                                                                                                                                                                                                                                                                                                                                                                                                                                                                                                                                                                                                                                                                                                                                                                                                                                                                                                                                                                                                                                                                                                                                             \n",
            "-RECORD 1-------------------------------------------------------------------------------------------------------------------------------------------------------------------------------------------------------------------------------------------------------------------------------------------------------------------------------------------------------------------------------------------------------------------------------------------------------------------------------------------------------------------------------------------------------------------------------------------------------------------------------------------------------------------------------------------------------------------------------------------------------------------------------------------------------------------------------------------------------------------------------------------------------------------------------------------------------------------------------------------------------------------------------------------------------------------------------------------------------------------------------------------------------------------------------------------------------------------------------------------------------------------------------------------------------------------------------------------------------------------------------------------------------------------------------------------------------------------------------------------------------------------------------------------------------------------------------------------------------------------------------------------------------------------------------------------------------------------------------------------------------------------------------------------------------------------------------------------------------------------------------------------------------------------------------------------------------------------------------------------------------------------------------------------------------------------------------------------------------------------------------------------------------------------------------------------------------------------------------------------------------------------------------------------------------------------------------------------------------------------------------------------------------------------------------------------------------------------------------------------------------------------------------\n",
            " text | PAST MEDICAL HISTORY:, He has difficulty climbing stairs, difficulty with airline seats, tying shoes, used to public seating, and lifting objects off the floor.  He exercises three times a week at home and does cardio.  He has difficulty walking two blocks or five flights of stairs.  Difficulty with snoring.  He has muscle and joint pains including knee pain, back pain, foot and ankle pain, and swelling.  He has gastroesophageal reflux disease.,PAST SURGICAL HISTORY:, Includes reconstructive surgery on his right hand 13 years ago.  ,SOCIAL HISTORY:, He is currently single.  He has about ten drinks a year.  He had smoked significantly up until several months ago.  He now smokes less than three cigarettes a day.,FAMILY HISTORY:, Heart disease in both grandfathers, grandmother with stroke, and a grandmother with diabetes.  Denies obesity and hypertension in other family members.,CURRENT MEDICATIONS:, None.,ALLERGIES:,  He is allergic to Penicillin.,MISCELLANEOUS/EATING HISTORY:, He has been going to support groups for seven months with Lynn Holmberg in Greenwich and he is from Eastchester, New York and he feels that we are the appropriate program.  He had a poor experience with the Greenwich program.  Eating history, he is not an emotional eater.  Does not like sweets.  He likes big portions and carbohydrates.  He likes chicken and not steak.  He currently weighs 312 pounds.  Ideal body weight would be 170 pounds.  He is 142 pounds overweight.  If ,he lost 60% of his excess body weight that would be 84 pounds and he should weigh about 228.,REVIEW OF SYSTEMS: ,Negative for head, neck, heart, lungs, GI, GU, orthopedic, and skin.  Specifically denies chest pain, heart attack, coronary artery disease, congestive heart failure, arrhythmia, atrial fibrillation, pacemaker, high cholesterol, pulmonary embolism, high blood pressure, CVA, venous insufficiency, thrombophlebitis, asthma, shortness of breath, COPD, emphysema, sleep apnea, diabetes, leg and foot swelling, osteoarthritis, rheumatoid arthritis, hiatal hernia, peptic ulcer disease, gallstones, infected gallbladder, pancreatitis, fatty liver, hepatitis, hemorrhoids, rectal bleeding, polyps, incontinence of stool, urinary stress incontinence, or cancer.  Denies cellulitis, pseudotumor cerebri, meningitis, or encephalitis.,PHYSICAL EXAMINATION:, He is alert and oriented x 3.  Cranial nerves II-XII are intact.  Afebrile.  Vital Signs are stable. \n",
            "-RECORD 2-------------------------------------------------------------------------------------------------------------------------------------------------------------------------------------------------------------------------------------------------------------------------------------------------------------------------------------------------------------------------------------------------------------------------------------------------------------------------------------------------------------------------------------------------------------------------------------------------------------------------------------------------------------------------------------------------------------------------------------------------------------------------------------------------------------------------------------------------------------------------------------------------------------------------------------------------------------------------------------------------------------------------------------------------------------------------------------------------------------------------------------------------------------------------------------------------------------------------------------------------------------------------------------------------------------------------------------------------------------------------------------------------------------------------------------------------------------------------------------------------------------------------------------------------------------------------------------------------------------------------------------------------------------------------------------------------------------------------------------------------------------------------------------------------------------------------------------------------------------------------------------------------------------------------------------------------------------------------------------------------------------------------------------------------------------------------------------------------------------------------------------------------------------------------------------------------------------------------------------------------------------------------------------------------------------------------------------------------------------------------------------------------------------------------------------------------------------------------------------------------------------------------------\n",
            " text | \"HISTORY OF PRESENT ILLNESS: , I have seen ABC today.  He is a very pleasant gentleman who is 42 years old, 344 pounds.  He is 5'9\"\".  He has a BMI of 51.  He has been overweight for ten years since the age of 33                                                                                                                                                                                                                                                                                                                                                                                                                                                                                                                                                                                                                                                                                                                                                                                                                                                                                                                                                                                                                                                                                                                                                                                                                                                                                                                                                                                                                                                                                                                                                                                                                                                                                                                                                                                                                                                                                                                                                                                                                                                                                                                                                                                                                                                                                                            \n",
            "-RECORD 3-------------------------------------------------------------------------------------------------------------------------------------------------------------------------------------------------------------------------------------------------------------------------------------------------------------------------------------------------------------------------------------------------------------------------------------------------------------------------------------------------------------------------------------------------------------------------------------------------------------------------------------------------------------------------------------------------------------------------------------------------------------------------------------------------------------------------------------------------------------------------------------------------------------------------------------------------------------------------------------------------------------------------------------------------------------------------------------------------------------------------------------------------------------------------------------------------------------------------------------------------------------------------------------------------------------------------------------------------------------------------------------------------------------------------------------------------------------------------------------------------------------------------------------------------------------------------------------------------------------------------------------------------------------------------------------------------------------------------------------------------------------------------------------------------------------------------------------------------------------------------------------------------------------------------------------------------------------------------------------------------------------------------------------------------------------------------------------------------------------------------------------------------------------------------------------------------------------------------------------------------------------------------------------------------------------------------------------------------------------------------------------------------------------------------------------------------------------------------------------------------------------------------------\n",
            " text | 2-D M-MODE: , ,1.  Left atrial enlargement with left atrial diameter of 4.7 cm.,2.  Normal size right and left ventricle.,3.  Normal LV systolic function with left ventricular ejection fraction of 51%.,4.  Normal LV diastolic function.,5.  No pericardial effusion.,6.  Normal morphology of aortic valve, mitral valve, tricuspid valve, and pulmonary valve.,7.  PA systolic pressure is 36 mmHg.,DOPPLER: , ,1.  Mild mitral and tricuspid regurgitation.,2.  Trace aortic and pulmonary regurgitation.                                                                                                                                                                                                                                                                                                                                                                                                                                                                                                                                                                                                                                                                                                                                                                                                                                                                                                                                                                                                                                                                                                                                                                                                                                                                                                                                                                                                                                                                                                                                                                                                                                                                                                                                                                                                                                                                                                                                                                                                                 \n",
            "-RECORD 4-------------------------------------------------------------------------------------------------------------------------------------------------------------------------------------------------------------------------------------------------------------------------------------------------------------------------------------------------------------------------------------------------------------------------------------------------------------------------------------------------------------------------------------------------------------------------------------------------------------------------------------------------------------------------------------------------------------------------------------------------------------------------------------------------------------------------------------------------------------------------------------------------------------------------------------------------------------------------------------------------------------------------------------------------------------------------------------------------------------------------------------------------------------------------------------------------------------------------------------------------------------------------------------------------------------------------------------------------------------------------------------------------------------------------------------------------------------------------------------------------------------------------------------------------------------------------------------------------------------------------------------------------------------------------------------------------------------------------------------------------------------------------------------------------------------------------------------------------------------------------------------------------------------------------------------------------------------------------------------------------------------------------------------------------------------------------------------------------------------------------------------------------------------------------------------------------------------------------------------------------------------------------------------------------------------------------------------------------------------------------------------------------------------------------------------------------------------------------------------------------------------------------------\n",
            " text | 1.  The left ventricular cavity size and wall thickness appear normal.  The wall motion and left ventricular systolic function appears hyperdynamic with estimated ejection fraction of 70% to 75%.  There is near-cavity obliteration seen.  There also appears to be increased left ventricular outflow tract gradient at the mid cavity level consistent with hyperdynamic left ventricular systolic function.  There is abnormal left ventricular relaxation pattern seen as well as elevated left atrial pressures seen by Doppler examination.,2.  The left atrium appears mildly dilated.,3.  The right atrium and right ventricle appear normal.,4.  The aortic root appears normal.,5.  The aortic valve appears calcified with mild aortic valve stenosis, calculated aortic valve area is 1.3 cm square with a maximum instantaneous gradient of 34 and a mean gradient of 19 mm.,6.  There is mitral annular calcification extending to leaflets and supportive structures with thickening of mitral valve leaflets with mild mitral regurgitation.,7.  The tricuspid valve appears normal with trace tricuspid regurgitation with moderate pulmonary artery hypertension.  Estimated pulmonary artery systolic pressure is 49 mmHg.  Estimated right atrial pressure of 10 mmHg.,8.  The pulmonary valve appears normal with trace pulmonary insufficiency.,9.  There is no pericardial effusion or intracardiac mass seen.,10.  There is a color Doppler suggestive of a patent foramen ovale with lipomatous hypertrophy of the interatrial septum.,11.  The study was somewhat technically limited and hence subtle abnormalities could be missed from the study.,                                                                                                                                                                                                                                                                                                                                                                                                                                                                                                                                                                                                                                                                                                                                                                                                                                              \n",
            "only showing top 5 rows\n",
            "\n"
          ],
          "name": "stdout"
        }
      ]
    },
    {
      "cell_type": "code",
      "metadata": {
        "id": "TZbYGuYiRKhk"
      },
      "source": [
        "pred = clinical_nlp_model.transform(just_transcript.limit(10))"
      ],
      "execution_count": 28,
      "outputs": []
    },
    {
      "cell_type": "markdown",
      "metadata": {
        "id": "23pH3IEUOnMK"
      },
      "source": [
        "ref: https://towardsdatascience.com/text-classification-with-nlp-tf-idf-vs-word2vec-vs-bert-41ff868d1794\n",
        "\n",
        "good article on **tf-idf vs word2vec vs BERT** is linked above.\n",
        "\n",
        "In simple terms word embeddings are a probability distribution of each word appearing before or after another\n",
        "\n",
        "**BERT** is the more advanced word vectorizer , where the position of the word in the sentence can give distinct vectors based on the context it appears. (Bank - institution vs Bank - river bank)\n",
        "\n",
        "\n",
        "\n",
        "\n",
        "\n",
        "\n"
      ]
    },
    {
      "cell_type": "code",
      "metadata": {
        "id": "7LmbNvNxRVTd",
        "colab": {
          "base_uri": "https://localhost:8080/"
        },
        "outputId": "4b142d33-4bc0-4d50-b564-5999641b36e1"
      },
      "source": [
        "pred.show(2)"
      ],
      "execution_count": 29,
      "outputs": [
        {
          "output_type": "stream",
          "text": [
            "+--------------------+--------------------+--------------------+--------------------+--------------------+--------------------+--------------------+\n",
            "|                text|            document|            sentence|               token|          embeddings|                 ner|           ner_chunk|\n",
            "+--------------------+--------------------+--------------------+--------------------+--------------------+--------------------+--------------------+\n",
            "|SUBJECTIVE:,  Thi...|[{document, 0, 13...|[{document, 0, 80...|[{token, 0, 9, SU...|[{word_embeddings...|[{named_entity, 0...|[{chunk, 71, 79, ...|\n",
            "|PAST MEDICAL HIST...|[{document, 0, 24...|[{document, 0, 15...|[{token, 0, 3, PA...|[{word_embeddings...|[{named_entity, 0...|[{chunk, 30, 55, ...|\n",
            "+--------------------+--------------------+--------------------+--------------------+--------------------+--------------------+--------------------+\n",
            "only showing top 2 rows\n",
            "\n"
          ],
          "name": "stdout"
        }
      ]
    },
    {
      "cell_type": "code",
      "metadata": {
        "colab": {
          "base_uri": "https://localhost:8080/"
        },
        "id": "EMw_Xcz5z8rR",
        "outputId": "38be4fc7-8cb0-4baa-e659-ff3f9f259de3"
      },
      "source": [
        "pred.select(pred.embeddings.embeddings).show(n=5, truncate=150)"
      ],
      "execution_count": 30,
      "outputs": [
        {
          "output_type": "stream",
          "text": [
            "+------------------------------------------------------------------------------------------------------------------------------------------------------+\n",
            "|                                                                                                                                 embeddings.embeddings|\n",
            "+------------------------------------------------------------------------------------------------------------------------------------------------------+\n",
            "|[[0.0318841, 0.40408194, 0.054440014, 0.18353498, 0.19070132, 0.042645026, 0.35064465, 0.05275557, -0.098517776, -0.0938988, -0.0989423, -0.0915298...|\n",
            "|[[0.019248715, 0.2662653, 0.04038137, 0.011361635, 0.08446897, 0.20159464, 0.31256086, -0.18080465, 0.07208785, -0.28536916, -0.23644105, -0.108261...|\n",
            "|[[0.16081704, 0.15730344, 0.009294088, -0.3611929, -0.059181247, 0.024061408, 0.2844021, -0.2583885, 0.073464945, 0.055593852, -0.18373312, -0.0849...|\n",
            "|[[-0.15749262, 0.112238824, 0.36661616, -0.14407827, -0.366398, -0.5085212, -0.23148938, 0.69210947, 0.29847854, 0.057456423, -0.071043134, 0.01618...|\n",
            "|[[0.06857029, 0.029931864, 0.07580924, -0.40443018, 0.011411246, -0.673665, -0.122386344, -0.44680125, -0.092544354, -0.0023115505, 0.07793607, 0.1...|\n",
            "+------------------------------------------------------------------------------------------------------------------------------------------------------+\n",
            "only showing top 5 rows\n",
            "\n"
          ],
          "name": "stdout"
        }
      ]
    },
    {
      "cell_type": "code",
      "metadata": {
        "id": "ofm6kpZ5ShzR",
        "colab": {
          "base_uri": "https://localhost:8080/"
        },
        "outputId": "f9681a11-1c7f-4c95-908a-88a6a1c7fd12"
      },
      "source": [
        "pred.select('token.result','ner.result').show(truncate=150)"
      ],
      "execution_count": 31,
      "outputs": [
        {
          "output_type": "stream",
          "text": [
            "+------------------------------------------------------------------------------------------------------------------------------------------------------+------------------------------------------------------------------------------------------------------------------------------------------------------+\n",
            "|                                                                                                                                                result|                                                                                                                                                result|\n",
            "+------------------------------------------------------------------------------------------------------------------------------------------------------+------------------------------------------------------------------------------------------------------------------------------------------------------+\n",
            "|[SUBJECTIVE, :,, This, 23-year-old, white, female, presents, with, complaint, of, allergies, ., She, used, to, have, allergies, when, she, lived, i...|[O, O, O, O, O, O, O, O, O, O, B-PROBLEM, O, O, O, O, O, B-PROBLEM, O, O, O, O, O, O, O, O, O, O, O, O, O, O, O, O, O, O, O, O, B-TREATMENT, O, O, ...|\n",
            "|[PAST, MEDICAL, HISTORY, :,, He, has, difficulty, climbing, stairs, ,, difficulty, with, airline, seats, ,, tying, shoes, ,, used, to, public, seat...|[O, O, O, O, O, O, B-PROBLEM, I-PROBLEM, I-PROBLEM, O, B-PROBLEM, I-PROBLEM, I-PROBLEM, I-PROBLEM, O, O, O, O, O, O, O, O, O, O, O, O, O, O, O, O, ...|\n",
            "|[\", HISTORY, OF, PRESENT, ILLNESS, :, ,, I, have, seen, ABC, today, ., He, is, a, very, pleasant, gentleman, who, is, 42, years, old, ,, 344, pound...|[O, O, O, O, O, O, O, O, O, O, O, O, O, O, O, O, O, O, O, O, O, O, O, O, O, O, O, O, O, O, O, O, O, O, B-TEST, I-TEST, O, O, O, O, O, O, B-PROBLEM,...|\n",
            "|[2-D, M-MODE, :, ,, ,, 1, ., Left, atrial, enlargement, with, left, atrial, diameter, of, 4.7, cm.,2, ., Normal, size, right, and, left, ventricle,...|[B-TEST, I-TEST, O, O, O, O, O, B-PROBLEM, I-PROBLEM, I-PROBLEM, O, B-TEST, I-TEST, I-TEST, O, O, O, O, O, O, O, O, O, O, O, O, O, O, O, O, O, O, O...|\n",
            "|[1, ., The, left, ventricular, cavity, size, and, wall, thickness, appear, normal, ., The, wall, motion, and, left, ventricular, systolic, function...|[O, O, O, O, O, O, O, O, B-TEST, I-TEST, O, O, O, O, O, O, O, B-TEST, I-TEST, I-TEST, I-TEST, O, B-PROBLEM, O, O, B-TEST, I-TEST, O, O, O, O, O, O,...|\n",
            "|[PREOPERATIVE, DIAGNOSIS, :, ,, Morbid, obesity, ., ,, POSTOPERATIVE, DIAGNOSIS, :, ,, Morbid, obesity, ., ,, PROCEDURE, :, ,, Laparoscopic, anteco...|[O, O, O, O, B-PROBLEM, I-PROBLEM, O, O, O, O, O, O, B-PROBLEM, I-PROBLEM, O, O, O, O, O, B-TREATMENT, I-TREATMENT, I-TREATMENT, I-TREATMENT, I-TRE...|\n",
            "|                                                                                                                                                    []|                                                                                                                                                    []|\n",
            "|                                                                                                                    [anterior, abdomen, and, flank, .]|                                                                                                                                       [O, O, O, O, O]|\n",
            "|[2-D, ECHOCARDIOGRAM,Multiple, views, of, the, heart, and, great, vessels, reveal, normal, intracardiac, and, great, vessel, relationships, ., Card...|[O, O, O, O, O, O, O, O, O, O, O, O, O, O, O, O, O, O, O, O, O, O, O, O, O, B-PROBLEM, I-PROBLEM, I-PROBLEM, O, B-PROBLEM, O, O, O, O, B-PROBLEM, I...|\n",
            "|[PREOPERATIVE, DIAGNOSIS, :, ,, Lipodystrophy, of, the, abdomen, and, thighs, ., ,, POSTOPERATIVE, DIAGNOSIS, :,, Lipodystrophy, of, the, abdomen, ...|[O, O, O, O, B-PROBLEM, I-PROBLEM, I-PROBLEM, I-PROBLEM, I-PROBLEM, I-PROBLEM, O, O, O, O, O, B-PROBLEM, I-PROBLEM, I-PROBLEM, I-PROBLEM, I-PROBLEM...|\n",
            "+------------------------------------------------------------------------------------------------------------------------------------------------------+------------------------------------------------------------------------------------------------------------------------------------------------------+\n",
            "\n"
          ],
          "name": "stdout"
        }
      ]
    },
    {
      "cell_type": "markdown",
      "metadata": {
        "id": "uFIKUr0RUw8I"
      },
      "source": [
        "### Let's annotate using a light pipeline. text randonmly taken from the MT Dataset"
      ]
    },
    {
      "cell_type": "code",
      "metadata": {
        "id": "-l0CbLu4U_jB"
      },
      "source": [
        "text = '''\n",
        "MGUS.  His bone marrow biopsy showed a normal cellular bone marrow; however, there were 10% plasma cells and we proceeded with the workup for a plasma cell dyscrasia.  All his tests came back as consistent with an MGUS.\", Hematology - Oncology, MGUS Followup ,\"CHIEF COMPLAINT: , MGUS.,HISTORY OF PRESENT ILLNESS:,  This is an extremely pleasant 86-year-old gentleman, who I follow for his MGUS.  I initially saw him for thrombocytopenia when his ANC was 1300.  A bone marrow biopsy was obtained.  Interestingly enough, at the time of his bone marrow biopsy, his hemoglobin was 13.0 and his white blood cell count was 6.5 with a platelet count of 484,000.  His bone marrow biopsy showed a normal cellular bone marrow; however, there were 10% plasma cells and we proceeded with the workup for a plasma cell dyscrasia.  All his tests came back as consistent with an MGUS.,Overall, he is doing well.  Since I last saw him, he tells me that he has had onset of atrial fibrillation.  He has now started going to the gym two times per week, and has lost over 10 pounds.  He has a good energy level and his ECOG performance status is 0.  He denies any fever, chills, or night sweats.  No lymphadenopathy.  No nausea or vomiting.  No change in bowel or bladder habits.,CURRENT MEDICATIONS: , Multivitamin q.d., aspirin one tablet q.d., Lupron q. three months, Flomax  0.4 mg q.d., and Warfarin 2.5 mg q.d.,ALLERGIES:  ,No known drug allergies.,REVIEW OF SYSTEMS: , As per the HPI, otherwise negative.,PAST MEDICAL HISTORY:,1.  He is status post left inguinal hernia repair.,2.  Prostate cancer diagnosed in December 2004, which was a Gleason 3+4.  He is now receiving Lupron.,SOCIAL HISTORY: , He has a very remote history of tobacco use.  He has one to two alcoholic drinks per day.  He is married.,FAMILY HISTORY: , His brother had prostate cancer.,PHYSICAL EXAM:,VIT:\",\n",
        "'''"
      ],
      "execution_count": 32,
      "outputs": []
    },
    {
      "cell_type": "code",
      "metadata": {
        "id": "lW78dk4GSnoq"
      },
      "source": [
        "clinical_nlp_model_light = LightPipeline(clinical_nlp_model)\n",
        "\n",
        "pred_light = clinical_nlp_model_light.fullAnnotate(text)"
      ],
      "execution_count": 33,
      "outputs": []
    },
    {
      "cell_type": "markdown",
      "metadata": {
        "id": "9MRpeMPvVidM"
      },
      "source": [
        "Using spark_nlp_display we will annotate the results of the text processing done by the clinicalk pipeline"
      ]
    },
    {
      "cell_type": "code",
      "metadata": {
        "id": "iM9rFQYmVOM5",
        "colab": {
          "base_uri": "https://localhost:8080/",
          "height": 917
        },
        "outputId": "88f5367c-6e02-4ecf-e953-f2538c6f2c73"
      },
      "source": [
        "from sparknlp_display import NerVisualizer\n",
        "\n",
        "vis = NerVisualizer()\n",
        "\n",
        "vis.display(pred_light[0], label_col='ner_chunk', document_col='document')"
      ],
      "execution_count": 34,
      "outputs": [
        {
          "output_type": "display_data",
          "data": {
            "text/html": [
              "\n",
              "<style>\n",
              "    @import url('https://fonts.googleapis.com/css2?family=Montserrat:wght@300;400;500;600;700&display=swap');\n",
              "    @import url('https://fonts.googleapis.com/css2?family=Vistol Regular:wght@300;400;500;600;700&display=swap');\n",
              "    \n",
              "    .spark-nlp-display-scroll-entities {\n",
              "        border: 1px solid #E7EDF0;\n",
              "        border-radius: 3px;\n",
              "        text-align: justify;\n",
              "        \n",
              "    }\n",
              "    .spark-nlp-display-scroll-entities span {  \n",
              "        font-size: 14px;\n",
              "        line-height: 24px;\n",
              "        color: #536B76;\n",
              "        font-family: 'Montserrat', sans-serif !important;\n",
              "    }\n",
              "    \n",
              "    .spark-nlp-display-entity-wrapper{\n",
              "    \n",
              "        display: inline-grid;\n",
              "        text-align: center;\n",
              "        border-radius: 4px;\n",
              "        margin: 0 2px 5px 2px;\n",
              "        padding: 1px\n",
              "    }\n",
              "    .spark-nlp-display-entity-name{\n",
              "        font-size: 14px;\n",
              "        line-height: 24px;\n",
              "        font-family: 'Montserrat', sans-serif !important;\n",
              "        \n",
              "        background: #f1f2f3;\n",
              "        border-width: medium;\n",
              "        text-align: center;\n",
              "        \n",
              "        font-weight: 400;\n",
              "        \n",
              "        border-radius: 5px;\n",
              "        padding: 2px 5px;\n",
              "        display: block;\n",
              "        margin: 3px 2px;\n",
              "    \n",
              "    }\n",
              "    .spark-nlp-display-entity-type{\n",
              "        font-size: 14px;\n",
              "        line-height: 24px;\n",
              "        color: #ffffff;\n",
              "        font-family: 'Montserrat', sans-serif !important;\n",
              "        \n",
              "        text-transform: uppercase;\n",
              "        \n",
              "        font-weight: 500;\n",
              "\n",
              "        display: block;\n",
              "        padding: 3px 5px;\n",
              "    }\n",
              "    \n",
              "    .spark-nlp-display-entity-resolution{\n",
              "        font-size: 14px;\n",
              "        line-height: 24px;\n",
              "        color: #ffffff;\n",
              "        font-family: 'Vistol Regular', sans-serif !important;\n",
              "        \n",
              "        text-transform: uppercase;\n",
              "        \n",
              "        font-weight: 500;\n",
              "\n",
              "        display: block;\n",
              "        padding: 3px 5px;\n",
              "    }\n",
              "    \n",
              "    .spark-nlp-display-others{\n",
              "        font-size: 14px;\n",
              "        line-height: 24px;\n",
              "        font-family: 'Montserrat', sans-serif !important;\n",
              "        \n",
              "        font-weight: 400;\n",
              "    }\n",
              "\n",
              "</style>\n",
              " <span class=\"spark-nlp-display-others\" style=\"background-color: white\"><br></span><span class=\"spark-nlp-display-entity-wrapper\" style=\"background-color: #800080\"><span class=\"spark-nlp-display-entity-name\">MGUS </span><span class=\"spark-nlp-display-entity-type\">PROBLEM</span></span><span class=\"spark-nlp-display-others\" style=\"background-color: white\">.  </span><span class=\"spark-nlp-display-entity-wrapper\" style=\"background-color: #77b5fe\"><span class=\"spark-nlp-display-entity-name\">His bone marrow biopsy </span><span class=\"spark-nlp-display-entity-type\">TEST</span></span><span class=\"spark-nlp-display-others\" style=\"background-color: white\"> showed a normal cellular bone marrow; however, there were </span><span class=\"spark-nlp-display-entity-wrapper\" style=\"background-color: #800080\"><span class=\"spark-nlp-display-entity-name\">10% plasma cells </span><span class=\"spark-nlp-display-entity-type\">PROBLEM</span></span><span class=\"spark-nlp-display-others\" style=\"background-color: white\"> and we proceeded with </span><span class=\"spark-nlp-display-entity-wrapper\" style=\"background-color: #77b5fe\"><span class=\"spark-nlp-display-entity-name\">the workup </span><span class=\"spark-nlp-display-entity-type\">TEST</span></span><span class=\"spark-nlp-display-others\" style=\"background-color: white\"> for </span><span class=\"spark-nlp-display-entity-wrapper\" style=\"background-color: #800080\"><span class=\"spark-nlp-display-entity-name\">a plasma cell dyscrasia </span><span class=\"spark-nlp-display-entity-type\">PROBLEM</span></span><span class=\"spark-nlp-display-others\" style=\"background-color: white\">.  All </span><span class=\"spark-nlp-display-entity-wrapper\" style=\"background-color: #77b5fe\"><span class=\"spark-nlp-display-entity-name\">his tests </span><span class=\"spark-nlp-display-entity-type\">TEST</span></span><span class=\"spark-nlp-display-others\" style=\"background-color: white\"> came back as consistent with an MGUS.\", Hematology - Oncology, MGUS Followup ,\"CHIEF COMPLAINT: , </span><span class=\"spark-nlp-display-entity-wrapper\" style=\"background-color: #800080\"><span class=\"spark-nlp-display-entity-name\">MGUS </span><span class=\"spark-nlp-display-entity-type\">PROBLEM</span></span><span class=\"spark-nlp-display-others\" style=\"background-color: white\">.,HISTORY OF PRESENT ILLNESS:,  This is an extremely pleasant 86-year-old gentleman, who I follow for </span><span class=\"spark-nlp-display-entity-wrapper\" style=\"background-color: #800080\"><span class=\"spark-nlp-display-entity-name\">his MGUS </span><span class=\"spark-nlp-display-entity-type\">PROBLEM</span></span><span class=\"spark-nlp-display-others\" style=\"background-color: white\">.  I initially saw him for </span><span class=\"spark-nlp-display-entity-wrapper\" style=\"background-color: #800080\"><span class=\"spark-nlp-display-entity-name\">thrombocytopenia </span><span class=\"spark-nlp-display-entity-type\">PROBLEM</span></span><span class=\"spark-nlp-display-others\" style=\"background-color: white\"> when </span><span class=\"spark-nlp-display-entity-wrapper\" style=\"background-color: #77b5fe\"><span class=\"spark-nlp-display-entity-name\">his ANC </span><span class=\"spark-nlp-display-entity-type\">TEST</span></span><span class=\"spark-nlp-display-others\" style=\"background-color: white\"> was 1300.  </span><span class=\"spark-nlp-display-entity-wrapper\" style=\"background-color: #77b5fe\"><span class=\"spark-nlp-display-entity-name\">A bone marrow biopsy </span><span class=\"spark-nlp-display-entity-type\">TEST</span></span><span class=\"spark-nlp-display-others\" style=\"background-color: white\"> was obtained.  Interestingly enough, at the time of </span><span class=\"spark-nlp-display-entity-wrapper\" style=\"background-color: #77b5fe\"><span class=\"spark-nlp-display-entity-name\">his bone marrow biopsy </span><span class=\"spark-nlp-display-entity-type\">TEST</span></span><span class=\"spark-nlp-display-others\" style=\"background-color: white\">, </span><span class=\"spark-nlp-display-entity-wrapper\" style=\"background-color: #77b5fe\"><span class=\"spark-nlp-display-entity-name\">his hemoglobin </span><span class=\"spark-nlp-display-entity-type\">TEST</span></span><span class=\"spark-nlp-display-others\" style=\"background-color: white\"> was 13.0 and </span><span class=\"spark-nlp-display-entity-wrapper\" style=\"background-color: #77b5fe\"><span class=\"spark-nlp-display-entity-name\">his white blood cell count </span><span class=\"spark-nlp-display-entity-type\">TEST</span></span><span class=\"spark-nlp-display-others\" style=\"background-color: white\"> was 6.5 with </span><span class=\"spark-nlp-display-entity-wrapper\" style=\"background-color: #77b5fe\"><span class=\"spark-nlp-display-entity-name\">a platelet count </span><span class=\"spark-nlp-display-entity-type\">TEST</span></span><span class=\"spark-nlp-display-others\" style=\"background-color: white\"> of 484,000.  </span><span class=\"spark-nlp-display-entity-wrapper\" style=\"background-color: #77b5fe\"><span class=\"spark-nlp-display-entity-name\">His bone marrow biopsy </span><span class=\"spark-nlp-display-entity-type\">TEST</span></span><span class=\"spark-nlp-display-others\" style=\"background-color: white\"> showed a normal cellular bone marrow; however, there were </span><span class=\"spark-nlp-display-entity-wrapper\" style=\"background-color: #800080\"><span class=\"spark-nlp-display-entity-name\">10% plasma cells </span><span class=\"spark-nlp-display-entity-type\">PROBLEM</span></span><span class=\"spark-nlp-display-others\" style=\"background-color: white\"> and we proceeded with </span><span class=\"spark-nlp-display-entity-wrapper\" style=\"background-color: #77b5fe\"><span class=\"spark-nlp-display-entity-name\">the workup </span><span class=\"spark-nlp-display-entity-type\">TEST</span></span><span class=\"spark-nlp-display-others\" style=\"background-color: white\"> for </span><span class=\"spark-nlp-display-entity-wrapper\" style=\"background-color: #800080\"><span class=\"spark-nlp-display-entity-name\">a plasma cell dyscrasia </span><span class=\"spark-nlp-display-entity-type\">PROBLEM</span></span><span class=\"spark-nlp-display-others\" style=\"background-color: white\">.  All </span><span class=\"spark-nlp-display-entity-wrapper\" style=\"background-color: #77b5fe\"><span class=\"spark-nlp-display-entity-name\">his tests </span><span class=\"spark-nlp-display-entity-type\">TEST</span></span><span class=\"spark-nlp-display-others\" style=\"background-color: white\"> came back as consistent with </span><span class=\"spark-nlp-display-entity-wrapper\" style=\"background-color: #800080\"><span class=\"spark-nlp-display-entity-name\">an MGUS </span><span class=\"spark-nlp-display-entity-type\">PROBLEM</span></span><span class=\"spark-nlp-display-others\" style=\"background-color: white\">.,Overall, he is doing well.  Since I last saw him, he tells me that he has had onset of </span><span class=\"spark-nlp-display-entity-wrapper\" style=\"background-color: #800080\"><span class=\"spark-nlp-display-entity-name\">atrial fibrillation </span><span class=\"spark-nlp-display-entity-type\">PROBLEM</span></span><span class=\"spark-nlp-display-others\" style=\"background-color: white\">.  He has now started going to the gym two times per week, and has lost over 10 pounds.  He has a good energy level and his ECOG performance status is 0.  He denies any </span><span class=\"spark-nlp-display-entity-wrapper\" style=\"background-color: #800080\"><span class=\"spark-nlp-display-entity-name\">fever </span><span class=\"spark-nlp-display-entity-type\">PROBLEM</span></span><span class=\"spark-nlp-display-others\" style=\"background-color: white\">, </span><span class=\"spark-nlp-display-entity-wrapper\" style=\"background-color: #800080\"><span class=\"spark-nlp-display-entity-name\">chills </span><span class=\"spark-nlp-display-entity-type\">PROBLEM</span></span><span class=\"spark-nlp-display-others\" style=\"background-color: white\">, or </span><span class=\"spark-nlp-display-entity-wrapper\" style=\"background-color: #800080\"><span class=\"spark-nlp-display-entity-name\">night sweats </span><span class=\"spark-nlp-display-entity-type\">PROBLEM</span></span><span class=\"spark-nlp-display-others\" style=\"background-color: white\">.  No </span><span class=\"spark-nlp-display-entity-wrapper\" style=\"background-color: #800080\"><span class=\"spark-nlp-display-entity-name\">lymphadenopathy </span><span class=\"spark-nlp-display-entity-type\">PROBLEM</span></span><span class=\"spark-nlp-display-others\" style=\"background-color: white\">.  No </span><span class=\"spark-nlp-display-entity-wrapper\" style=\"background-color: #800080\"><span class=\"spark-nlp-display-entity-name\">nausea </span><span class=\"spark-nlp-display-entity-type\">PROBLEM</span></span><span class=\"spark-nlp-display-others\" style=\"background-color: white\"> or </span><span class=\"spark-nlp-display-entity-wrapper\" style=\"background-color: #800080\"><span class=\"spark-nlp-display-entity-name\">vomiting </span><span class=\"spark-nlp-display-entity-type\">PROBLEM</span></span><span class=\"spark-nlp-display-others\" style=\"background-color: white\">.  No </span><span class=\"spark-nlp-display-entity-wrapper\" style=\"background-color: #800080\"><span class=\"spark-nlp-display-entity-name\">change in bowel or bladder habits </span><span class=\"spark-nlp-display-entity-type\">PROBLEM</span></span><span class=\"spark-nlp-display-others\" style=\"background-color: white\">.,CURRENT MEDICATIONS: , </span><span class=\"spark-nlp-display-entity-wrapper\" style=\"background-color: #8b6673\"><span class=\"spark-nlp-display-entity-name\">Multivitamin </span><span class=\"spark-nlp-display-entity-type\">TREATMENT</span></span><span class=\"spark-nlp-display-others\" style=\"background-color: white\"> q.d., </span><span class=\"spark-nlp-display-entity-wrapper\" style=\"background-color: #8b6673\"><span class=\"spark-nlp-display-entity-name\">aspirin </span><span class=\"spark-nlp-display-entity-type\">TREATMENT</span></span><span class=\"spark-nlp-display-others\" style=\"background-color: white\"> one tablet q.d., </span><span class=\"spark-nlp-display-entity-wrapper\" style=\"background-color: #8b6673\"><span class=\"spark-nlp-display-entity-name\">Lupron </span><span class=\"spark-nlp-display-entity-type\">TREATMENT</span></span><span class=\"spark-nlp-display-others\" style=\"background-color: white\"> q. three months, </span><span class=\"spark-nlp-display-entity-wrapper\" style=\"background-color: #8b6673\"><span class=\"spark-nlp-display-entity-name\">Flomax </span><span class=\"spark-nlp-display-entity-type\">TREATMENT</span></span><span class=\"spark-nlp-display-others\" style=\"background-color: white\">  0.4 mg q.d., and </span><span class=\"spark-nlp-display-entity-wrapper\" style=\"background-color: #8b6673\"><span class=\"spark-nlp-display-entity-name\">Warfarin </span><span class=\"spark-nlp-display-entity-type\">TREATMENT</span></span><span class=\"spark-nlp-display-others\" style=\"background-color: white\"> 2.5 mg q.d.,ALLERGIES:  ,No </span><span class=\"spark-nlp-display-entity-wrapper\" style=\"background-color: #800080\"><span class=\"spark-nlp-display-entity-name\">known drug allergies </span><span class=\"spark-nlp-display-entity-type\">PROBLEM</span></span><span class=\"spark-nlp-display-others\" style=\"background-color: white\">.,REVIEW OF SYSTEMS: , As per the HPI, otherwise negative.,PAST MEDICAL HISTORY:,1.  He is status post </span><span class=\"spark-nlp-display-entity-wrapper\" style=\"background-color: #8b6673\"><span class=\"spark-nlp-display-entity-name\">left inguinal hernia repair.,2 </span><span class=\"spark-nlp-display-entity-type\">TREATMENT</span></span><span class=\"spark-nlp-display-others\" style=\"background-color: white\">.  </span><span class=\"spark-nlp-display-entity-wrapper\" style=\"background-color: #800080\"><span class=\"spark-nlp-display-entity-name\">Prostate cancer </span><span class=\"spark-nlp-display-entity-type\">PROBLEM</span></span><span class=\"spark-nlp-display-others\" style=\"background-color: white\"> diagnosed in December 2004, which was a Gleason 3+4.  He is now receiving </span><span class=\"spark-nlp-display-entity-wrapper\" style=\"background-color: #8b6673\"><span class=\"spark-nlp-display-entity-name\">Lupron </span><span class=\"spark-nlp-display-entity-type\">TREATMENT</span></span><span class=\"spark-nlp-display-others\" style=\"background-color: white\">.,SOCIAL HISTORY: , He has a very remote history of tobacco use.  He has one to two alcoholic drinks per day.  He is married.,FAMILY HISTORY: , His brother had </span><span class=\"spark-nlp-display-entity-wrapper\" style=\"background-color: #800080\"><span class=\"spark-nlp-display-entity-name\">prostate cancer </span><span class=\"spark-nlp-display-entity-type\">PROBLEM</span></span><span class=\"spark-nlp-display-others\" style=\"background-color: white\">.,PHYSICAL EXAM:,VIT:\",<br></span></div>"
            ],
            "text/plain": [
              "<IPython.core.display.HTML object>"
            ]
          },
          "metadata": {
            "tags": []
          }
        }
      ]
    },
    {
      "cell_type": "markdown",
      "metadata": {
        "id": "3C2Dxr1daDsB"
      },
      "source": [
        "### Now repeating ther same for a posology pipeline "
      ]
    },
    {
      "cell_type": "code",
      "metadata": {
        "id": "nw8c58xaaDKb"
      },
      "source": [
        "posology_pipeline = Pipeline(stages=[\n",
        "                          assembler,\n",
        "                          sentenceDetector,\n",
        "                          tokenizer,\n",
        "                          word_embeddings,\n",
        "                          posology_ner,\n",
        "                          posology_ner_greedy,\n",
        "                          ner_converter,\n",
        "                          ner_converter_greedy])"
      ],
      "execution_count": 35,
      "outputs": []
    },
    {
      "cell_type": "code",
      "metadata": {
        "id": "siTTMclmacQx"
      },
      "source": [
        "posology_nlp_model = posology_pipeline.fit(nlp_df)"
      ],
      "execution_count": 36,
      "outputs": []
    },
    {
      "cell_type": "code",
      "metadata": {
        "id": "xExCSwFcapgz"
      },
      "source": [
        "posology_nlp_model_light = LightPipeline(posology_nlp_model)\n",
        "\n",
        "posology_pred_light = posology_nlp_model_light.fullAnnotate(text)"
      ],
      "execution_count": 37,
      "outputs": []
    },
    {
      "cell_type": "code",
      "metadata": {
        "id": "FOxaXAM3VxoR",
        "colab": {
          "base_uri": "https://localhost:8080/",
          "height": 490
        },
        "outputId": "386f2663-98e9-4330-d6ee-adc0b15b4ca3"
      },
      "source": [
        "vis = NerVisualizer()\n",
        "\n",
        "vis.display(posology_pred_light[0], label_col='ner_chunk', document_col='document')"
      ],
      "execution_count": 90,
      "outputs": [
        {
          "output_type": "display_data",
          "data": {
            "text/html": [
              "\n",
              "<style>\n",
              "    @import url('https://fonts.googleapis.com/css2?family=Montserrat:wght@300;400;500;600;700&display=swap');\n",
              "    @import url('https://fonts.googleapis.com/css2?family=Vistol Regular:wght@300;400;500;600;700&display=swap');\n",
              "    \n",
              "    .spark-nlp-display-scroll-entities {\n",
              "        border: 1px solid #E7EDF0;\n",
              "        border-radius: 3px;\n",
              "        text-align: justify;\n",
              "        \n",
              "    }\n",
              "    .spark-nlp-display-scroll-entities span {  \n",
              "        font-size: 14px;\n",
              "        line-height: 24px;\n",
              "        color: #536B76;\n",
              "        font-family: 'Montserrat', sans-serif !important;\n",
              "    }\n",
              "    \n",
              "    .spark-nlp-display-entity-wrapper{\n",
              "    \n",
              "        display: inline-grid;\n",
              "        text-align: center;\n",
              "        border-radius: 4px;\n",
              "        margin: 0 2px 5px 2px;\n",
              "        padding: 1px\n",
              "    }\n",
              "    .spark-nlp-display-entity-name{\n",
              "        font-size: 14px;\n",
              "        line-height: 24px;\n",
              "        font-family: 'Montserrat', sans-serif !important;\n",
              "        \n",
              "        background: #f1f2f3;\n",
              "        border-width: medium;\n",
              "        text-align: center;\n",
              "        \n",
              "        font-weight: 400;\n",
              "        \n",
              "        border-radius: 5px;\n",
              "        padding: 2px 5px;\n",
              "        display: block;\n",
              "        margin: 3px 2px;\n",
              "    \n",
              "    }\n",
              "    .spark-nlp-display-entity-type{\n",
              "        font-size: 14px;\n",
              "        line-height: 24px;\n",
              "        color: #ffffff;\n",
              "        font-family: 'Montserrat', sans-serif !important;\n",
              "        \n",
              "        text-transform: uppercase;\n",
              "        \n",
              "        font-weight: 500;\n",
              "\n",
              "        display: block;\n",
              "        padding: 3px 5px;\n",
              "    }\n",
              "    \n",
              "    .spark-nlp-display-entity-resolution{\n",
              "        font-size: 14px;\n",
              "        line-height: 24px;\n",
              "        color: #ffffff;\n",
              "        font-family: 'Vistol Regular', sans-serif !important;\n",
              "        \n",
              "        text-transform: uppercase;\n",
              "        \n",
              "        font-weight: 500;\n",
              "\n",
              "        display: block;\n",
              "        padding: 3px 5px;\n",
              "    }\n",
              "    \n",
              "    .spark-nlp-display-others{\n",
              "        font-size: 14px;\n",
              "        line-height: 24px;\n",
              "        font-family: 'Montserrat', sans-serif !important;\n",
              "        \n",
              "        font-weight: 400;\n",
              "    }\n",
              "\n",
              "</style>\n",
              " <span class=\"spark-nlp-display-others\" style=\"background-color: white\"><br>MGUS.  His bone marrow biopsy showed a normal cellular bone marrow; however, there were 10% plasma cells and we proceeded with the workup for a plasma cell dyscrasia.  All his tests came back as consistent with an MGUS.\", Hematology - Oncology, MGUS Followup ,\"CHIEF COMPLAINT: , MGUS.,HISTORY OF PRESENT ILLNESS:,  This is an extremely pleasant 86-year-old gentleman, who I follow for his MGUS.  I initially saw him for thrombocytopenia when his ANC was 1300.  A bone marrow biopsy was obtained.  Interestingly enough, at the time of his bone marrow biopsy, his hemoglobin was 13.0 and his white blood cell count was 6.5 with a platelet count of 484,000.  His bone marrow biopsy showed a normal cellular bone marrow; however, there were 10% plasma cells and we proceeded with the workup for a plasma cell dyscrasia.  All his tests came back as consistent with an MGUS.,Overall, he is doing well.  Since I last saw him, he tells me that he has had onset of atrial fibrillation.  He has now started going to the gym two times per week, and has lost over 10 pounds.  He has a good energy level and his ECOG performance status is 0.  He denies any fever, chills, or night sweats.  No lymphadenopathy.  No nausea or vomiting.  No change in bowel or bladder habits.,CURRENT MEDICATIONS: , </span><span class=\"spark-nlp-display-entity-wrapper\" style=\"background-color: #8B668B\"><span class=\"spark-nlp-display-entity-name\">Multivitamin </span><span class=\"spark-nlp-display-entity-type\">DRUG</span></span><span class=\"spark-nlp-display-others\" style=\"background-color: white\"> </span><span class=\"spark-nlp-display-entity-wrapper\" style=\"background-color: #BB4882\"><span class=\"spark-nlp-display-entity-name\">q.d </span><span class=\"spark-nlp-display-entity-type\">FREQUENCY</span></span><span class=\"spark-nlp-display-others\" style=\"background-color: white\">., </span><span class=\"spark-nlp-display-entity-wrapper\" style=\"background-color: #8B668B\"><span class=\"spark-nlp-display-entity-name\">aspirin </span><span class=\"spark-nlp-display-entity-type\">DRUG</span></span><span class=\"spark-nlp-display-others\" style=\"background-color: white\"> </span><span class=\"spark-nlp-display-entity-wrapper\" style=\"background-color: #055E51\"><span class=\"spark-nlp-display-entity-name\">one </span><span class=\"spark-nlp-display-entity-type\">DOSAGE</span></span><span class=\"spark-nlp-display-others\" style=\"background-color: white\"> </span><span class=\"spark-nlp-display-entity-wrapper\" style=\"background-color: #910323\"><span class=\"spark-nlp-display-entity-name\">tablet </span><span class=\"spark-nlp-display-entity-type\">FORM</span></span><span class=\"spark-nlp-display-others\" style=\"background-color: white\"> </span><span class=\"spark-nlp-display-entity-wrapper\" style=\"background-color: #BB4882\"><span class=\"spark-nlp-display-entity-name\">q.d </span><span class=\"spark-nlp-display-entity-type\">FREQUENCY</span></span><span class=\"spark-nlp-display-others\" style=\"background-color: white\">., </span><span class=\"spark-nlp-display-entity-wrapper\" style=\"background-color: #8B668B\"><span class=\"spark-nlp-display-entity-name\">Lupron </span><span class=\"spark-nlp-display-entity-type\">DRUG</span></span><span class=\"spark-nlp-display-others\" style=\"background-color: white\"> </span><span class=\"spark-nlp-display-entity-wrapper\" style=\"background-color: #BB4882\"><span class=\"spark-nlp-display-entity-name\">q </span><span class=\"spark-nlp-display-entity-type\">FREQUENCY</span></span><span class=\"spark-nlp-display-others\" style=\"background-color: white\">. three months, </span><span class=\"spark-nlp-display-entity-wrapper\" style=\"background-color: #8B668B\"><span class=\"spark-nlp-display-entity-name\">Flomax </span><span class=\"spark-nlp-display-entity-type\">DRUG</span></span><span class=\"spark-nlp-display-others\" style=\"background-color: white\">  </span><span class=\"spark-nlp-display-entity-wrapper\" style=\"background-color: #231608\"><span class=\"spark-nlp-display-entity-name\">0.4 mg </span><span class=\"spark-nlp-display-entity-type\">STRENGTH</span></span><span class=\"spark-nlp-display-others\" style=\"background-color: white\"> </span><span class=\"spark-nlp-display-entity-wrapper\" style=\"background-color: #BB4882\"><span class=\"spark-nlp-display-entity-name\">q.d </span><span class=\"spark-nlp-display-entity-type\">FREQUENCY</span></span><span class=\"spark-nlp-display-others\" style=\"background-color: white\">., and </span><span class=\"spark-nlp-display-entity-wrapper\" style=\"background-color: #8B668B\"><span class=\"spark-nlp-display-entity-name\">Warfarin </span><span class=\"spark-nlp-display-entity-type\">DRUG</span></span><span class=\"spark-nlp-display-others\" style=\"background-color: white\"> </span><span class=\"spark-nlp-display-entity-wrapper\" style=\"background-color: #231608\"><span class=\"spark-nlp-display-entity-name\">2.5 mg </span><span class=\"spark-nlp-display-entity-type\">STRENGTH</span></span><span class=\"spark-nlp-display-others\" style=\"background-color: white\"> </span><span class=\"spark-nlp-display-entity-wrapper\" style=\"background-color: #BB4882\"><span class=\"spark-nlp-display-entity-name\">q.d.,ALLERGIES </span><span class=\"spark-nlp-display-entity-type\">FREQUENCY</span></span><span class=\"spark-nlp-display-others\" style=\"background-color: white\">:  ,No known drug allergies.,REVIEW OF SYSTEMS: , As per the HPI, otherwise negative.,PAST MEDICAL HISTORY:,1.  He is status post left inguinal hernia repair.,2.  Prostate cancer diagnosed in December 2004, which was a Gleason 3+4.  He is now receiving </span><span class=\"spark-nlp-display-entity-wrapper\" style=\"background-color: #8B668B\"><span class=\"spark-nlp-display-entity-name\">Lupron </span><span class=\"spark-nlp-display-entity-type\">DRUG</span></span><span class=\"spark-nlp-display-others\" style=\"background-color: white\">.,SOCIAL HISTORY: , He has a very remote history of tobacco use.  He has one to two alcoholic drinks per day.  He is married.,FAMILY HISTORY: , His brother had prostate cancer.,PHYSICAL EXAM:,VIT:\",<br></span></div>"
            ],
            "text/plain": [
              "<IPython.core.display.HTML object>"
            ]
          },
          "metadata": {
            "tags": []
          }
        }
      ]
    },
    {
      "cell_type": "code",
      "metadata": {
        "id": "H5YJddBPcGE3",
        "colab": {
          "base_uri": "https://localhost:8080/",
          "height": 470
        },
        "outputId": "a6b3c937-d6a1-499b-a7da-c4e336dafc44"
      },
      "source": [
        "vis.display(posology_pred_light[0], label_col='ner_chunk_greedy', document_col='document')"
      ],
      "execution_count": 39,
      "outputs": [
        {
          "output_type": "display_data",
          "data": {
            "text/html": [
              "\n",
              "<style>\n",
              "    @import url('https://fonts.googleapis.com/css2?family=Montserrat:wght@300;400;500;600;700&display=swap');\n",
              "    @import url('https://fonts.googleapis.com/css2?family=Vistol Regular:wght@300;400;500;600;700&display=swap');\n",
              "    \n",
              "    .spark-nlp-display-scroll-entities {\n",
              "        border: 1px solid #E7EDF0;\n",
              "        border-radius: 3px;\n",
              "        text-align: justify;\n",
              "        \n",
              "    }\n",
              "    .spark-nlp-display-scroll-entities span {  \n",
              "        font-size: 14px;\n",
              "        line-height: 24px;\n",
              "        color: #536B76;\n",
              "        font-family: 'Montserrat', sans-serif !important;\n",
              "    }\n",
              "    \n",
              "    .spark-nlp-display-entity-wrapper{\n",
              "    \n",
              "        display: inline-grid;\n",
              "        text-align: center;\n",
              "        border-radius: 4px;\n",
              "        margin: 0 2px 5px 2px;\n",
              "        padding: 1px\n",
              "    }\n",
              "    .spark-nlp-display-entity-name{\n",
              "        font-size: 14px;\n",
              "        line-height: 24px;\n",
              "        font-family: 'Montserrat', sans-serif !important;\n",
              "        \n",
              "        background: #f1f2f3;\n",
              "        border-width: medium;\n",
              "        text-align: center;\n",
              "        \n",
              "        font-weight: 400;\n",
              "        \n",
              "        border-radius: 5px;\n",
              "        padding: 2px 5px;\n",
              "        display: block;\n",
              "        margin: 3px 2px;\n",
              "    \n",
              "    }\n",
              "    .spark-nlp-display-entity-type{\n",
              "        font-size: 14px;\n",
              "        line-height: 24px;\n",
              "        color: #ffffff;\n",
              "        font-family: 'Montserrat', sans-serif !important;\n",
              "        \n",
              "        text-transform: uppercase;\n",
              "        \n",
              "        font-weight: 500;\n",
              "\n",
              "        display: block;\n",
              "        padding: 3px 5px;\n",
              "    }\n",
              "    \n",
              "    .spark-nlp-display-entity-resolution{\n",
              "        font-size: 14px;\n",
              "        line-height: 24px;\n",
              "        color: #ffffff;\n",
              "        font-family: 'Vistol Regular', sans-serif !important;\n",
              "        \n",
              "        text-transform: uppercase;\n",
              "        \n",
              "        font-weight: 500;\n",
              "\n",
              "        display: block;\n",
              "        padding: 3px 5px;\n",
              "    }\n",
              "    \n",
              "    .spark-nlp-display-others{\n",
              "        font-size: 14px;\n",
              "        line-height: 24px;\n",
              "        font-family: 'Montserrat', sans-serif !important;\n",
              "        \n",
              "        font-weight: 400;\n",
              "    }\n",
              "\n",
              "</style>\n",
              " <span class=\"spark-nlp-display-others\" style=\"background-color: white\"><br>MGUS.  His bone marrow biopsy showed a normal cellular bone marrow; however, there were 10% plasma cells and we proceeded with the workup for a plasma cell dyscrasia.  All his tests came back as consistent with an MGUS.\", Hematology - Oncology, MGUS Followup ,\"CHIEF COMPLAINT: , MGUS.,HISTORY OF PRESENT ILLNESS:,  This is an extremely pleasant 86-year-old gentleman, who I follow for his MGUS.  I initially saw him for thrombocytopenia when his ANC was 1300.  A bone marrow biopsy was obtained.  Interestingly enough, at the time of his bone marrow biopsy, his hemoglobin was 13.0 and his white blood cell count was 6.5 with a platelet count of 484,000.  His bone marrow biopsy showed a normal cellular bone marrow; however, there were 10% plasma cells and we proceeded with the workup for a plasma cell dyscrasia.  All his tests came back as consistent with an MGUS.,Overall, he is doing well.  Since I last saw him, he tells me that he has had onset of atrial fibrillation.  He has now started going to the gym two times per week, and has lost over 10 pounds.  He has a good energy level and his ECOG performance status is 0.  He denies any fever, chills, or night sweats.  No lymphadenopathy.  No nausea or vomiting.  No change in bowel or bladder habits.,CURRENT MEDICATIONS: , </span><span class=\"spark-nlp-display-entity-wrapper\" style=\"background-color: #8B668B\"><span class=\"spark-nlp-display-entity-name\">Multivitamin </span><span class=\"spark-nlp-display-entity-type\">DRUG</span></span><span class=\"spark-nlp-display-others\" style=\"background-color: white\"> </span><span class=\"spark-nlp-display-entity-wrapper\" style=\"background-color: #C0A9AE\"><span class=\"spark-nlp-display-entity-name\">q.d </span><span class=\"spark-nlp-display-entity-type\">FREQUENCY</span></span><span class=\"spark-nlp-display-others\" style=\"background-color: white\">., </span><span class=\"spark-nlp-display-entity-wrapper\" style=\"background-color: #8B668B\"><span class=\"spark-nlp-display-entity-name\">aspirin one tablet </span><span class=\"spark-nlp-display-entity-type\">DRUG</span></span><span class=\"spark-nlp-display-others\" style=\"background-color: white\"> </span><span class=\"spark-nlp-display-entity-wrapper\" style=\"background-color: #C0A9AE\"><span class=\"spark-nlp-display-entity-name\">q.d </span><span class=\"spark-nlp-display-entity-type\">FREQUENCY</span></span><span class=\"spark-nlp-display-others\" style=\"background-color: white\">., Lupron q. three months, </span><span class=\"spark-nlp-display-entity-wrapper\" style=\"background-color: #8B668B\"><span class=\"spark-nlp-display-entity-name\">Flomax  0.4 mg </span><span class=\"spark-nlp-display-entity-type\">DRUG</span></span><span class=\"spark-nlp-display-others\" style=\"background-color: white\"> </span><span class=\"spark-nlp-display-entity-wrapper\" style=\"background-color: #C0A9AE\"><span class=\"spark-nlp-display-entity-name\">q.d </span><span class=\"spark-nlp-display-entity-type\">FREQUENCY</span></span><span class=\"spark-nlp-display-others\" style=\"background-color: white\">., and </span><span class=\"spark-nlp-display-entity-wrapper\" style=\"background-color: #8B668B\"><span class=\"spark-nlp-display-entity-name\">Warfarin 2.5 mg </span><span class=\"spark-nlp-display-entity-type\">DRUG</span></span><span class=\"spark-nlp-display-others\" style=\"background-color: white\"> </span><span class=\"spark-nlp-display-entity-wrapper\" style=\"background-color: #C0A9AE\"><span class=\"spark-nlp-display-entity-name\">q.d.,ALLERGIES </span><span class=\"spark-nlp-display-entity-type\">FREQUENCY</span></span><span class=\"spark-nlp-display-others\" style=\"background-color: white\">:  ,No known drug allergies.,REVIEW OF SYSTEMS: , As per the HPI, otherwise negative.,PAST MEDICAL HISTORY:,1.  He is status post left inguinal hernia repair.,2.  Prostate cancer diagnosed in December 2004, which was a Gleason 3+4.  He is now receiving </span><span class=\"spark-nlp-display-entity-wrapper\" style=\"background-color: #8B668B\"><span class=\"spark-nlp-display-entity-name\">Lupron </span><span class=\"spark-nlp-display-entity-type\">DRUG</span></span><span class=\"spark-nlp-display-others\" style=\"background-color: white\">.,SOCIAL HISTORY: , He has a very remote history of tobacco use.  He has one to two alcoholic drinks per day.  He is married.,FAMILY HISTORY: , His brother had prostate cancer.,PHYSICAL EXAM:,VIT:\",<br></span></div>"
            ],
            "text/plain": [
              "<IPython.core.display.HTML object>"
            ]
          },
          "metadata": {
            "tags": []
          }
        }
      ]
    },
    {
      "cell_type": "markdown",
      "metadata": {
        "id": "s44qGePwdxhh"
      },
      "source": [
        "### Classifier task on Adverse Drug Interactions using Spark-NLP, Neural Network Deel learning using Tensorflow"
      ]
    },
    {
      "cell_type": "markdown",
      "metadata": {
        "id": "Knr7cZJbrsWA"
      },
      "source": [
        "\n",
        "This new one has more than 25k\n",
        "\n",
        "!pip install datasets\n",
        "\n",
        "from datasets import load_dataset\n",
        "\n",
        "dataset = load_dataset(\n",
        "\n",
        "   'ade_corpus_v2', 'Ade_corpus_v2_classification')\n",
        "   "
      ]
    },
    {
      "cell_type": "code",
      "metadata": {
        "id": "lIVDqx_jrrOU",
        "colab": {
          "base_uri": "https://localhost:8080/",
          "height": 926,
          "referenced_widgets": [
            "7360e69e2a3e4045b05ba6c9bcbd426d",
            "ef0414280a6f4a81ae85bb7d139dc716",
            "4dd9ed1ae817490f92438f916e6dadfe",
            "6911bd8923f14a28b2d09024a8e508bf",
            "1677e36641cb43999be455a3938697b5",
            "2c148e88f82b4ed5ba58c09067174700",
            "66c03f0b047346688eebabc51d2ccbcf",
            "fe6a09664d2547d8a9c25deeeb1caea6",
            "607b69c5fdb54181a0290dcb82cdcf0f",
            "806d253fe36248949f213b143a446ab7",
            "0e97acdfc78e46a6b10b0a5f7ae5881b",
            "9c0a7a2d9ac54e8495bb6fc63c8dda38",
            "6d92e49974bc4b65b05ef9b79c47b92f",
            "7f81c14ef66043f7862669d1ce1d35a1",
            "ee019dc3cef14efebe17655a2f01457e",
            "432d33ab6b3f449c8d51723adae789e9",
            "de9d3e8bfb5343eea8b82d571e3f67f4",
            "e1a349a26f574026bfee13821772c377",
            "5a48568f27d04831ae090be95d7376f4",
            "e18b2d85be7c42568d1ab2d888a4ff4d",
            "d2a14b0b852141abb9951c84e07e3a37",
            "8a6757b704e14b1597a180a60454cb3d",
            "4fe62bba8ca141058f8c21728f754945",
            "22330f8c73c445cf9f61e5a509be0ec2",
            "639cb2b4e7ed4e9aab9aca845daaf1f5",
            "0b6aeef4add64dc89c065479a5279507",
            "3b2cafbf1377427a8d720349128bb6e3",
            "a5685693e70e44f28301619a186a4167",
            "27e59423ad8341cfbc2077e8daaa38ed",
            "3bb058aa602440fdbc5ee15999d11e73",
            "9a34e06532f84589a154d7dc19178509",
            "e3ba985e13804425bdbd33246cc537e0",
            "bdd580ab24c64263b323f005ab7419a7",
            "83f8850c1c634e0eb979f02c1655d4b7",
            "2052f3483a544f34a9c86c5beee0c4a3",
            "ac8106c60bea420a84bc71a96093a15c",
            "7c91e8fb768547118a38f1d922f1d6e1",
            "4c5e4e0be8084da69f481ee020798727",
            "f3f3a4d586a34ed2a229aa62b4e182c5",
            "17e48b5b8b9a4721b193fcd5f625465f",
            "a6e1a90d0dd346ecbc5fb3015f27b98c",
            "a8b1dae3a4cc46418e5a8b36bba72ad3",
            "ab71aff3cfd342d49dd10111362b1004",
            "b6d4b6946b724c8d9e3be210b414f534",
            "5d515ec71f5f4c9dbff2bd9a5eb191b3",
            "3e719072167c4f5b84f918fb946ac952",
            "97e7ff8560324e4ab5b9019107c178ec",
            "cc79bcf4f6094a12af5357261462645a"
          ]
        },
        "outputId": "d933615c-9332-44d4-83bc-48c6aa37e703"
      },
      "source": [
        "!pip install datasets\n",
        "\n",
        "from datasets import load_dataset\n",
        "\n",
        "dataset = load_dataset(\n",
        "\n",
        "'ade_corpus_v2', 'Ade_corpus_v2_classification')"
      ],
      "execution_count": 40,
      "outputs": [
        {
          "output_type": "stream",
          "text": [
            "Collecting datasets\n",
            "\u001b[?25l  Downloading https://files.pythonhosted.org/packages/46/1a/b9f9b3bfef624686ae81c070f0a6bb635047b17cdb3698c7ad01281e6f9a/datasets-1.6.2-py3-none-any.whl (221kB)\n",
            "\r\u001b[K     |█▌                              | 10kB 13.7MB/s eta 0:00:01\r\u001b[K     |███                             | 20kB 14.9MB/s eta 0:00:01\r\u001b[K     |████▍                           | 30kB 10.0MB/s eta 0:00:01\r\u001b[K     |██████                          | 40kB 8.7MB/s eta 0:00:01\r\u001b[K     |███████▍                        | 51kB 5.5MB/s eta 0:00:01\r\u001b[K     |████████▉                       | 61kB 6.0MB/s eta 0:00:01\r\u001b[K     |██████████▍                     | 71kB 6.2MB/s eta 0:00:01\r\u001b[K     |███████████▉                    | 81kB 6.7MB/s eta 0:00:01\r\u001b[K     |█████████████▎                  | 92kB 6.2MB/s eta 0:00:01\r\u001b[K     |██████████████▊                 | 102kB 5.3MB/s eta 0:00:01\r\u001b[K     |████████████████▎               | 112kB 5.3MB/s eta 0:00:01\r\u001b[K     |█████████████████▊              | 122kB 5.3MB/s eta 0:00:01\r\u001b[K     |███████████████████▏            | 133kB 5.3MB/s eta 0:00:01\r\u001b[K     |████████████████████▊           | 143kB 5.3MB/s eta 0:00:01\r\u001b[K     |██████████████████████▏         | 153kB 5.3MB/s eta 0:00:01\r\u001b[K     |███████████████████████▋        | 163kB 5.3MB/s eta 0:00:01\r\u001b[K     |█████████████████████████▏      | 174kB 5.3MB/s eta 0:00:01\r\u001b[K     |██████████████████████████▋     | 184kB 5.3MB/s eta 0:00:01\r\u001b[K     |████████████████████████████    | 194kB 5.3MB/s eta 0:00:01\r\u001b[K     |█████████████████████████████▌  | 204kB 5.3MB/s eta 0:00:01\r\u001b[K     |███████████████████████████████ | 215kB 5.3MB/s eta 0:00:01\r\u001b[K     |████████████████████████████████| 225kB 5.3MB/s \n",
            "\u001b[?25hRequirement already satisfied: dill in /usr/local/lib/python3.7/dist-packages (from datasets) (0.3.3)\n",
            "Requirement already satisfied: importlib-metadata; python_version < \"3.8\" in /usr/local/lib/python3.7/dist-packages (from datasets) (3.10.1)\n",
            "Requirement already satisfied: packaging in /usr/local/lib/python3.7/dist-packages (from datasets) (20.9)\n",
            "Requirement already satisfied: pandas in /usr/local/lib/python3.7/dist-packages (from datasets) (1.1.5)\n",
            "Collecting xxhash\n",
            "\u001b[?25l  Downloading https://files.pythonhosted.org/packages/7d/4f/0a862cad26aa2ed7a7cd87178cbbfa824fc1383e472d63596a0d018374e7/xxhash-2.0.2-cp37-cp37m-manylinux2010_x86_64.whl (243kB)\n",
            "\u001b[K     |████████████████████████████████| 245kB 17.2MB/s \n",
            "\u001b[?25hRequirement already satisfied: multiprocess in /usr/local/lib/python3.7/dist-packages (from datasets) (0.70.11.1)\n",
            "Collecting fsspec\n",
            "\u001b[?25l  Downloading https://files.pythonhosted.org/packages/e9/91/2ef649137816850fa4f4c97c6f2eabb1a79bf0aa2c8ed198e387e373455e/fsspec-2021.4.0-py3-none-any.whl (108kB)\n",
            "\u001b[K     |████████████████████████████████| 112kB 21.6MB/s \n",
            "\u001b[?25hCollecting huggingface-hub<0.1.0\n",
            "  Downloading https://files.pythonhosted.org/packages/a1/88/7b1e45720ecf59c6c6737ff332f41c955963090a18e72acbcbeac6b25e86/huggingface_hub-0.0.8-py3-none-any.whl\n",
            "Requirement already satisfied: tqdm<4.50.0,>=4.27 in /usr/local/lib/python3.7/dist-packages (from datasets) (4.41.1)\n",
            "Requirement already satisfied: pyarrow>=1.0.0<4.0.0 in /usr/local/lib/python3.7/dist-packages (from datasets) (3.0.0)\n",
            "Requirement already satisfied: numpy>=1.17 in /usr/local/lib/python3.7/dist-packages (from datasets) (1.19.5)\n",
            "Requirement already satisfied: requests>=2.19.0 in /usr/local/lib/python3.7/dist-packages (from datasets) (2.23.0)\n",
            "Requirement already satisfied: zipp>=0.5 in /usr/local/lib/python3.7/dist-packages (from importlib-metadata; python_version < \"3.8\"->datasets) (3.4.1)\n",
            "Requirement already satisfied: typing-extensions>=3.6.4; python_version < \"3.8\" in /usr/local/lib/python3.7/dist-packages (from importlib-metadata; python_version < \"3.8\"->datasets) (3.7.4.3)\n",
            "Requirement already satisfied: pyparsing>=2.0.2 in /usr/local/lib/python3.7/dist-packages (from packaging->datasets) (2.4.7)\n",
            "Requirement already satisfied: python-dateutil>=2.7.3 in /usr/local/lib/python3.7/dist-packages (from pandas->datasets) (2.8.1)\n",
            "Requirement already satisfied: pytz>=2017.2 in /usr/local/lib/python3.7/dist-packages (from pandas->datasets) (2018.9)\n",
            "Requirement already satisfied: filelock in /usr/local/lib/python3.7/dist-packages (from huggingface-hub<0.1.0->datasets) (3.0.12)\n",
            "Requirement already satisfied: certifi>=2017.4.17 in /usr/local/lib/python3.7/dist-packages (from requests>=2.19.0->datasets) (2020.12.5)\n",
            "Requirement already satisfied: idna<3,>=2.5 in /usr/local/lib/python3.7/dist-packages (from requests>=2.19.0->datasets) (2.10)\n",
            "Requirement already satisfied: chardet<4,>=3.0.2 in /usr/local/lib/python3.7/dist-packages (from requests>=2.19.0->datasets) (3.0.4)\n",
            "Requirement already satisfied: urllib3!=1.25.0,!=1.25.1,<1.26,>=1.21.1 in /usr/local/lib/python3.7/dist-packages (from requests>=2.19.0->datasets) (1.24.3)\n",
            "Requirement already satisfied: six>=1.5 in /usr/local/lib/python3.7/dist-packages (from python-dateutil>=2.7.3->pandas->datasets) (1.15.0)\n",
            "Installing collected packages: xxhash, fsspec, huggingface-hub, datasets\n",
            "Successfully installed datasets-1.6.2 fsspec-2021.4.0 huggingface-hub-0.0.8 xxhash-2.0.2\n"
          ],
          "name": "stdout"
        },
        {
          "output_type": "display_data",
          "data": {
            "application/vnd.jupyter.widget-view+json": {
              "model_id": "7360e69e2a3e4045b05ba6c9bcbd426d",
              "version_minor": 0,
              "version_major": 2
            },
            "text/plain": [
              "HBox(children=(FloatProgress(value=0.0, description='Downloading', max=3020.0, style=ProgressStyle(description…"
            ]
          },
          "metadata": {
            "tags": []
          }
        },
        {
          "output_type": "stream",
          "text": [
            "\n"
          ],
          "name": "stdout"
        },
        {
          "output_type": "display_data",
          "data": {
            "application/vnd.jupyter.widget-view+json": {
              "model_id": "607b69c5fdb54181a0290dcb82cdcf0f",
              "version_minor": 0,
              "version_major": 2
            },
            "text/plain": [
              "HBox(children=(FloatProgress(value=0.0, description='Downloading', max=1917.0, style=ProgressStyle(description…"
            ]
          },
          "metadata": {
            "tags": []
          }
        },
        {
          "output_type": "stream",
          "text": [
            "\n",
            "Downloading and preparing dataset ade_corpus_v2/Ade_corpus_v2_classification (download: 3.62 MiB, generated: 3.25 MiB, post-processed: Unknown size, total: 6.86 MiB) to /root/.cache/huggingface/datasets/ade_corpus_v2/Ade_corpus_v2_classification/1.0.0/940d61334dbfac6b01ac5d00286a2122608b8dc79706ee7e9206a1edb172c559...\n"
          ],
          "name": "stdout"
        },
        {
          "output_type": "display_data",
          "data": {
            "application/vnd.jupyter.widget-view+json": {
              "model_id": "de9d3e8bfb5343eea8b82d571e3f67f4",
              "version_minor": 0,
              "version_major": 2
            },
            "text/plain": [
              "HBox(children=(FloatProgress(value=0.0, description='Downloading', max=306554.0, style=ProgressStyle(descripti…"
            ]
          },
          "metadata": {
            "tags": []
          }
        },
        {
          "output_type": "stream",
          "text": [
            "\n"
          ],
          "name": "stdout"
        },
        {
          "output_type": "display_data",
          "data": {
            "application/vnd.jupyter.widget-view+json": {
              "model_id": "639cb2b4e7ed4e9aab9aca845daaf1f5",
              "version_minor": 0,
              "version_major": 2
            },
            "text/plain": [
              "HBox(children=(FloatProgress(value=0.0, description='Downloading', max=18007.0, style=ProgressStyle(descriptio…"
            ]
          },
          "metadata": {
            "tags": []
          }
        },
        {
          "output_type": "stream",
          "text": [
            "\n"
          ],
          "name": "stdout"
        },
        {
          "output_type": "display_data",
          "data": {
            "application/vnd.jupyter.widget-view+json": {
              "model_id": "bdd580ab24c64263b323f005ab7419a7",
              "version_minor": 0,
              "version_major": 2
            },
            "text/plain": [
              "HBox(children=(FloatProgress(value=0.0, description='Downloading', max=867712.0, style=ProgressStyle(descripti…"
            ]
          },
          "metadata": {
            "tags": []
          }
        },
        {
          "output_type": "stream",
          "text": [
            "\n"
          ],
          "name": "stdout"
        },
        {
          "output_type": "display_data",
          "data": {
            "application/vnd.jupyter.widget-view+json": {
              "model_id": "a6e1a90d0dd346ecbc5fb3015f27b98c",
              "version_minor": 0,
              "version_major": 2
            },
            "text/plain": [
              "HBox(children=(FloatProgress(value=1.0, bar_style='info', max=1.0), HTML(value='')))"
            ]
          },
          "metadata": {
            "tags": []
          }
        },
        {
          "output_type": "stream",
          "text": [
            "\rDataset ade_corpus_v2 downloaded and prepared to /root/.cache/huggingface/datasets/ade_corpus_v2/Ade_corpus_v2_classification/1.0.0/940d61334dbfac6b01ac5d00286a2122608b8dc79706ee7e9206a1edb172c559. Subsequent calls will reuse this data.\n"
          ],
          "name": "stdout"
        }
      ]
    },
    {
      "cell_type": "code",
      "metadata": {
        "id": "e7QYrPtwGFg8",
        "colab": {
          "base_uri": "https://localhost:8080/"
        },
        "outputId": "7c30e455-de84-4cba-e92d-788ecd5e6b75"
      },
      "source": [
        "cd /root/.cache/huggingface/datasets/ade_corpus_v2/Ade_corpus_v2_classification/1.0.0/"
      ],
      "execution_count": 41,
      "outputs": [
        {
          "output_type": "stream",
          "text": [
            "/root/.cache/huggingface/datasets/ade_corpus_v2/Ade_corpus_v2_classification/1.0.0\n"
          ],
          "name": "stdout"
        }
      ]
    },
    {
      "cell_type": "code",
      "metadata": {
        "id": "xDmIDfwoGLDK",
        "colab": {
          "base_uri": "https://localhost:8080/"
        },
        "outputId": "a5e49d9b-7583-433f-fe16-2b9728cbde09"
      },
      "source": [
        "cd 940d61334dbfac6b01ac5d00286a2122608b8dc79706ee7e9206a1edb172c559"
      ],
      "execution_count": 42,
      "outputs": [
        {
          "output_type": "stream",
          "text": [
            "/root/.cache/huggingface/datasets/ade_corpus_v2/Ade_corpus_v2_classification/1.0.0/940d61334dbfac6b01ac5d00286a2122608b8dc79706ee7e9206a1edb172c559\n"
          ],
          "name": "stdout"
        }
      ]
    },
    {
      "cell_type": "code",
      "metadata": {
        "id": "PoIg6UczGNtJ",
        "colab": {
          "base_uri": "https://localhost:8080/"
        },
        "outputId": "eab87f2d-7b42-4c09-812b-8cd3eeaa4c99"
      },
      "source": [
        "ls -al"
      ],
      "execution_count": 43,
      "outputs": [
        {
          "output_type": "stream",
          "text": [
            "total 3340\n",
            "drwxr-xr-x 2 root root    4096 May  1 17:37 \u001b[0m\u001b[01;34m.\u001b[0m/\n",
            "drwxr-xr-x 3 root root    4096 May  1 17:37 \u001b[01;34m..\u001b[0m/\n",
            "-rw-r--r-- 1 root root 3404816 May  1 17:37 ade_corpus_v2-train.arrow\n",
            "-rw-r--r-- 1 root root    3653 May  1 17:37 dataset_info.json\n",
            "-rw-r--r-- 1 root root       0 May  1 17:37 LICENSE\n"
          ],
          "name": "stdout"
        }
      ]
    },
    {
      "cell_type": "code",
      "metadata": {
        "id": "djJMh9K8GPIS"
      },
      "source": [
        "dict_val = dataset.values()"
      ],
      "execution_count": 44,
      "outputs": []
    },
    {
      "cell_type": "code",
      "metadata": {
        "id": "xYires_qV-ls",
        "colab": {
          "base_uri": "https://localhost:8080/"
        },
        "outputId": "86ef8bc1-752f-4de1-d213-1f76befe1ce4"
      },
      "source": [
        "import pandas as pd\n",
        "\n",
        "text = []\n",
        "label = []\n",
        "\n",
        "for feats in dict_val:\n",
        "    text = feats[\"text\"]\n",
        "    label = feats[\"label\"]\n",
        "    \n",
        "dict = {'text':text,'label':label}\n",
        "pd_df = pd.DataFrame(dict, columns=['text','label'])\n",
        "\n",
        "print(text[1], \" \", label[1])"
      ],
      "execution_count": 45,
      "outputs": [
        {
          "output_type": "stream",
          "text": [
            "Immobilization, while Paget's bone disease was present, and perhaps enhanced activation of dihydrotachysterol by rifampicin, could have led to increased calcium-release into the circulation.   1\n"
          ],
          "name": "stdout"
        }
      ]
    },
    {
      "cell_type": "code",
      "metadata": {
        "id": "bWAfi6SzM9Dq",
        "colab": {
          "base_uri": "https://localhost:8080/",
          "height": 423
        },
        "outputId": "aaaa12f4-d972-46a5-ea97-a2daa17ec1f4"
      },
      "source": [
        "pd.set_option('max_colwidth', 150)\n",
        "pd_df"
      ],
      "execution_count": 46,
      "outputs": [
        {
          "output_type": "execute_result",
          "data": {
            "text/html": [
              "<div>\n",
              "<style scoped>\n",
              "    .dataframe tbody tr th:only-of-type {\n",
              "        vertical-align: middle;\n",
              "    }\n",
              "\n",
              "    .dataframe tbody tr th {\n",
              "        vertical-align: top;\n",
              "    }\n",
              "\n",
              "    .dataframe thead th {\n",
              "        text-align: right;\n",
              "    }\n",
              "</style>\n",
              "<table border=\"1\" class=\"dataframe\">\n",
              "  <thead>\n",
              "    <tr style=\"text-align: right;\">\n",
              "      <th></th>\n",
              "      <th>text</th>\n",
              "      <th>label</th>\n",
              "    </tr>\n",
              "  </thead>\n",
              "  <tbody>\n",
              "    <tr>\n",
              "      <th>0</th>\n",
              "      <td>Intravenous azithromycin-induced ototoxicity.</td>\n",
              "      <td>1</td>\n",
              "    </tr>\n",
              "    <tr>\n",
              "      <th>1</th>\n",
              "      <td>Immobilization, while Paget's bone disease was present, and perhaps enhanced activation of dihydrotachysterol by rifampicin, could have led to inc...</td>\n",
              "      <td>1</td>\n",
              "    </tr>\n",
              "    <tr>\n",
              "      <th>2</th>\n",
              "      <td>Unaccountable severe hypercalcemia in a patient treated for hypoparathyroidism with dihydrotachysterol.</td>\n",
              "      <td>1</td>\n",
              "    </tr>\n",
              "    <tr>\n",
              "      <th>3</th>\n",
              "      <td>METHODS: We report two cases of pseudoporphyria caused by naproxen and oxaprozin.</td>\n",
              "      <td>1</td>\n",
              "    </tr>\n",
              "    <tr>\n",
              "      <th>4</th>\n",
              "      <td>METHODS: We report two cases of pseudoporphyria caused by naproxen and oxaprozin.</td>\n",
              "      <td>1</td>\n",
              "    </tr>\n",
              "    <tr>\n",
              "      <th>...</th>\n",
              "      <td>...</td>\n",
              "      <td>...</td>\n",
              "    </tr>\n",
              "    <tr>\n",
              "      <th>23511</th>\n",
              "      <td>At autopsy, the liver was found to be small, shrunken, and scarred; histological sections demonstrated postnecrotic cirrhosis.</td>\n",
              "      <td>0</td>\n",
              "    </tr>\n",
              "    <tr>\n",
              "      <th>23512</th>\n",
              "      <td>Physical exam revealed a patient with aphasia, tremor, and an expressionless face, able to make eye contact and move all four extremities.</td>\n",
              "      <td>0</td>\n",
              "    </tr>\n",
              "    <tr>\n",
              "      <th>23513</th>\n",
              "      <td>At the time when the leukemia appeared seven of the patients were in complete, and one in partial, remission as regards the ovarian carcinoma.</td>\n",
              "      <td>0</td>\n",
              "    </tr>\n",
              "    <tr>\n",
              "      <th>23514</th>\n",
              "      <td>The American Society for Regional Anesthesia and Pain Medicine has specific guidelines for treatment of these patients when they undergo neuraxial...</td>\n",
              "      <td>0</td>\n",
              "    </tr>\n",
              "    <tr>\n",
              "      <th>23515</th>\n",
              "      <td>Concomitant administration of estradiol resulted in a reduction in serum alanine aminotransferase and ferritin levels and hepatic iron concentrati...</td>\n",
              "      <td>0</td>\n",
              "    </tr>\n",
              "  </tbody>\n",
              "</table>\n",
              "<p>23516 rows × 2 columns</p>\n",
              "</div>"
            ],
            "text/plain": [
              "                                                                                                                                                        text  label\n",
              "0                                                                                                              Intravenous azithromycin-induced ototoxicity.      1\n",
              "1      Immobilization, while Paget's bone disease was present, and perhaps enhanced activation of dihydrotachysterol by rifampicin, could have led to inc...      1\n",
              "2                                                    Unaccountable severe hypercalcemia in a patient treated for hypoparathyroidism with dihydrotachysterol.      1\n",
              "3                                                                          METHODS: We report two cases of pseudoporphyria caused by naproxen and oxaprozin.      1\n",
              "4                                                                          METHODS: We report two cases of pseudoporphyria caused by naproxen and oxaprozin.      1\n",
              "...                                                                                                                                                      ...    ...\n",
              "23511                         At autopsy, the liver was found to be small, shrunken, and scarred; histological sections demonstrated postnecrotic cirrhosis.      0\n",
              "23512             Physical exam revealed a patient with aphasia, tremor, and an expressionless face, able to make eye contact and move all four extremities.      0\n",
              "23513         At the time when the leukemia appeared seven of the patients were in complete, and one in partial, remission as regards the ovarian carcinoma.      0\n",
              "23514  The American Society for Regional Anesthesia and Pain Medicine has specific guidelines for treatment of these patients when they undergo neuraxial...      0\n",
              "23515  Concomitant administration of estradiol resulted in a reduction in serum alanine aminotransferase and ferritin levels and hepatic iron concentrati...      0\n",
              "\n",
              "[23516 rows x 2 columns]"
            ]
          },
          "metadata": {
            "tags": []
          },
          "execution_count": 46
        }
      ]
    },
    {
      "cell_type": "markdown",
      "metadata": {
        "id": "i8EmjtvtHqax"
      },
      "source": [
        "Count number of cases of positive or negative for ADR"
      ]
    },
    {
      "cell_type": "code",
      "metadata": {
        "id": "65TiDlkUROCC",
        "colab": {
          "base_uri": "https://localhost:8080/"
        },
        "outputId": "fb2cf9e8-f9b4-4bdc-c1ad-3dd4ca0a18c4"
      },
      "source": [
        "pd_df.label.value_counts()"
      ],
      "execution_count": 47,
      "outputs": [
        {
          "output_type": "execute_result",
          "data": {
            "text/plain": [
              "0    16695\n",
              "1     6821\n",
              "Name: label, dtype: int64"
            ]
          },
          "metadata": {
            "tags": []
          },
          "execution_count": 47
        }
      ]
    },
    {
      "cell_type": "markdown",
      "metadata": {
        "id": "u00YtmzlXzDd"
      },
      "source": [
        "Convert to **Spark** dataframe"
      ]
    },
    {
      "cell_type": "code",
      "metadata": {
        "id": "84eRe12oH0pe",
        "colab": {
          "base_uri": "https://localhost:8080/"
        },
        "outputId": "40437ab0-6d10-460b-fe4d-d2a604c6d136"
      },
      "source": [
        "from pyspark.sql.functions import *\n",
        "spark_df = spark.createDataFrame(pd_df)\n",
        "spark_df = spark_df.withColumn(\"label\", col(\"label\").cast(StringType()))\n",
        "spark_df.show(4, truncate=100)"
      ],
      "execution_count": 48,
      "outputs": [
        {
          "output_type": "stream",
          "text": [
            "+----------------------------------------------------------------------------------------------------+-----+\n",
            "|                                                                                                text|label|\n",
            "+----------------------------------------------------------------------------------------------------+-----+\n",
            "|                                                       Intravenous azithromycin-induced ototoxicity.|    1|\n",
            "|Immobilization, while Paget's bone disease was present, and perhaps enhanced activation of dihydr...|    1|\n",
            "|Unaccountable severe hypercalcemia in a patient treated for hypoparathyroidism with dihydrotachys...|    1|\n",
            "|                   METHODS: We report two cases of pseudoporphyria caused by naproxen and oxaprozin.|    1|\n",
            "+----------------------------------------------------------------------------------------------------+-----+\n",
            "only showing top 4 rows\n",
            "\n"
          ],
          "name": "stdout"
        }
      ]
    },
    {
      "cell_type": "markdown",
      "metadata": {
        "id": "eLidGpfGdKGm"
      },
      "source": [
        "Make sure it matches the pandas dataframe value_counts ."
      ]
    },
    {
      "cell_type": "code",
      "metadata": {
        "id": "l0eVgHCGdBZE",
        "colab": {
          "base_uri": "https://localhost:8080/"
        },
        "outputId": "c2d30feb-49f2-4107-e589-33fa650de78a"
      },
      "source": [
        "spark_df.groupby('label').count().show()"
      ],
      "execution_count": 49,
      "outputs": [
        {
          "output_type": "stream",
          "text": [
            "+-----+-----+\n",
            "|label|count|\n",
            "+-----+-----+\n",
            "|    0|16695|\n",
            "|    1| 6821|\n",
            "+-----+-----+\n",
            "\n"
          ],
          "name": "stdout"
        }
      ]
    },
    {
      "cell_type": "code",
      "metadata": {
        "id": "oTegR4HHPP6D",
        "colab": {
          "base_uri": "https://localhost:8080/"
        },
        "outputId": "bf26ee77-0271-4295-8ad5-8afcb7f203d2"
      },
      "source": [
        "spark_df.columns"
      ],
      "execution_count": 50,
      "outputs": [
        {
          "output_type": "execute_result",
          "data": {
            "text/plain": [
              "['text', 'label']"
            ]
          },
          "metadata": {
            "tags": []
          },
          "execution_count": 50
        }
      ]
    },
    {
      "cell_type": "code",
      "metadata": {
        "id": "z8Ei7NybX9DY",
        "colab": {
          "base_uri": "https://localhost:8080/"
        },
        "outputId": "56da74c8-7866-4624-e9d0-21f574c3fd14"
      },
      "source": [
        "spark_df.printSchema"
      ],
      "execution_count": 51,
      "outputs": [
        {
          "output_type": "execute_result",
          "data": {
            "text/plain": [
              "<bound method DataFrame.printSchema of DataFrame[text: string, label: string]>"
            ]
          },
          "metadata": {
            "tags": []
          },
          "execution_count": 51
        }
      ]
    },
    {
      "cell_type": "code",
      "metadata": {
        "colab": {
          "base_uri": "https://localhost:8080/"
        },
        "id": "BLdkINGfWLTU",
        "outputId": "9bdc8c66-f11f-42c0-89fd-aad36c6129de"
      },
      "source": [
        "from pyspark.sql.functions import rand \n",
        "\n",
        "spark_df = spark_df.orderBy(rand()).limit(10000)\n",
        "spark_df.count()"
      ],
      "execution_count": 52,
      "outputs": [
        {
          "output_type": "execute_result",
          "data": {
            "text/plain": [
              "10000"
            ]
          },
          "metadata": {
            "tags": []
          },
          "execution_count": 52
        }
      ]
    },
    {
      "cell_type": "code",
      "metadata": {
        "id": "10OT57k-YVhY",
        "colab": {
          "base_uri": "https://localhost:8080/"
        },
        "outputId": "dba8b7c9-05b6-44e5-de6f-9b029e26e805"
      },
      "source": [
        "from pyspark.sql.functions import *\n",
        "\n",
        "spark_df = spark_df.withColumn('label', regexp_replace('label', \"1\", 'ADR'))\n",
        "spark_df = spark_df.withColumn('label', regexp_replace('label', \"0\", 'NEG'))\n",
        "\n",
        "spark_df.filter(spark_df.label == \"ADR\").show(4)"
      ],
      "execution_count": 53,
      "outputs": [
        {
          "output_type": "stream",
          "text": [
            "+--------------------+-----+\n",
            "|                text|label|\n",
            "+--------------------+-----+\n",
            "|DATA SYNTHESIS: G...|  ADR|\n",
            "|Infants are parti...|  ADR|\n",
            "|Symptoms and sign...|  ADR|\n",
            "|OBJECTIVE: To rep...|  ADR|\n",
            "+--------------------+-----+\n",
            "only showing top 4 rows\n",
            "\n"
          ],
          "name": "stdout"
        }
      ]
    },
    {
      "cell_type": "code",
      "metadata": {
        "id": "pxJ7Z-I8ZUvw",
        "colab": {
          "base_uri": "https://localhost:8080/"
        },
        "outputId": "8a1867e4-c99b-4b70-efe5-c31868b8ad97"
      },
      "source": [
        "spark_df.filter(spark_df.label == \"NEG\").show(4)"
      ],
      "execution_count": 54,
      "outputs": [
        {
          "output_type": "stream",
          "text": [
            "+--------------------+-----+\n",
            "|                text|label|\n",
            "+--------------------+-----+\n",
            "|Normal pregnancy ...|  NEG|\n",
            "|In both our cases...|  NEG|\n",
            "|Subsequently, the...|  NEG|\n",
            "|Inhaled drugs mus...|  NEG|\n",
            "+--------------------+-----+\n",
            "only showing top 4 rows\n",
            "\n"
          ],
          "name": "stdout"
        }
      ]
    },
    {
      "cell_type": "markdown",
      "metadata": {
        "id": "wq0pwWylH5ln"
      },
      "source": [
        "### Split into training and Test dataset. Create Pipeline"
      ]
    },
    {
      "cell_type": "code",
      "metadata": {
        "id": "BhYete9PH3fV",
        "colab": {
          "base_uri": "https://localhost:8080/"
        },
        "outputId": "1fd6da70-c0e6-4ce3-ee4c-78c4888bdea7"
      },
      "source": [
        "(train, test) = spark_df.randomSplit([0.7, 0.3], seed = 100)\n",
        "train.filter(spark_df.label == \"ADR\").count()"
      ],
      "execution_count": 55,
      "outputs": [
        {
          "output_type": "execute_result",
          "data": {
            "text/plain": [
              "2088"
            ]
          },
          "metadata": {
            "tags": []
          },
          "execution_count": 55
        }
      ]
    },
    {
      "cell_type": "code",
      "metadata": {
        "colab": {
          "base_uri": "https://localhost:8080/"
        },
        "id": "RG-x0QpOWcs0",
        "outputId": "ac08c975-67cf-4d4a-ac83-b232b848d12d"
      },
      "source": [
        "train.filter(spark_df.label == \"NEG\").count()"
      ],
      "execution_count": 56,
      "outputs": [
        {
          "output_type": "execute_result",
          "data": {
            "text/plain": [
              "4945"
            ]
          },
          "metadata": {
            "tags": []
          },
          "execution_count": 56
        }
      ]
    },
    {
      "cell_type": "markdown",
      "metadata": {
        "id": "UgPm1mMpIIMI"
      },
      "source": [
        "Lets see how many we have in the dataset for each"
      ]
    },
    {
      "cell_type": "code",
      "metadata": {
        "id": "B5OS5Zp7IGH_",
        "colab": {
          "base_uri": "https://localhost:8080/"
        },
        "outputId": "a61dda1b-3671-483a-bda8-700342767a4f"
      },
      "source": [
        "print(\"Training data count: \" + str(train.count()))\n",
        "print(\"Test data count: \" + str(test.count()))"
      ],
      "execution_count": 91,
      "outputs": [
        {
          "output_type": "stream",
          "text": [
            "Training data count: 7033\n",
            "Test data count: 2967\n"
          ],
          "name": "stdout"
        }
      ]
    },
    {
      "cell_type": "markdown",
      "metadata": {
        "id": "8yi1pxlYQ9S9"
      },
      "source": [
        "Each Annotator in the pipeline adds a column to the dataframe as it passes the dataframe to the next stage"
      ]
    },
    {
      "cell_type": "markdown",
      "metadata": {
        "id": "roqSl7ekRgC_"
      },
      "source": [
        "As in the pretained NER pipeline, we will leverage the same **assembler**, **sentence detector** and **tokenizer** .\n",
        "But will add **BertEmbeddings** model to provide the word embedings from text.\n",
        "\n",
        "**BertEmbeddings** encode words and sentences in fixed-length dense vectors to drastically improve the processing of textual data , this is core of **NLP**.\n",
        "\n",
        "**BERT** is better then just **WordEmbeddings** as it considers the context and sequence of words in account rather than just average of words"
      ]
    },
    {
      "cell_type": "markdown",
      "metadata": {
        "id": "hcha7yTj6e7K"
      },
      "source": [
        "![1-s2.0-S1532046420301672-fx1_lrg.jpg](data:image/jpeg;base64,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)"
      ]
    },
    {
      "cell_type": "code",
      "metadata": {
        "id": "fVBDZnD2Xb64"
      },
      "source": [
        "# Annotator that transforms a text column from dataframe into an Annotation ready for NLP\n",
        "assembler = DocumentAssembler().setInputCol(\"text\").setOutputCol(\"sentence\")"
      ],
      "execution_count": 58,
      "outputs": []
    },
    {
      "cell_type": "code",
      "metadata": {
        "id": "9Ldwfjz0Xgq_"
      },
      "source": [
        "tokenizer = Tokenizer().setInputCols([\"sentence\"]).setOutputCol(\"token\")"
      ],
      "execution_count": 59,
      "outputs": []
    },
    {
      "cell_type": "code",
      "metadata": {
        "id": "3oyXURnQIXuO",
        "colab": {
          "base_uri": "https://localhost:8080/"
        },
        "outputId": "d7f87eaa-3e0f-4cf5-ece5-a51c1ed2c77b"
      },
      "source": [
        "bert_embeddings = BertEmbeddings.pretrained(\"biobert_pubmed_base_cased\", \"en\", \"public/models\")\\\n",
        "                        .setInputCols([\"sentence\", \"token\"])\\\n",
        "                        .setOutputCol(\"embeddings\")\\"
      ],
      "execution_count": 60,
      "outputs": [
        {
          "output_type": "stream",
          "text": [
            "biobert_pubmed_base_cased download started this may take some time.\n",
            "Approximate size to download 386.4 MB\n",
            "[OK!]\n"
          ],
          "name": "stdout"
        }
      ]
    },
    {
      "cell_type": "markdown",
      "metadata": {
        "id": "BLDPkxFyXMy3"
      },
      "source": [
        "**Pre-processing** is now **COMPLETE** - provide sentence embeddings to \n",
        "classifier"
      ]
    },
    {
      "cell_type": "code",
      "metadata": {
        "id": "H9643R5rXvJk"
      },
      "source": [
        "sentence_embeddings = SentenceEmbeddings()\\\n",
        "                      .setInputCols([\"sentence\", \"embeddings\"]) \\\n",
        "                      .setOutputCol(\"sentence_embeddings\") \\\n",
        "                      .setPoolingStrategy(\"AVERAGE\")"
      ],
      "execution_count": 61,
      "outputs": []
    },
    {
      "cell_type": "markdown",
      "metadata": {
        "id": "qc2r8JtFTRS2"
      },
      "source": [
        "**ClassifierDL** is a multi-class text classifier that uses word embeddings as an input for text classifications. ClassifierDL annotator uses a deep learning model (DNNs) that is built inside **TensorFlow** and supports up to 50 classes\n",
        "\n",
        "**(setLR, 0.0003)** the initial learning rate to start training\n",
        "\n",
        "**(setMaxEpochs, 30)** how many iterations to train the deel neural network\n",
        "\n",
        "**(setBatchSize, 8)** how many records to process in one epoch\n",
        "\n",
        "ADR (Positive or negative)\n",
        "\n",
        "**(sentence_embeddings)** final output of pre-processing pipeline"
      ]
    },
    {
      "cell_type": "code",
      "metadata": {
        "id": "In_UPhJnTRuk"
      },
      "source": [
        "classifier_DNN = ClassifierDLApproach()\\\n",
        "    .setInputCols([\"sentence_embeddings\"])\\\n",
        "    .setOutputCol(\"class\")\\\n",
        "    .setLabelColumn(\"label\")\\\n",
        "    .setBatchSize(8)\\\n",
        "    .setMaxEpochs(30)\\\n",
        "    .setLr(0.0003)\\\n",
        "    .setOutputLogsPath('./')\\\n",
        "    .setEnableOutputLogs(True)"
      ],
      "execution_count": 62,
      "outputs": []
    },
    {
      "cell_type": "code",
      "metadata": {
        "id": "4yAcV_fnTWzU"
      },
      "source": [
        "bert_clf_pipe = Pipeline(\n",
        "      stages = [\n",
        "        assembler,\n",
        "        tokenizer,\n",
        "        bert_embeddings,\n",
        "        sentence_embeddings,\n",
        "        classifier_DNN\n",
        "    ])"
      ],
      "execution_count": 63,
      "outputs": []
    },
    {
      "cell_type": "markdown",
      "metadata": {
        "id": "XMeODmU1VOeT"
      },
      "source": [
        "### Fit and train model "
      ]
    },
    {
      "cell_type": "markdown",
      "metadata": {
        "id": "dCHc3UuRiI2s"
      },
      "source": [
        "Training completed in about 46 minutes for 30 epochs and batch size of 8\n",
        "\n",
        "![Screen Shot 2021-04-30 at 12.07.49 PM.png](data:image/png;base64,iVBORw0KGgoAAAANSUhEUgAAAeYAAAAqCAYAAABmzvi0AAAMSGlDQ1BJQ0MgUHJvZmlsZQAASImVVwdYU8kWnltSSWiBCEgJvQlSpEsJoUUQkCrYCEkgocSQEETsLssquHYRARu6KqLoWgBZK+paF8HuWh4WVJR1sWBD5U0KrOt+773vne+be/+cOec/JXPvnQFAp5YnleahugDkSwplCZGhrIlp6SxSN8CBGaAAKjDj8eVSdnx8DIAydP+7vL0OEOX9iouS65/z/1X0BEI5HwAkHuJMgZyfD/EBAPBSvlRWCADRF+qtZxRKlXgyxAYymCDEUiXOVuNSJc5U4yqVTVICB+JdAJBpPJ4sGwDtFqhnFfGzIY/2TYjdJAKxBAAdMsRBfBFPAHEUxKPy86crMbQDDplf8WT/jTNzmJPHyx7G6lpUQg4Ty6V5vJn/Zzv+t+TnKYZi2MFBE8miEpQ1w77dzJ0ercQ0iHslmbFxEOtD/F4sUNlDjFJFiqhktT1qypdzYM8AE2I3AS8sGmJTiCMkebExGn1mljiCCzFcIWixuJCbpPFdJJSHJ2o4a2XTE+KGcJaMw9b4NvJkqrhK+1OK3GS2hv+mSMgd4n9TIkpKVeeMUYvEKbEQa0PMlOcmRqttMJsSESd2yEamSFDmbwOxv1ASGarmx6ZmySISNPayfPlQvdgikZgbq8HVhaKkKA3PLj5Plb8RxC1CCTt5iEconxgzVItAGBaurh3rEEqSNfViXdLC0ASN7ytpXrzGHqcK8yKVeiuITeVFiRpfPKgQLkg1Px4rLYxPUueJZ+bwxsWr88GLQQzggDDAAgo4MsF0kAPE7b3NvfCXeiYC8IAMZAMhcNFohjxSVTMSeE0EJeAPiIRAPuwXqpoVgiKo/zysVV9dQJZqtkjlkQseQ5wPokEe/K1QeUmGo6WAR1Aj/kd0Psw1Dw7l3D91bKiJ0WgUQ7wsnSFLYjgxjBhFjCA64iZ4EB6Ax8BrCBweuC/uN5TtX/aEx4ROwgPCNUIX4dY08ULZN/WwwHjQBSNEaGrO/Lpm3A6yeuGheCDkh9w4EzcBLvgYGImNB8PYXlDL0WSurP5b7r/V8FXXNXYUNwpKGUEJoTh866ntpO01zKLs6dcdUueaOdxXzvDMt/E5X3VaAO/R31pii7D92BnsBHYOO4w1AxZ2DGvBLmJHlHh4FT1SraKhaAmqfHIhj/gf8XiamMpOyt0a3HrcPqnnCoXFyvcj4EyXzpSJs0WFLDZ88wtZXAnfdRTLw83DHQDld0T9mnrNVH0fEOb5v3QFxwHwK4fK7L90PGsADj0GgPH2L531K/h4LAfgSAdfIStS63DlhQC/TTrwiTIG5sAaOMB6PIA3CAAhIByMA3EgCaSBqbDLIrieZWAGmA0WgDJQAZaDNaAabARbwA6wG+wDzeAwOAF+BRdAB7gGbsPV0w2egz7wFgwgCEJC6AgDMUYsEFvEGfFAfJEgJByJQRKQNCQDyUYkiAKZjXyHVCArkWpkM1KP/IwcQk4g55BO5BZyH+lBXiEfUQyloQaoGWqHjkZ9UTYajSahU9BstAAtQUvRpWgVWofuQpvQE+gF9BrahT5H+zGAaWFMzBJzwXwxDhaHpWNZmAybi5VjlVgd1oi1wv/5CtaF9WIfcCLOwFm4C1zBUXgyzscL8Ln4Erwa34E34afwK/h9vA//QqATTAnOBH8ClzCRkE2YQSgjVBK2EQ4STsOnqZvwlkgkMon2RB/4NKYRc4iziEuI64l7iMeJncSHxH4SiWRMciYFkuJIPFIhqYy0jrSLdIx0mdRNek/WIluQPcgR5HSyhLyQXEneST5Kvkx+Qh6g6FJsKf6UOIqAMpOyjLKV0kq5ROmmDFD1qPbUQGoSNYe6gFpFbaSept6hvtbS0rLS8tOaoCXWmq9VpbVX66zWfa0PNH2aE41Dm0xT0JbSttOO027RXtPpdDt6CD2dXkhfSq+nn6Tfo7/XZmi7anO1BdrztGu0m7Qva7/QoejY6rB1puqU6FTq7Ne5pNOrS9G10+Xo8nTn6tboHtK9oduvx9Bz14vTy9dbordT75zeU32Svp1+uL5Av1R/i/5J/YcMjGHN4DD4jO8YWxmnGd0GRAN7A65BjkGFwW6DdoM+Q33DMYYphsWGNYZHDLuYGNOOyWXmMZcx9zGvMz+OMBvBHiEcsXhE44jLI94ZjTQKMRIalRvtMbpm9NGYZRxunGu8wrjZ+K4JbuJkMsFkhskGk9MmvSMNRgaM5I8sH7lv5O+mqKmTaYLpLNMtphdN+83MzSLNpGbrzE6a9ZozzUPMc8xXmx8177FgWARZiC1WWxyzeMYyZLFZeawq1ilWn6WpZZSlwnKzZbvlgJW9VbLVQqs9Vnetqda+1lnWq63brPtsLGzG28y2abD53ZZi62srsl1re8b2nZ29XardD3bNdk/tjey59iX2DfZ3HOgOwQ4FDnUOVx2Jjr6OuY7rHTucUCcvJ5FTjdMlZ9TZ21nsvN65cxRhlN8oyai6UTdcaC5slyKXBpf7rkzXGNeFrs2uL0bbjE4fvWL0mdFf3Lzc8ty2ut1213cf577QvdX9lYeTB9+jxuOqJ90zwnOeZ4vnyzHOY4RjNoy56cXwGu/1g1eb12dvH2+Zd6N3j4+NT4ZPrc8NXwPfeN8lvmf9CH6hfvP8Dvt98Pf2L/Tf5/9ngEtAbsDOgKdj7ccKx24d+zDQKpAXuDmwK4gVlBG0Kagr2DKYF1wX/CDEOkQQsi3kCduRncPexX4R6hYqCz0Y+o7jz5nDOR6GhUWGlYe1h+uHJ4dXh9+LsIrIjmiI6Iv0ipwVeTyKEBUdtSLqBteMy+fWc/vG+YybM+5UNC06Mbo6+kGMU4wspnU8On7c+FXj78Taxkpim+NAHDduVdzdePv4gvhfJhAnxE+omfA4wT1hdsKZREbitMSdiW+TQpOWJd1OdkhWJLel6KRMTqlPeZcalroytWvi6IlzJl5IM0kTp7Wkk9JT0rel908Kn7RmUvdkr8llk69PsZ9SPOXcVJOpeVOPTNOZxpu2P4OQkZqxM+MTL45Xx+vP5GbWZvbxOfy1/OeCEMFqQY8wULhS+CQrMGtl1tPswOxV2T2iYFGlqFfMEVeLX+ZE5WzMeZcbl7s9dzAvNW9PPjk/I/+QRF+SKzk13Xx68fROqbO0TNpV4F+wpqBPFi3bJkfkU+QthQZww35R4aD4XnG/KKiopuj9jJQZ+4v1iiXFF2c6zVw880lJRMlPs/BZ/Fltsy1nL5h9fw57zua5yNzMuW3zrOeVzuueHzl/xwLqgtwFvy10W7hy4ZvvUr9rLTUrnV/68PvI7xvKtMtkZTd+CPhh4yJ8kXhR+2LPxesWfykXlJ+vcKuorPi0hL/k/I/uP1b9OLg0a2n7Mu9lG5YTl0uWX18RvGLHSr2VJSsfrhq/qmk1a3X56jdrpq05VzmmcuNa6lrF2q6qmKqWdTbrlq/7VC2qvlYTWrOn1rR2ce279YL1lzeEbGjcaLaxYuPHTeJNNzdHbm6qs6ur3ELcUrTl8daUrWd+8v2pfpvJtoptn7dLtnftSNhxqt6nvn6n6c5lDWiDoqFn1+RdHbvDdrc0ujRu3sPcU7EX7FXsffZzxs/X90Xva9vvu7/xgO2B2oOMg+VNSNPMpr5mUXNXS1pL56Fxh9paA1oP/uL6y/bDlodrjhgeWXaUerT06OCxkmP9x6XHe09kn3jYNq3t9smJJ6+emnCq/XT06bO/Rvx68gz7zLGzgWcPn/M/d+i87/nmC94Xmi56XTz4m9dvB9u925su+Vxq6fDraO0c23n0cvDlE1fCrvx6lXv1wrXYa53Xk6/fvDH5RtdNwc2nt/Juvfy96PeB2/PvEO6U39W9W3nP9F7dvxz/tafLu+vI/bD7Fx8kPrj9kP/w+SP5o0/dpY/pjyufWDypf+rx9HBPRE/Hs0nPup9Lnw/0lv2h90ftC4cXB/4M+fNi38S+7peyl4Ovlrw2fr39zZg3bf3x/ffe5r8deFf+3vj9jg++H858TP34ZGDGJ9Knqs+On1u/RH+5M5g/OCjlyXiqrQAGB5qVBcCr7QDQ0+DeoQMA6iT1OU8liPpsqkLgP2H1WVAl3gBsDwEgeT4AMXCPsgEOW4hp8K7cqieFANTTc3hoRJ7l6aHmosETD+H94OBrMwBIrQB8lg0ODqwfHPy8FSZ7C4DjBerzpVKI8GywyVWJOrpfgG/l34sff1pLLfvEAAAACXBIWXMAABYlAAAWJQFJUiTwAAABnGlUWHRYTUw6Y29tLmFkb2JlLnhtcAAAAAAAPHg6eG1wbWV0YSB4bWxuczp4PSJhZG9iZTpuczptZXRhLyIgeDp4bXB0az0iWE1QIENvcmUgNS40LjAiPgogICA8cmRmOlJERiB4bWxuczpyZGY9Imh0dHA6Ly93d3cudzMub3JnLzE5OTkvMDIvMjItcmRmLXN5bnRheC1ucyMiPgogICAgICA8cmRmOkRlc2NyaXB0aW9uIHJkZjphYm91dD0iIgogICAgICAgICAgICB4bWxuczpleGlmPSJodHRwOi8vbnMuYWRvYmUuY29tL2V4aWYvMS4wLyI+CiAgICAgICAgIDxleGlmOlBpeGVsWERpbWVuc2lvbj40ODY8L2V4aWY6UGl4ZWxYRGltZW5zaW9uPgogICAgICAgICA8ZXhpZjpQaXhlbFlEaW1lbnNpb24+NDI8L2V4aWY6UGl4ZWxZRGltZW5zaW9uPgogICAgICA8L3JkZjpEZXNjcmlwdGlvbj4KICAgPC9yZGY6UkRGPgo8L3g6eG1wbWV0YT4KX2OOGwAAABxpRE9UAAAAAgAAAAAAAAAVAAAAKAAAABUAAAAVAAAPB49ZVEQAAA7TSURBVHgB7Jx37FXFEscHEQwmij4iGpA/FOvDXmJ79t4VUTGiPhQ79ha7xNgVeYo1GrGCXVGxY4EIGrBiBSwo2CgaBRGF8+azyWzmHs659/58/n6/C28n+XHP2Z1ts7vznZ2dQ5tMSRIlCSQJJAkkCSQJJAk0hATaJGBuiHlInUgSSBJIEkgSSBIIEkjAnBZCkkCSQJJAkkCSQANJIAFzA01G6kqSQJJAkkCSQJJAAua0BpIEkgSSBJIEkgQaSAIJmBtoMlJXkgSSBJIEkgSSBBIwpzWQJJAkkCSQJJAk0EASSMDcQJORupIkkCSQJJAkkCSQgDmtgSSBJIEkgSSBJIEGkkAC5gaajNSVJIFGk8Crr74qU6dOlY4dO8pee+3VaN2ruz+PPvqozJ07V9Zee23ZaKON6i6XGJMEWkMCCZibQervvfeevP/++6HmHXbYQbp27VpXK3PmzBHKTpw4UXr16iVLL710XeWam+nTTz+Vt956q2ozbdu2lQMPPFDatWtXlS9lLloSYB2+/fbbYS1OmDBh0eq86y2A/Pvvv8uWW24p9913n8tp7Mfvv/9enn766WAUrbjiilU7O3v2bHn55Zflk08+ka+++krgX2211WT33XeX5ZdfvmrZsswpU6aEvY9e+vXXX2XdddeV9ddfXzbeeOOyIoXpP/74o7zzzjvyyy+/yAEHHFDIU5Q4bdq0MKaivCWWWCLo1lVXXTX8ooPylC+/zz77BCMzz1f0/tFHH8n48eNj1mGHHRafm/thsQTmqfNmStf2/2hu2RXW//PPP8vmm28elAAMV199dQDZQmZNnD9/vgwcOFAef/xx+e677yLbiBEjZK211orvrflw+eWXyx133FGzCy+++KJ07969Jl9iWHQkkIC55edq3rx58txzz8k999wTjCJ6wIl/ww03LO3MU089Jeeee65g3OcJwLrgggvkiCOOyGdVfb/33nvl4osvLuTZddddZdCgQbLUUksV5pP4008/yfnnny+jR48OgEwafeHgUS+98MILctxxx9VkX2aZZUJfe/bsWcGbL3/22WfXVR+V7L333vLhhx/G+iZNmiQYAy1Bix0wD5sxWv49ebAM6d5fenf6V0vIsKKNk08+OVi4llgNmLEijzzyyIrJpxwn5eHDhwuWYCPQSSedJM8880zNriRgrimiRY7h7wZmDM7+/fsHOaD4t9pqqxaRSUudmAEjc5UfffTRASzrHSCnUk7zTzzxRDDYfblqwJwHH8aK7gBI8HYZ3XbbbbLzzjvba9Vf+nHRRRdFng022EAAPzxneB6gat4HxnL44YdHQLaKunXrJq+99pq91vz1Y8MI8F5E+pE3RPbff3+57rrrYr2+PImdO3eWsWPHxvyyh88//1x22mmniuyWBGbh/8peXGjo9FFZ27G9MhnTM+syvl82e/7cFh3a66+/nq2yyioVfw8//HBhH9TtlPXo0SPyqss7o7xu7EL+1kxU11PoJ33UzVD6t2DBgtbsZmq7GSRgc89a/TtIQSeueT1J/R1V1lWHep9Cu4ceemhd/H+VSY3tOD71NNVdjd5/x3KmQ9QNHdP0OqGwLvSIjY1yY8aMqeBTQI91bLLJJhV5ZS/sY3ipj7r1CiOyqis622WXXWKdkydPjnn2oO7fmE8dxx57bKZXexljbCo9//zzsS41FhYqzvjvv//+zMtKjb/I58ubXPMyiszuQY2S2K6VU++m42jex8UGmD0odx7XN5swZ0rzSi5XOwtELeWFJrMMmK+//vrIe9lll2UtOem5rtd81VNN6KtawDV5E8PiJYEEzE2bz/8VmAHC8847L/vggw+yIUOGRB1RBsyAjAGHnhQLO3vQQQdFHr0nLuTxif6Ace211/qs8AzIWpvqql4oX0+tMf+ll15aKL8pCR5Yi4DZ6nrllVdim+rlseTMl7c+qycj5hc96FVChbFj5VpSRy8WwNzaoMzkXnjhhXFh3HrrrfG5CJi9lbvHHntk9Z40r7zyykwjYzN1LWczZ87M9L4k22677UJbWLjqIszefffdsNZoA/BHsWJNsuGxdJ988smitVg1zSxyFEZTCetV72qid4B+9unTJ/azqfW1Bj/K7MYbb8y22WabIEvkidwvueSSjBNEGX322WfZKaecEg229dZbL+PEVqZg1O0W5pc5xnNyww03hHebP+Tm52/YsGFZ3759g2zhoX/XXHNNhmLx9M0338R6UaqsSZQX80q5fffdN7vzzjt9kfhcC5hnzZqVXXXVVdkWW2wR1iEna4DgwQcfjHXwcMYZZ4Q+IANTdBh8jJV1nCdOYqxzM3ZZN4x13Lhxedb4zp4466yzMjMk6dMJJ5yQffvtt1HRNvXErHeMoX/q1gz9tn2k97/Zn3/+GdsGRBmL7UfGyFhJ48/zxkK5hzfeeKOCrx5gvuWWW6I8OakW0aWXXhp59H43sqhLN2NcyATZGd10002Rv+hEDJ/NC2vHkz8tN8Vj4Ovwzx5Yy/aN8W+22Wah396748t7D6Ufr5W3X433ieP367UlgXmRv2PmTrnPpP/I/GyBdG7XUUb+c4D06NCt4m6guV+4T+FuA+LOeMcddxRd7OG96I5ZlaDoKTnkc5e8zjrryG+//SY//PCDrLzyyiFAImTm/iF4Y9SoUSGV+x4iHPNEcIUuYFEQlS+++CKfHd6PP/54UQVWmJdP/OOPP2TNNdcMyZShLGlEaFaL9NRFLv369RO1ZPNVxndV1nLiiSfG90Z8YKz77beffPzxx4Xd496LO0GTkTHpiUcIRNHNbEkVv6pERJWqLLfccjHdr4uVVlqpIhgwMumDgm8IqFGQ9snxmfXEujIi2IZgHahTp04yY8YMy6r45QsC+uQj66vdMavxF+ol8rWIqE+NVFlyySVl++23D5HCRXyrr766qAKNWUQVE3hTJrtzzjlH1D0a+XlgjL179xY1FCrSeWGO6rkXzRdUF6mowZ1Pju+qtOWxxx4LAUFqpIVgrZiZe6B/RVHDObaK17vvvlsGDBgQ0srumBmvGoCBh+Cw9u3bV9TByyGHHCJvvvlmSGcdW8AW+3PkyJEhHX0EH8SYGTtU1m/2BF+e5O9sTUfRBnuAuaeP6LcuXbqEOpvyj78jVgMj6tWiOvbcc8+4T9WgkDZt2ogvf9RRRwl7DKoWBGZBX8wXX5qoARzKtOQd8yINzI0AymoJi55UghJF6RGByOcl1YD5tNNOE5QqE89iI1jBK0uCN4h4RGF5skVvaSi+rbfeWr7++usQ1Z1XSgRKAA582kDQxtChQ61oCIBgU9UivmGlDYh+obTZkBD1AzB6kpcVVlghpNk/XqnRzsEHHxwitp999tkKJVymcKye1vzFuCCAx5TXpptuKnoalGWXXTYAnwXEMT4MkA4dOoTuMh/qnYhgwLzp6U349IXodvKhbbfdVu66667wzD8emHlH3upRCYofAEDZeGL9YATSFvN08803xzb11BM+k4HfAzPvGHV6EhY9QQTlSfSvEUpZT6b2Gr4oKPpcCtBEaamHJvBimNIXFDDr2b4wIKqX8VMHfSTwxtbhMcccE/rAviGQCEJGjAejk/FhuNHPL7/8MnzhYGBN1PIaa6wRyvAPsjS5sm8AaYjPh/QkGp75p1rAUmTSBz2Zh7kmjXXOvDOH7KOHHnooGsUYwAAcnxVhoPNVhgVNsW8wbCA9NQegCC91/lMPMNeqCgMawEZuBKU98sgjsYitN+TMJ1lmXBpgA65lBqnxUJb1ZcQeQZfRFgYi7VmAlq1XDivsoXrIA2s1YGZ8tIcBxvpmLiBfHnkSeMjayhsU1hcf9MWcY1g88MADIbslgXmRdWU3gvsa1weuQ3PN4YqC+LW0Ile2uQeNp+yXux5P3PEaL+160pNdRQAELjfc2Z5wdVt5XDz1EK5DK1P2S1u4SD3hzjR+3dw+K1OlGvNwgzYq6ScosZ+4VfNXDl6ePuCE6wkbO3dfnlRJBdex5ftAFAXtWI57urz7E/ezlePXri2sfgWMmK+fx1hyhkvdyuHOw7XtSU9TMR/XnW/X1irlPKnhGMvcfvvtPitjjLjIaZNyBAwa1Qr+8veT+TXl16KPd0D2Nj4F5Iy94Mm7cut1ZZ966qmxTgV8X12Qu7XHnHj6q3fMvg57rseVbbxlv6xb62ten1Bm+vTpYb58eZsD1kIZefl4Hmur2i9ucK4X6iHvii5zZbMv1WMRx6levVi1L899N/fw1jfT15FZH/yVJPvmzDPPjPwK/p61WZ8bCphHzBqfqUu65oAbBZS9wtPPpGK/awGz3YXYAuH+jU2DIjr99NPjQuBezStJA2aUXhHp936xbFEgiAdEPV0VVbFQmi+DkmVDqhWccbdl90yMg4htD1zch9r48sDMmK644orwlweuhTrQigl+k+pJbqGe+PlHMUCAkI27DAT0E5bIo1cfsV4PzAT/5InoU6s7f7cHL/dmlg9AGfl+ls07kbNW1gN+GTCb8mYt+3m3Nj0g+KjeasDMurA+sM6KyNac3wPcPVs5ZFtEZiiUzUm+DHel6ikJRnY+j3fbw/THUyMBM/fgJhfmt16yuW0qMAPy1h6/6Av2OeuJ++zddtst5mPU1kMeWCmjVzTxj0MPwWn+Xp929SokVu3Lq1cg0+vC2Ad1bUc+HnzQF32FvPH9fwnMA6cND5859Zk4qCo4NwooM0kEU7EQODH6z5xqAbNfvFjFefJKDRA0qgXM6pqKi84rVyvPScnaLgJu48v/qnsngHH+cweCogg4sjp9BKa6jWI6G3zw4MFZmdLMt9co73byJUCmjNSNl2F4WDCJP9Vx4i4jUybIz8gDc96YgccDLMFoRYSsmQ8P3L4cBlUReQWG8jMqAmaA2ICOEyPrPf+HwrR14b0J1YAZALcynHLzdfJuewA+dRuHbposAcsyYo9Spl5g9vWomzrDgNTvrjMCo/jDaKa+PHg1CjDTX5MlffX6yY+t6PmvAjM6x9rk1xtktIMnwwwa8jU2oaj5ijS/Ln3dRc/MMQcJT7686VK/hmzfUsZ/Wma8RHBbWy0JzP8FAAD//5gLXL8AAAygSURBVO1cd4gUSxPvMyAKYkQFA2YURTGAGJ/pqYgiPiPmgBjxD3P6RDFnERMmVMw5YMaAOSPmnHMWczjn61/zqqmZndmd897dzt51wTnTXVU91dWhQvcqrABAvPXbqnd1tCVO/KP+2t2aaaHOCatfH7HSnmyuaHKd7Wxd/vLQSZJs5YULF1qFChVSf9u2bbN99/jx4xq3fv16G+73798a16xZMxuOCg8fPtQ0o0aNomqrQ4cOqr5o0aK6jr8sXbpU8124cIGj1PuTJ080ftq0aSH4P6k4fPiwbnP69Om6iV+/fln9+vXTONJVqVKlrGHDhlmXLl3StEF9gZ4hd+fOnX2LOG/ePN3nixcvevJ16tRJ0fGxXLRokea9du1aCO+tW7c0fvbs2SF4VJQvX17RNGnSRONv3ryp+SCfG1y+fFnTzJkzR5NgjkIHGDeC27dva1oa13DP+fPnE6u1ZcsWzXv06FFdjxc+f8O1RzjIDChRooRqk/dZIdg/RNO2bVtWG/713LlzVtOmTbW89F3+LFOmjK2RV69eafrx48fbcAktcH2cP3/eNzvmHc1dPO/cueObF4RuY+5soG/fvrqfhMN4km5mzZpF1bbnqlWrNM2BAwdsOLfCnj17ND36gnHkfzVq1LDatWtn4XufP38OaYLz49sAvmfNnTtX8zRs2FB9C+3/+PFD1dOei37Fx8dr2qR+EUn9Ab/tf43/Yf0dxjgHySg/fvzYNvFXr15t8T8YU5qgvXr1Ujg+CWnRhNvwiYZvJDRJgHMDvpCTyzB/+/bN1lenXOg3+kn64M+ZM2c6yQNVJll79uzpW66pU6fqvl6/ft2Tr0uXLpqOFnw0DfPVq1e1PNxpc9ukT506pWmhI8zHcH9+DTPXXbj2CEdzHGXI0bx5c099J9Qwnz592tbH2rVrWwMGDLAmTJhgwQGtWLGiwgfNMN+/f187KtAJ+pFQ6NOnj+67Fy/2JbTP+4/xQB3+sBe5AZwGolmwYIEbia2OG9YVK1bYcH4KbvwIjmj88ARwZ3PkyJG6aRh9kpfWqUYm4UtgDDP66GWcg2SUISffQGjQIj35BK5ataoa7Lp166I5V6DNBpEVQTQMM7zQjx8/Wt+/fycxbE9MVup7t27dbDheQASNTQJOC/UNfJs3b+ZkgXqnxdu4cWPfcvGI8NChQ5589erVU3qrWbOmpommYT548KAex3Xr1mmZ3Azzs2fPNC0MVUKA68cZMSO7RHPp2LFjvpul9cR16WROqGGm6AnyIAPmBIqk+boGTTQjZnybMiaQe//+/U6xfZUnTpyoxwFr3w2wd+EbcFgIPnz4oPlGjx5N1bYndwAXL15sw7kV3AyrG51XnRc/Mk401zC+I0aM0GU4NwTGMP+rCadx/uvK/wKTvqbBWr58uYUUitcfbegYeCxc0LVu3ZrYdUoa+NevX+t6euGLe9y4cVSt+WDY3CApImbIDzmxUbnBgwcP9ISeNGmSInn58qWFlCn+3FLWiKJpUXTv3t2t2UDUIQKDnDy15RQMfYazsX37doVCf6lv/BiC871580bTIAojiKZhxjwjuU+ePEkieaY1ybnymhe6AcdLOMPMoykYB79A0Rvkf//+vStbQgwzdzb5uuUNB80ww4HGPkNjuGHDBi5ugt5Xrlyp29m9e3cIL75F488zeiAkPXs5SXz8kVKOBF6GNRIf4b343759q/sI40tyO49DjGEmTcqn0zjj7DnaZ8pMvIiv4c6YwYxNnBYQPDUn8FQ4P7+ORsRMZ6GQ9+zZs05RrUGDBum+kKxYuNQ/HvETM3c8GjVqRNWBe+L8ifqxZMmSEPnOnDmj8XSX4OfPnzpqweb1/PnzED6kyqjdtWvXanxyGOaWLVtayF5wQFREGxNk/vTpk0a7RcxAwmBRH3bs2KHp6QVndHA6EIlz4HN/586dHGV9+fLFJsfTp09teBQQrcOZg0NIgLEhWdzOdbdu3arxTkNCbfAn9EPt4WzdqS9EohzPefmGP3ToUI5K8Dt3tMOdMWPOwaCQTJhHiQGeEcF8cQJSyvQtPn9Bx/cDGEUOSCEjwiZeOPCRwMuwRuIjfDh+ZPhIFnqSg038xjCTJv59cuMcS0YZ4kcyzKCBR0mTAYYYiwEGi6fJkaLj5xrRMMx79+7VclaqVMnCJgg5EenzKAs4voFhQVP/+vfvr3SCjRfp7DZt2mjcmDFjoI5AAtL3lDFAX3BWimgXY4ULUmTMgIMzQoAog/oOfkQGOIvH3QSeMkO0yY8IksMwQy6c+SM6hfHEuSClgoEbO3YsdUM9vQzz3bt3dR/BBycG8wJ6gDGGw0U6wOUzghcvXuh6zAPoBMaMAGl04oNRhPFGm+DDsQfqgIdeab6hH1QPHOYUzgzxXX4ZDzg/hhmy8PWJDRxjiLN1PudJTsxrDpQxQ1oZF9TcsmKc3uvdj2GGsevatavWGfYIXBz0+oNeCNAnjD3WKh8D4HmbcLDgJGEcNm7cqL+F+c/nL/gwByiahn5guOH4IT1M+xfqBw4cCPKIEM6wRmSWBOH4nXcl0B+aU9R2tAxzHAQQAYVvv3+KrnfniGF5m4lSGfMHVMpQsU6cOCHkBqAQkydPFjIlGkIkF45o0aKFkIs6BIeKtGnTCnmhTMhFrvEdO3YUR44cUTh5Q1fX08uyZcuEPNtRRbmJibJlyxJKPeXiEtWqVVPv8oKHkLembXivwuDBg4WMCL3Qql6mv0TlypU1jbwJKmRUJaQh03XOl2zZsglp+EWOHDmcqMCUoW95UUtIB8lVJoyTdFZE9erVbfghQ4YIaWRsdbyQK1cuITcNkSVLFl0tz9yE3PhVWRokITcKjcOL3FSFPJtWddLZEb1797bhUahQoYJ49+6dkIZLyLShwmOu1K9fP4TWWZEnTx4ho1+BcSHA3JXRmsiUKZOQRoaq1VMe6QjpVNrqnAVp6IU0wLbqWrVqCRnx6jp8Vzqzuox+7dq1S5edLxkyZBBr1qyxzW/Mox49ejhJQ8pVqlQRMuILqXdW8DXsxDnLMlMkSpcuratlRiTkG/KGt02vmjjMC1/P0iCKcuXKhVDfu3dP1KlTJ6Q+XAXmUZo0adS8lvcgFKm8KyBatWql2aTjJWS6XkijquucL1OmTBHScXNWi02bNglpzEPqqQLrfd++fSJr1qxU5fnk4yodLr2vejI4EJH4MR9kVktxSWdEDB8+3NZC+/bthbzvoOpIbzaCpCqQZ2Ce/50G+I1OSnG6tQ7vkqcEyQNHWurRo0chLOTFwiN1A55iohurnO5Pfy4FrxxnVjx6JFlx1sbTivx7OO9D2pFHM8SHlJefVBZvL1rviOoociT5MQao49GgUz5Ee8gkEA89MY5uadpIETM/z//Tn0vh7BZjQrLQE9EMT2FTXyi7gbF3gytXrlgNGjQIaQ/ZALfzSbSBeh5VQUdOwLEIRZ4kIyIarBf8bMwN8PMm6RzaZIHccnO26LKS34gZ7SPyd44fZMDPbmbMmKG/40zJ4+dJTtmRaUko8IgZGQ43cGYuSFfhnljPAFy+Ah3GgkfS9B1E+tA3HyvQQ8fScSEy1yf2H551oO/gJ5Q8u+TKzCoxBtSXP7mVHYmf/+wV69wJ/NcTpDcnTVKUAx0xJ5UzErR2EY3JDV6JVaxYMZEuXbqgiajlQTQGLz1z5syicOHCKnrXyDAv0gkRMp0lcufOLfLmzeubL0yTyY6SC1MgEyBTpyqaRbTsB5AVkT+dUlFngQIF1NMP339FwyNm6RCpyBJzDlGRTLGLkiVLJnrOoT3MC3neKYoXLx5xfL9+/aoyAIjc5MbrqRPo7saNGyqrAt35AekQqraLFCmS4CjVrX3pQAr5fwuIfPnyCUT3foD0i4izYMGCInv27H7Ykp0G44D9Jn369J7fxrzH2ErHTc17ZCz8AtpHdjBnzpwif/78Ii4uzi9rqqaLgxeQqjVgOm80kMI1AMMso1rVS3m25yvlm8JVYrpnNBBoDRjDHOjhMcIZDSReA8YwJ16HpgWjgeTUgDHMyalt8y2jgShowBjmKCjdfNJoIBEaMIY5EcozrEYDsaABbphxW1z+/CcWxDYyGg2kWg0Yw5xqh950PLVoABeycNELgAtUGTNmTC1dN/00GohJDRjDHJPDZoQ2GjAaMBowGkipGjCGOaWOrOmX0YDRgNGA0UBMasAY5pgcNiO00YDRgNGA0UBK1YAxzCl1ZE2/jAaMBowGjAZiUgPGMMfksBmhjQaMBowGjAZSqgaMYU6pI2v6ZTRgNGA0YDQQkxowhjkmh80IbTRgNGA0YDSQUjXwf8HAz/zx2P2JAAAAAElFTkSuQmCC)"
      ]
    },
    {
      "cell_type": "code",
      "metadata": {
        "id": "IbfIn8CFVTzS"
      },
      "source": [
        "bert_clf_model = bert_clf_pipe.fit(train)\n"
      ],
      "execution_count": 64,
      "outputs": []
    },
    {
      "cell_type": "markdown",
      "metadata": {
        "id": "xQIb2GFqhtw-"
      },
      "source": [
        "Now lets see how well the model trained"
      ]
    },
    {
      "cell_type": "code",
      "metadata": {
        "id": "ZxoVfk2phtMe",
        "colab": {
          "base_uri": "https://localhost:8080/"
        },
        "outputId": "6a9b6997-3bff-4584-c763-9db466764011"
      },
      "source": [
        "pred = bert_clf_model.transform(test)\n",
        "\n",
        "pred.select('label','sentence',\"class.result\").show(10, truncate=100)\n",
        "\n",
        "pred_pd = pred.select('label','sentence',\"class.result\").toPandas()\n",
        "\n",
        "pred_pd['result'] = pred_pd['result'].apply(lambda x : x[0])"
      ],
      "execution_count": 65,
      "outputs": [
        {
          "output_type": "stream",
          "text": [
            "+-----+----------------------------------------------------------------------------------------------------+------+\n",
            "|label|                                                                                            sentence|result|\n",
            "+-----+----------------------------------------------------------------------------------------------------+------+\n",
            "|  NEG|[{document, 0, 121, (2) In 8 out of 13 cases without recombinant human EPO treatment before PTX, ...| [NEG]|\n",
            "|  NEG|[{document, 0, 121, 2 months later symptoms had resolved with a control CT of the thorax showing ...| [NEG]|\n",
            "|  NEG|[{document, 0, 64, 2). These findings were characteristic of granular parakeratosis., {sentence -...| [NEG]|\n",
            "|  NEG|[{document, 0, 97, 3 of the 5 previously untreated patients achieved biochemical and bone-marrow ...| [NEG]|\n",
            "|  NEG|[{document, 0, 141, 3. Multiple myeloma and Hodgkin's disease, both of which commonly have good r...| [NEG]|\n",
            "|  NEG|[{document, 0, 164, 5. At least half of the patients developing ANLL experienced long periods of ...| [ADR]|\n",
            "|  NEG|[{document, 0, 70, 5: Movement disorders I: parkinsonism and the akinetic-rigid syndromes., {sent...| [NEG]|\n",
            "|  ADR|[{document, 0, 393, A 10-year-old boy with osteosarcoma and normal renal function manifested labo...| [ADR]|\n",
            "|  NEG|[{document, 0, 118, A 10-year-old girl who presented to our hospital was diagnosed as having B-pr...| [NEG]|\n",
            "|  ADR|[{document, 0, 247, A 14-year-old female developed systemic lupus erythematosus (SLE)-like sympto...| [ADR]|\n",
            "+-----+----------------------------------------------------------------------------------------------------+------+\n",
            "only showing top 10 rows\n",
            "\n"
          ],
          "name": "stdout"
        }
      ]
    },
    {
      "cell_type": "markdown",
      "metadata": {
        "id": "bt3i7QZTiMLI"
      },
      "source": [
        "### Print out the Metrics and Classification Report for the test dataset"
      ]
    },
    {
      "cell_type": "code",
      "metadata": {
        "id": "OjouSIOxiSXp",
        "colab": {
          "base_uri": "https://localhost:8080/"
        },
        "outputId": "627a3632-f5dd-4a6f-a54a-70a0852f585c"
      },
      "source": [
        "from sklearn.metrics import classification_report, confusion_matrix\n",
        "\n",
        "print (classification_report(pred_pd['result'], pred_pd['label']))\n",
        "\n",
        "print(confusion_matrix(pred_pd['result'], pred_pd['label']))"
      ],
      "execution_count": 92,
      "outputs": [
        {
          "output_type": "stream",
          "text": [
            "              precision    recall  f1-score   support\n",
            "\n",
            "         ADR       0.76      0.81      0.78       826\n",
            "         NEG       0.93      0.90      0.91      2141\n",
            "\n",
            "    accuracy                           0.88      2967\n",
            "   macro avg       0.84      0.86      0.85      2967\n",
            "weighted avg       0.88      0.88      0.88      2967\n",
            "\n",
            "[[ 671  155]\n",
            " [ 214 1927]]\n"
          ],
          "name": "stdout"
        }
      ]
    },
    {
      "cell_type": "markdown",
      "metadata": {
        "id": "F5-Mu172k9md"
      },
      "source": [
        "### Now save this model for future use and inferencing"
      ]
    },
    {
      "cell_type": "code",
      "metadata": {
        "id": "T92IgtFBlEQl"
      },
      "source": [
        "bert_clf_model.stages[4].write().overwrite().save('models-1/ADR_DNN_Classifier_model')\n"
      ],
      "execution_count": 67,
      "outputs": []
    },
    {
      "cell_type": "markdown",
      "metadata": {
        "id": "BuxoWo6rvVNg"
      },
      "source": [
        "Inference using our trained model. Need to load it just like a pretrained one and fit and transform."
      ]
    },
    {
      "cell_type": "code",
      "metadata": {
        "id": "NsDj7B32wvwB"
      },
      "source": [
        "adr_load_custom_cslf = ClassifierDLModel().load(\"models-1/ADR_DNN_Classifier_model\")"
      ],
      "execution_count": 68,
      "outputs": []
    },
    {
      "cell_type": "code",
      "metadata": {
        "id": "aSzgLVB20qrf"
      },
      "source": [
        "from pyspark.sql.types import StructType,StructField, StringType\n",
        "schema = StructType([\n",
        "  StructField('text', StringType(), True),\n",
        "  StructField('label', StringType(), True),\n",
        "  ])"
      ],
      "execution_count": 69,
      "outputs": []
    },
    {
      "cell_type": "markdown",
      "metadata": {
        "id": "KD_-Wrmp518M"
      },
      "source": [
        "Need to create an empty dataframe to fit, as we dont want to train. It is already trained, ready to use\n"
      ]
    },
    {
      "cell_type": "code",
      "metadata": {
        "id": "2vIGI_2V52f5",
        "colab": {
          "base_uri": "https://localhost:8080/"
        },
        "outputId": "c2c86eb8-c9b2-439d-baf9-1cce406cda26"
      },
      "source": [
        "emptyRDD = spark.sparkContext.emptyRDD()\n",
        "dummy_df = spark.createDataFrame(emptyRDD,schema)\n",
        "dummy_df.printSchema()"
      ],
      "execution_count": 70,
      "outputs": [
        {
          "output_type": "stream",
          "text": [
            "root\n",
            " |-- text: string (nullable = true)\n",
            " |-- label: string (nullable = true)\n",
            "\n"
          ],
          "name": "stdout"
        }
      ]
    },
    {
      "cell_type": "code",
      "metadata": {
        "id": "XVq3vkZ61KB8"
      },
      "source": [
        "bert_clf_pipe = Pipeline(\n",
        "      stages = [\n",
        "        assembler,\n",
        "        tokenizer,\n",
        "        bert_embeddings,\n",
        "        sentence_embeddings,\n",
        "        adr_load_custom_cslf\n",
        "    ])"
      ],
      "execution_count": 71,
      "outputs": []
    },
    {
      "cell_type": "code",
      "metadata": {
        "id": "VXvJ5ZUFz35T"
      },
      "source": [
        "adr_load_model = bert_clf_pipe.fit(dummy_df)\n"
      ],
      "execution_count": 72,
      "outputs": []
    },
    {
      "cell_type": "markdown",
      "metadata": {
        "id": "sEm7_KRd40xg"
      },
      "source": [
        "Now predict on the model we trained, saved and loaded"
      ]
    },
    {
      "cell_type": "code",
      "metadata": {
        "colab": {
          "base_uri": "https://localhost:8080/"
        },
        "id": "zBLbTREs40Ja",
        "outputId": "49869c55-ec10-4930-a878-cc0816b5698a"
      },
      "source": [
        "pred = adr_load_model.transform(test)\n",
        "\n",
        "pred.select('label','sentence',\"class.result\").show(10, truncate=100)\n",
        "\n",
        "pred_pd = pred.select('label','sentence',\"class.result\").toPandas()\n",
        "\n",
        "pred_pd['result'] = pred_pd['result'].apply(lambda x : x[0])"
      ],
      "execution_count": 73,
      "outputs": [
        {
          "output_type": "stream",
          "text": [
            "+-----+----------------------------------------------------------------------------------------------------+------+\n",
            "|label|                                                                                            sentence|result|\n",
            "+-----+----------------------------------------------------------------------------------------------------+------+\n",
            "|  NEG|[{document, 0, 121, (2) In 8 out of 13 cases without recombinant human EPO treatment before PTX, ...| [NEG]|\n",
            "|  NEG|[{document, 0, 121, 2 months later symptoms had resolved with a control CT of the thorax showing ...| [NEG]|\n",
            "|  NEG|[{document, 0, 64, 2). These findings were characteristic of granular parakeratosis., {sentence -...| [NEG]|\n",
            "|  NEG|[{document, 0, 97, 3 of the 5 previously untreated patients achieved biochemical and bone-marrow ...| [NEG]|\n",
            "|  NEG|[{document, 0, 141, 3. Multiple myeloma and Hodgkin's disease, both of which commonly have good r...| [NEG]|\n",
            "|  NEG|[{document, 0, 164, 5. At least half of the patients developing ANLL experienced long periods of ...| [ADR]|\n",
            "|  NEG|[{document, 0, 70, 5: Movement disorders I: parkinsonism and the akinetic-rigid syndromes., {sent...| [NEG]|\n",
            "|  ADR|[{document, 0, 393, A 10-year-old boy with osteosarcoma and normal renal function manifested labo...| [ADR]|\n",
            "|  NEG|[{document, 0, 118, A 10-year-old girl who presented to our hospital was diagnosed as having B-pr...| [NEG]|\n",
            "|  ADR|[{document, 0, 247, A 14-year-old female developed systemic lupus erythematosus (SLE)-like sympto...| [ADR]|\n",
            "+-----+----------------------------------------------------------------------------------------------------+------+\n",
            "only showing top 10 rows\n",
            "\n"
          ],
          "name": "stdout"
        }
      ]
    },
    {
      "cell_type": "code",
      "metadata": {
        "colab": {
          "base_uri": "https://localhost:8080/"
        },
        "id": "bXPTd2545Ojj",
        "outputId": "4270a6ef-931e-4ae6-b53a-40624b5b0a9d"
      },
      "source": [
        "from sklearn.metrics import classification_report, confusion_matrix\n",
        "\n",
        "print (classification_report(pred_pd['result'], pred_pd['label']))\n",
        "\n",
        "print(confusion_matrix(pred_pd['result'], pred_pd['label']))"
      ],
      "execution_count": 93,
      "outputs": [
        {
          "output_type": "stream",
          "text": [
            "              precision    recall  f1-score   support\n",
            "\n",
            "         ADR       0.76      0.81      0.78       826\n",
            "         NEG       0.93      0.90      0.91      2141\n",
            "\n",
            "    accuracy                           0.88      2967\n",
            "   macro avg       0.84      0.86      0.85      2967\n",
            "weighted avg       0.88      0.88      0.88      2967\n",
            "\n",
            "[[ 671  155]\n",
            " [ 214 1927]]\n"
          ],
          "name": "stdout"
        }
      ]
    },
    {
      "cell_type": "markdown",
      "metadata": {
        "id": "bdvhpLWBAzaX"
      },
      "source": [
        "### Individual text inference  (Single Sentences)"
      ]
    },
    {
      "cell_type": "code",
      "metadata": {
        "id": "USaIJbF0CkFl",
        "colab": {
          "base_uri": "https://localhost:8080/"
        },
        "outputId": "0eaa0cb4-2f2a-4903-b331-6fb1f773305b"
      },
      "source": [
        "light_model = LightPipeline(adr_load_model)\n",
        "\n",
        "result = light_model.fullAnnotate(\"A fatal massive pulmonary embolus developed in a patient treated with streptokinase for acute deep vein thrombosis\")[0]\n",
        "print( \"The clinical statement is classified as - \" ,result['class'][0].result)"
      ],
      "execution_count": 95,
      "outputs": [
        {
          "output_type": "stream",
          "text": [
            "The clinical statement is classified as -  NEG\n"
          ],
          "name": "stdout"
        }
      ]
    },
    {
      "cell_type": "code",
      "metadata": {
        "colab": {
          "base_uri": "https://localhost:8080/"
        },
        "id": "PTB2jEq09b83",
        "outputId": "99846afe-094f-4c98-86a0-8534d45bb6d0"
      },
      "source": [
        "light_model = LightPipeline(adr_load_model)\n",
        "\n",
        "result = light_model.fullAnnotate(\"A young woman with epilepsy had tonic-clonic seizures during antineoplastic therapy with adriamycin and cisplatin.\")[0]\n",
        "print( \"The clinical statement is classified as - \" ,result['class'][0].result)"
      ],
      "execution_count": 76,
      "outputs": [
        {
          "output_type": "stream",
          "text": [
            "The clinical statement is classified as -  ADR\n"
          ],
          "name": "stdout"
        }
      ]
    },
    {
      "cell_type": "code",
      "metadata": {
        "colab": {
          "base_uri": "https://localhost:8080/"
        },
        "id": "TUx7P1Zl9nGi",
        "outputId": "3651780c-955e-412b-a184-b28a2d07d05f"
      },
      "source": [
        "light_model = LightPipeline(adr_load_model)\n",
        "\n",
        "result = light_model.fullAnnotate(\"Toxicity, pharmacokinetics, and in vitro hemodialysis clearance of ifosfamide and metabolites in an anephric pediatric patient with Wilms' tumor.\")[0]\n",
        "print( \"The clinical statement is classified as - \" ,result['class'][0].result)"
      ],
      "execution_count": 97,
      "outputs": [
        {
          "output_type": "stream",
          "text": [
            "The clinical statement is classified as -  ADR\n"
          ],
          "name": "stdout"
        }
      ]
    },
    {
      "cell_type": "code",
      "metadata": {
        "colab": {
          "base_uri": "https://localhost:8080/"
        },
        "id": "ZmGifWhs9rvn",
        "outputId": "8795fbd0-ad40-4fbd-b126-beeff546eb25"
      },
      "source": [
        "light_model = LightPipeline(adr_load_model)\n",
        "\n",
        "result = light_model.fullAnnotate(\"Hepatic reactions to cyclofenil.\")[0]\n",
        "print( \"The clinical statement is classified as - \" ,result['class'][0].result)"
      ],
      "execution_count": 94,
      "outputs": [
        {
          "output_type": "stream",
          "text": [
            "The clinical statement is classified as -  ADR\n"
          ],
          "name": "stdout"
        }
      ]
    },
    {
      "cell_type": "code",
      "metadata": {
        "colab": {
          "base_uri": "https://localhost:8080/"
        },
        "id": "Q7fANFYR9-7t",
        "outputId": "01bfd65b-8282-4e7b-a46d-d2e79a33d6d9"
      },
      "source": [
        "light_model = LightPipeline(adr_load_model)\n",
        "\n",
        "result = light_model.fullAnnotate(\"onset of headache and naussea 10 minutes after talking allergy medicine claritin\")[0]\n",
        "print( \"The clinical statement is classified as - \" ,result['class'][0].result)"
      ],
      "execution_count": 98,
      "outputs": [
        {
          "output_type": "stream",
          "text": [
            "The clinical statement is classified as -  ADR\n"
          ],
          "name": "stdout"
        }
      ]
    }
  ]
}